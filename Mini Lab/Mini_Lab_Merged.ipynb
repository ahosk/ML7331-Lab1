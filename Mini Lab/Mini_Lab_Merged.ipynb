{
 "cells": [
  {
   "cell_type": "markdown",
   "id": "8f4822a8-1687-4931-abe7-964bcbcbe468",
   "metadata": {
    "tags": []
   },
   "source": [
    "The below cells of code are used to create a Logistic Regression model to predict if a flight out of an aiport with the US will be delayed or not. The first cell of code imports needed packages."
   ]
  },
  {
   "cell_type": "code",
   "execution_count": 1,
   "id": "6c8d9b3f-d1ef-4700-9839-10ede48e17b7",
   "metadata": {},
   "outputs": [],
   "source": [
    "import pandas as pd\n",
    "import matplotlib.pyplot as plt\n",
    "import numpy as np\n",
    "from numpy import mean\n",
    "from numpy import std\n",
    "import seaborn as sns\n",
    "import sklearn as skl\n",
    "from sklearn.preprocessing import OneHotEncoder\n",
    "from sklearn.model_selection import train_test_split\n",
    "from sklearn.linear_model import LogisticRegression,SGDClassifier\n",
    "from sklearn.preprocessing import RobustScaler\n",
    "from sklearn.metrics import confusion_matrix\n",
    "from sklearn.decomposition import PCA\n",
    "from sklearn import metrics\n",
    "from sklearn.svm import SVC\n",
    "from sklearn.pipeline import Pipeline\n",
    "from sklearn.model_selection import GridSearchCV\n",
    "import time\n",
    "\n",
    "import lightgbm as lgb\n",
    "\n",
    "import warnings"
   ]
  },
  {
   "cell_type": "code",
   "execution_count": 2,
   "id": "ffcbd51d-4634-4515-93f5-8494c13368f9",
   "metadata": {},
   "outputs": [],
   "source": [
    "warnings.filterwarnings(\"ignore\")"
   ]
  },
  {
   "cell_type": "code",
   "execution_count": 3,
   "id": "41957992-6853-46ac-8d43-d305afb4cd07",
   "metadata": {},
   "outputs": [],
   "source": [
    "df = pd.read_csv(r'/Users/allen/Desktop/MSDS/ML1/archive/airline_merged.csv',low_memory=False)"
   ]
  },
  {
   "cell_type": "code",
   "execution_count": 4,
   "id": "4c54cd49-65bb-4da1-a6eb-490dba1c5201",
   "metadata": {},
   "outputs": [],
   "source": [
    "pd.set_option('display.max_columns', None)"
   ]
  },
  {
   "cell_type": "markdown",
   "id": "ae5b0924-0abe-4e64-a918-58c791aa31f1",
   "metadata": {},
   "source": [
    "After importing the merged file, airline_merged.csv, that was created in the ipynb file, airline_files_merge, we needed to remove the addditional column(Unnamed: 0) that is added in the export. "
   ]
  },
  {
   "cell_type": "code",
   "execution_count": 5,
   "id": "cc1c11cd-01fe-45ba-8c38-cc2377490bf1",
   "metadata": {},
   "outputs": [],
   "source": [
    "#removing unwanted column from previous export\n",
    "df = df.drop(columns =['Unnamed: 0'],axis =1)"
   ]
  },
  {
   "cell_type": "markdown",
   "id": "003edab6-f19a-4a28-9191-15ca78f7b4b3",
   "metadata": {},
   "source": [
    "The below cell creates a correlation matrix using all of the numerical columns and removes any column that has a correlation coeffecient that is greater than 0.90. This will eventually help decrease the amount of columns that are used in the model and help with any assumptions that need to be met."
   ]
  },
  {
   "cell_type": "code",
   "execution_count": 6,
   "id": "70c6aa9e-61b0-4d87-9822-180d5faf4178",
   "metadata": {},
   "outputs": [],
   "source": [
    "#dropping highly correlated columns\n",
    "#https://www.codegrepper.com/code-examples/python/how+to+drop+highly+correlated+features\n",
    "# Create correlation matrix\n",
    "corr_matrix = df.corr().abs()\n",
    "\n",
    "# Select upper triangle of correlation matrix\n",
    "upper = corr_matrix.where(np.triu(np.ones(corr_matrix.shape), k=1).astype(np.bool_))\n",
    "\n",
    "# Find index of feature columns with correlation greater than 0.90\n",
    "to_drop = [column for column in upper.columns if any(upper[column] > 0.90)]\n",
    "\n",
    "df = df.drop(columns = to_drop, axis=1)"
   ]
  },
  {
   "cell_type": "code",
   "execution_count": 7,
   "id": "6ca28135-23ba-49b4-a3b3-c0d0c301317a",
   "metadata": {},
   "outputs": [
    {
     "data": {
      "text/html": [
       "<div>\n",
       "<style scoped>\n",
       "    .dataframe tbody tr th:only-of-type {\n",
       "        vertical-align: middle;\n",
       "    }\n",
       "\n",
       "    .dataframe tbody tr th {\n",
       "        vertical-align: top;\n",
       "    }\n",
       "\n",
       "    .dataframe thead th {\n",
       "        text-align: right;\n",
       "    }\n",
       "</style>\n",
       "<table border=\"1\" class=\"dataframe\">\n",
       "  <thead>\n",
       "    <tr style=\"text-align: right;\">\n",
       "      <th></th>\n",
       "      <th>year</th>\n",
       "      <th>month</th>\n",
       "      <th>day</th>\n",
       "      <th>day_of_week</th>\n",
       "      <th>airline_cd</th>\n",
       "      <th>airline_name</th>\n",
       "      <th>flight_number</th>\n",
       "      <th>tail_number</th>\n",
       "      <th>origin_airport</th>\n",
       "      <th>airport_origin</th>\n",
       "      <th>city_origin</th>\n",
       "      <th>state_origin</th>\n",
       "      <th>country_origin</th>\n",
       "      <th>latitude_origin</th>\n",
       "      <th>longitude_origin</th>\n",
       "      <th>destination_airport</th>\n",
       "      <th>airport_destination</th>\n",
       "      <th>city_destination</th>\n",
       "      <th>state_destination</th>\n",
       "      <th>country_destination</th>\n",
       "      <th>latitude_destination</th>\n",
       "      <th>longitude_destination</th>\n",
       "      <th>scheduled_departure</th>\n",
       "      <th>departure_delay</th>\n",
       "      <th>taxi_out</th>\n",
       "      <th>scheduled_time</th>\n",
       "      <th>wheels_on</th>\n",
       "      <th>taxi_in</th>\n",
       "      <th>scheduled_arrival</th>\n",
       "      <th>diverted</th>\n",
       "      <th>cancelled</th>\n",
       "      <th>cancellation_reason</th>\n",
       "      <th>air_system_delay</th>\n",
       "      <th>security_delay</th>\n",
       "      <th>airline_delay</th>\n",
       "      <th>late_aircraft_delay</th>\n",
       "      <th>weather_delay</th>\n",
       "    </tr>\n",
       "  </thead>\n",
       "  <tbody>\n",
       "    <tr>\n",
       "      <th>0</th>\n",
       "      <td>2015</td>\n",
       "      <td>1</td>\n",
       "      <td>1</td>\n",
       "      <td>4</td>\n",
       "      <td>AS</td>\n",
       "      <td>Alaska Airlines Inc.</td>\n",
       "      <td>98</td>\n",
       "      <td>N407AS</td>\n",
       "      <td>ANC</td>\n",
       "      <td>Ted Stevens Anchorage International Airport</td>\n",
       "      <td>Anchorage</td>\n",
       "      <td>AK</td>\n",
       "      <td>USA</td>\n",
       "      <td>61.17432</td>\n",
       "      <td>-149.99619</td>\n",
       "      <td>SEA</td>\n",
       "      <td>Seattle-Tacoma International Airport</td>\n",
       "      <td>Seattle</td>\n",
       "      <td>WA</td>\n",
       "      <td>USA</td>\n",
       "      <td>47.44898</td>\n",
       "      <td>-122.30931</td>\n",
       "      <td>5</td>\n",
       "      <td>-11.0</td>\n",
       "      <td>21.0</td>\n",
       "      <td>205.0</td>\n",
       "      <td>404.0</td>\n",
       "      <td>4.0</td>\n",
       "      <td>430</td>\n",
       "      <td>0</td>\n",
       "      <td>0</td>\n",
       "      <td>NaN</td>\n",
       "      <td>NaN</td>\n",
       "      <td>NaN</td>\n",
       "      <td>NaN</td>\n",
       "      <td>NaN</td>\n",
       "      <td>NaN</td>\n",
       "    </tr>\n",
       "    <tr>\n",
       "      <th>1</th>\n",
       "      <td>2015</td>\n",
       "      <td>1</td>\n",
       "      <td>1</td>\n",
       "      <td>4</td>\n",
       "      <td>AA</td>\n",
       "      <td>American Airlines Inc.</td>\n",
       "      <td>2336</td>\n",
       "      <td>N3KUAA</td>\n",
       "      <td>LAX</td>\n",
       "      <td>Los Angeles International Airport</td>\n",
       "      <td>Los Angeles</td>\n",
       "      <td>CA</td>\n",
       "      <td>USA</td>\n",
       "      <td>33.94254</td>\n",
       "      <td>-118.40807</td>\n",
       "      <td>PBI</td>\n",
       "      <td>Palm Beach International Airport</td>\n",
       "      <td>West Palm Beach</td>\n",
       "      <td>FL</td>\n",
       "      <td>USA</td>\n",
       "      <td>26.68316</td>\n",
       "      <td>-80.09559</td>\n",
       "      <td>10</td>\n",
       "      <td>-8.0</td>\n",
       "      <td>12.0</td>\n",
       "      <td>280.0</td>\n",
       "      <td>737.0</td>\n",
       "      <td>4.0</td>\n",
       "      <td>750</td>\n",
       "      <td>0</td>\n",
       "      <td>0</td>\n",
       "      <td>NaN</td>\n",
       "      <td>NaN</td>\n",
       "      <td>NaN</td>\n",
       "      <td>NaN</td>\n",
       "      <td>NaN</td>\n",
       "      <td>NaN</td>\n",
       "    </tr>\n",
       "    <tr>\n",
       "      <th>2</th>\n",
       "      <td>2015</td>\n",
       "      <td>1</td>\n",
       "      <td>1</td>\n",
       "      <td>4</td>\n",
       "      <td>US</td>\n",
       "      <td>US Airways Inc.</td>\n",
       "      <td>840</td>\n",
       "      <td>N171US</td>\n",
       "      <td>SFO</td>\n",
       "      <td>San Francisco International Airport</td>\n",
       "      <td>San Francisco</td>\n",
       "      <td>CA</td>\n",
       "      <td>USA</td>\n",
       "      <td>37.61900</td>\n",
       "      <td>-122.37484</td>\n",
       "      <td>CLT</td>\n",
       "      <td>Charlotte Douglas International Airport</td>\n",
       "      <td>Charlotte</td>\n",
       "      <td>NC</td>\n",
       "      <td>USA</td>\n",
       "      <td>35.21401</td>\n",
       "      <td>-80.94313</td>\n",
       "      <td>20</td>\n",
       "      <td>-2.0</td>\n",
       "      <td>16.0</td>\n",
       "      <td>286.0</td>\n",
       "      <td>800.0</td>\n",
       "      <td>11.0</td>\n",
       "      <td>806</td>\n",
       "      <td>0</td>\n",
       "      <td>0</td>\n",
       "      <td>NaN</td>\n",
       "      <td>NaN</td>\n",
       "      <td>NaN</td>\n",
       "      <td>NaN</td>\n",
       "      <td>NaN</td>\n",
       "      <td>NaN</td>\n",
       "    </tr>\n",
       "    <tr>\n",
       "      <th>3</th>\n",
       "      <td>2015</td>\n",
       "      <td>1</td>\n",
       "      <td>1</td>\n",
       "      <td>4</td>\n",
       "      <td>AA</td>\n",
       "      <td>American Airlines Inc.</td>\n",
       "      <td>258</td>\n",
       "      <td>N3HYAA</td>\n",
       "      <td>LAX</td>\n",
       "      <td>Los Angeles International Airport</td>\n",
       "      <td>Los Angeles</td>\n",
       "      <td>CA</td>\n",
       "      <td>USA</td>\n",
       "      <td>33.94254</td>\n",
       "      <td>-118.40807</td>\n",
       "      <td>MIA</td>\n",
       "      <td>Miami International Airport</td>\n",
       "      <td>Miami</td>\n",
       "      <td>FL</td>\n",
       "      <td>USA</td>\n",
       "      <td>25.79325</td>\n",
       "      <td>-80.29056</td>\n",
       "      <td>20</td>\n",
       "      <td>-5.0</td>\n",
       "      <td>15.0</td>\n",
       "      <td>285.0</td>\n",
       "      <td>748.0</td>\n",
       "      <td>8.0</td>\n",
       "      <td>805</td>\n",
       "      <td>0</td>\n",
       "      <td>0</td>\n",
       "      <td>NaN</td>\n",
       "      <td>NaN</td>\n",
       "      <td>NaN</td>\n",
       "      <td>NaN</td>\n",
       "      <td>NaN</td>\n",
       "      <td>NaN</td>\n",
       "    </tr>\n",
       "    <tr>\n",
       "      <th>4</th>\n",
       "      <td>2015</td>\n",
       "      <td>1</td>\n",
       "      <td>1</td>\n",
       "      <td>4</td>\n",
       "      <td>AS</td>\n",
       "      <td>Alaska Airlines Inc.</td>\n",
       "      <td>135</td>\n",
       "      <td>N527AS</td>\n",
       "      <td>SEA</td>\n",
       "      <td>Seattle-Tacoma International Airport</td>\n",
       "      <td>Seattle</td>\n",
       "      <td>WA</td>\n",
       "      <td>USA</td>\n",
       "      <td>47.44898</td>\n",
       "      <td>-122.30931</td>\n",
       "      <td>ANC</td>\n",
       "      <td>Ted Stevens Anchorage International Airport</td>\n",
       "      <td>Anchorage</td>\n",
       "      <td>AK</td>\n",
       "      <td>USA</td>\n",
       "      <td>61.17432</td>\n",
       "      <td>-149.99619</td>\n",
       "      <td>25</td>\n",
       "      <td>-1.0</td>\n",
       "      <td>11.0</td>\n",
       "      <td>235.0</td>\n",
       "      <td>254.0</td>\n",
       "      <td>5.0</td>\n",
       "      <td>320</td>\n",
       "      <td>0</td>\n",
       "      <td>0</td>\n",
       "      <td>NaN</td>\n",
       "      <td>NaN</td>\n",
       "      <td>NaN</td>\n",
       "      <td>NaN</td>\n",
       "      <td>NaN</td>\n",
       "      <td>NaN</td>\n",
       "    </tr>\n",
       "  </tbody>\n",
       "</table>\n",
       "</div>"
      ],
      "text/plain": [
       "   year  month  day  day_of_week airline_cd            airline_name  \\\n",
       "0  2015      1    1            4         AS    Alaska Airlines Inc.   \n",
       "1  2015      1    1            4         AA  American Airlines Inc.   \n",
       "2  2015      1    1            4         US         US Airways Inc.   \n",
       "3  2015      1    1            4         AA  American Airlines Inc.   \n",
       "4  2015      1    1            4         AS    Alaska Airlines Inc.   \n",
       "\n",
       "   flight_number tail_number origin_airport  \\\n",
       "0             98      N407AS            ANC   \n",
       "1           2336      N3KUAA            LAX   \n",
       "2            840      N171US            SFO   \n",
       "3            258      N3HYAA            LAX   \n",
       "4            135      N527AS            SEA   \n",
       "\n",
       "                                airport_origin    city_origin state_origin  \\\n",
       "0  Ted Stevens Anchorage International Airport      Anchorage           AK   \n",
       "1            Los Angeles International Airport    Los Angeles           CA   \n",
       "2          San Francisco International Airport  San Francisco           CA   \n",
       "3            Los Angeles International Airport    Los Angeles           CA   \n",
       "4         Seattle-Tacoma International Airport        Seattle           WA   \n",
       "\n",
       "  country_origin  latitude_origin  longitude_origin destination_airport  \\\n",
       "0            USA         61.17432        -149.99619                 SEA   \n",
       "1            USA         33.94254        -118.40807                 PBI   \n",
       "2            USA         37.61900        -122.37484                 CLT   \n",
       "3            USA         33.94254        -118.40807                 MIA   \n",
       "4            USA         47.44898        -122.30931                 ANC   \n",
       "\n",
       "                           airport_destination city_destination  \\\n",
       "0         Seattle-Tacoma International Airport          Seattle   \n",
       "1             Palm Beach International Airport  West Palm Beach   \n",
       "2      Charlotte Douglas International Airport        Charlotte   \n",
       "3                  Miami International Airport            Miami   \n",
       "4  Ted Stevens Anchorage International Airport        Anchorage   \n",
       "\n",
       "  state_destination country_destination  latitude_destination  \\\n",
       "0                WA                 USA              47.44898   \n",
       "1                FL                 USA              26.68316   \n",
       "2                NC                 USA              35.21401   \n",
       "3                FL                 USA              25.79325   \n",
       "4                AK                 USA              61.17432   \n",
       "\n",
       "   longitude_destination  scheduled_departure  departure_delay  taxi_out  \\\n",
       "0             -122.30931                    5            -11.0      21.0   \n",
       "1              -80.09559                   10             -8.0      12.0   \n",
       "2              -80.94313                   20             -2.0      16.0   \n",
       "3              -80.29056                   20             -5.0      15.0   \n",
       "4             -149.99619                   25             -1.0      11.0   \n",
       "\n",
       "   scheduled_time  wheels_on  taxi_in  scheduled_arrival  diverted  cancelled  \\\n",
       "0           205.0      404.0      4.0                430         0          0   \n",
       "1           280.0      737.0      4.0                750         0          0   \n",
       "2           286.0      800.0     11.0                806         0          0   \n",
       "3           285.0      748.0      8.0                805         0          0   \n",
       "4           235.0      254.0      5.0                320         0          0   \n",
       "\n",
       "  cancellation_reason  air_system_delay  security_delay  airline_delay  \\\n",
       "0                 NaN               NaN             NaN            NaN   \n",
       "1                 NaN               NaN             NaN            NaN   \n",
       "2                 NaN               NaN             NaN            NaN   \n",
       "3                 NaN               NaN             NaN            NaN   \n",
       "4                 NaN               NaN             NaN            NaN   \n",
       "\n",
       "   late_aircraft_delay  weather_delay  \n",
       "0                  NaN            NaN  \n",
       "1                  NaN            NaN  \n",
       "2                  NaN            NaN  \n",
       "3                  NaN            NaN  \n",
       "4                  NaN            NaN  "
      ]
     },
     "execution_count": 7,
     "metadata": {},
     "output_type": "execute_result"
    }
   ],
   "source": [
    "#looking at dataframe after removing highly correlated fields.\n",
    "df.head()"
   ]
  },
  {
   "cell_type": "markdown",
   "id": "b751ac87-4f1a-4a33-a7f6-41fef05a5328",
   "metadata": {},
   "source": [
    "Since the data set is quite large and personal laptops will struggle to churn through the amount of rows and columns, we decided to filter down the data to Dallas-Fort Worth International Airport. This decreased the data frame size from almost 6 million rows to just under 240k rows and also helped with the one hot encoding below."
   ]
  },
  {
   "cell_type": "code",
   "execution_count": 8,
   "id": "ab215088-7f4a-45d0-a590-d5ac39b00478",
   "metadata": {},
   "outputs": [],
   "source": [
    "#selecting subset of data set\n",
    "airports = ['BHM']"
   ]
  },
  {
   "cell_type": "code",
   "execution_count": 9,
   "id": "6cbd612c-82e1-49b6-ac06-68850cb5bfcd",
   "metadata": {},
   "outputs": [],
   "source": [
    "df_air = df.loc[df['origin_airport'].isin(airports)]"
   ]
  },
  {
   "cell_type": "code",
   "execution_count": 10,
   "id": "f6eac4a2-5150-4694-8d3b-d421764b6df0",
   "metadata": {},
   "outputs": [
    {
     "data": {
      "text/html": [
       "<div>\n",
       "<style scoped>\n",
       "    .dataframe tbody tr th:only-of-type {\n",
       "        vertical-align: middle;\n",
       "    }\n",
       "\n",
       "    .dataframe tbody tr th {\n",
       "        vertical-align: top;\n",
       "    }\n",
       "\n",
       "    .dataframe thead th {\n",
       "        text-align: right;\n",
       "    }\n",
       "</style>\n",
       "<table border=\"1\" class=\"dataframe\">\n",
       "  <thead>\n",
       "    <tr style=\"text-align: right;\">\n",
       "      <th></th>\n",
       "      <th>year</th>\n",
       "      <th>month</th>\n",
       "      <th>day</th>\n",
       "      <th>day_of_week</th>\n",
       "      <th>flight_number</th>\n",
       "      <th>latitude_origin</th>\n",
       "      <th>longitude_origin</th>\n",
       "      <th>latitude_destination</th>\n",
       "      <th>longitude_destination</th>\n",
       "      <th>scheduled_departure</th>\n",
       "      <th>departure_delay</th>\n",
       "      <th>taxi_out</th>\n",
       "      <th>scheduled_time</th>\n",
       "      <th>wheels_on</th>\n",
       "      <th>taxi_in</th>\n",
       "      <th>scheduled_arrival</th>\n",
       "      <th>diverted</th>\n",
       "      <th>cancelled</th>\n",
       "      <th>air_system_delay</th>\n",
       "      <th>security_delay</th>\n",
       "      <th>airline_delay</th>\n",
       "      <th>late_aircraft_delay</th>\n",
       "      <th>weather_delay</th>\n",
       "    </tr>\n",
       "  </thead>\n",
       "  <tbody>\n",
       "    <tr>\n",
       "      <th>count</th>\n",
       "      <td>12514.0</td>\n",
       "      <td>12514.000000</td>\n",
       "      <td>12514.000000</td>\n",
       "      <td>12514.000000</td>\n",
       "      <td>12514.000000</td>\n",
       "      <td>1.251400e+04</td>\n",
       "      <td>1.251400e+04</td>\n",
       "      <td>12514.000000</td>\n",
       "      <td>12514.000000</td>\n",
       "      <td>12514.000000</td>\n",
       "      <td>12338.000000</td>\n",
       "      <td>12334.000000</td>\n",
       "      <td>12514.000000</td>\n",
       "      <td>12324.000000</td>\n",
       "      <td>12324.000000</td>\n",
       "      <td>12514.000000</td>\n",
       "      <td>12514.000000</td>\n",
       "      <td>12514.000000</td>\n",
       "      <td>2128.000000</td>\n",
       "      <td>2128.000000</td>\n",
       "      <td>2128.000000</td>\n",
       "      <td>2128.000000</td>\n",
       "      <td>2128.000000</td>\n",
       "    </tr>\n",
       "    <tr>\n",
       "      <th>mean</th>\n",
       "      <td>2015.0</td>\n",
       "      <td>6.150951</td>\n",
       "      <td>15.687710</td>\n",
       "      <td>3.879575</td>\n",
       "      <td>2876.476346</td>\n",
       "      <td>3.356294e+01</td>\n",
       "      <td>-8.675355e+01</td>\n",
       "      <td>34.252718</td>\n",
       "      <td>-88.175001</td>\n",
       "      <td>1192.116909</td>\n",
       "      <td>9.032906</td>\n",
       "      <td>13.783525</td>\n",
       "      <td>108.121864</td>\n",
       "      <td>1399.118306</td>\n",
       "      <td>8.632587</td>\n",
       "      <td>1416.011507</td>\n",
       "      <td>0.004075</td>\n",
       "      <td>0.014464</td>\n",
       "      <td>14.805921</td>\n",
       "      <td>0.091635</td>\n",
       "      <td>20.292293</td>\n",
       "      <td>27.732613</td>\n",
       "      <td>2.580827</td>\n",
       "    </tr>\n",
       "    <tr>\n",
       "      <th>std</th>\n",
       "      <td>0.0</td>\n",
       "      <td>3.384375</td>\n",
       "      <td>8.763785</td>\n",
       "      <td>1.992624</td>\n",
       "      <td>1951.952017</td>\n",
       "      <td>7.787860e-12</td>\n",
       "      <td>1.647104e-11</td>\n",
       "      <td>4.990106</td>\n",
       "      <td>8.325266</td>\n",
       "      <td>445.126945</td>\n",
       "      <td>43.869223</td>\n",
       "      <td>7.389709</td>\n",
       "      <td>36.974468</td>\n",
       "      <td>458.707388</td>\n",
       "      <td>5.844535</td>\n",
       "      <td>443.946518</td>\n",
       "      <td>0.063711</td>\n",
       "      <td>0.119397</td>\n",
       "      <td>32.820428</td>\n",
       "      <td>3.167858</td>\n",
       "      <td>73.036267</td>\n",
       "      <td>47.048389</td>\n",
       "      <td>16.190917</td>\n",
       "    </tr>\n",
       "    <tr>\n",
       "      <th>min</th>\n",
       "      <td>2015.0</td>\n",
       "      <td>1.000000</td>\n",
       "      <td>1.000000</td>\n",
       "      <td>1.000000</td>\n",
       "      <td>3.000000</td>\n",
       "      <td>3.356294e+01</td>\n",
       "      <td>-8.675355e+01</td>\n",
       "      <td>25.793250</td>\n",
       "      <td>-115.152330</td>\n",
       "      <td>500.000000</td>\n",
       "      <td>-20.000000</td>\n",
       "      <td>4.000000</td>\n",
       "      <td>52.000000</td>\n",
       "      <td>3.000000</td>\n",
       "      <td>1.000000</td>\n",
       "      <td>707.000000</td>\n",
       "      <td>0.000000</td>\n",
       "      <td>0.000000</td>\n",
       "      <td>0.000000</td>\n",
       "      <td>0.000000</td>\n",
       "      <td>0.000000</td>\n",
       "      <td>0.000000</td>\n",
       "      <td>0.000000</td>\n",
       "    </tr>\n",
       "    <tr>\n",
       "      <th>25%</th>\n",
       "      <td>2015.0</td>\n",
       "      <td>3.000000</td>\n",
       "      <td>8.000000</td>\n",
       "      <td>2.000000</td>\n",
       "      <td>1051.000000</td>\n",
       "      <td>3.356294e+01</td>\n",
       "      <td>-8.675355e+01</td>\n",
       "      <td>29.980470</td>\n",
       "      <td>-95.339720</td>\n",
       "      <td>745.000000</td>\n",
       "      <td>-5.000000</td>\n",
       "      <td>9.000000</td>\n",
       "      <td>76.000000</td>\n",
       "      <td>952.000000</td>\n",
       "      <td>5.000000</td>\n",
       "      <td>1009.000000</td>\n",
       "      <td>0.000000</td>\n",
       "      <td>0.000000</td>\n",
       "      <td>0.000000</td>\n",
       "      <td>0.000000</td>\n",
       "      <td>0.000000</td>\n",
       "      <td>0.000000</td>\n",
       "      <td>0.000000</td>\n",
       "    </tr>\n",
       "    <tr>\n",
       "      <th>50%</th>\n",
       "      <td>2015.0</td>\n",
       "      <td>6.000000</td>\n",
       "      <td>16.000000</td>\n",
       "      <td>4.000000</td>\n",
       "      <td>2525.000000</td>\n",
       "      <td>3.356294e+01</td>\n",
       "      <td>-8.675355e+01</td>\n",
       "      <td>33.640440</td>\n",
       "      <td>-84.426940</td>\n",
       "      <td>1200.000000</td>\n",
       "      <td>-2.000000</td>\n",
       "      <td>12.000000</td>\n",
       "      <td>113.000000</td>\n",
       "      <td>1402.000000</td>\n",
       "      <td>7.000000</td>\n",
       "      <td>1414.000000</td>\n",
       "      <td>0.000000</td>\n",
       "      <td>0.000000</td>\n",
       "      <td>3.000000</td>\n",
       "      <td>0.000000</td>\n",
       "      <td>0.000000</td>\n",
       "      <td>9.000000</td>\n",
       "      <td>0.000000</td>\n",
       "    </tr>\n",
       "    <tr>\n",
       "      <th>75%</th>\n",
       "      <td>2015.0</td>\n",
       "      <td>9.000000</td>\n",
       "      <td>23.000000</td>\n",
       "      <td>5.000000</td>\n",
       "      <td>4592.000000</td>\n",
       "      <td>3.356294e+01</td>\n",
       "      <td>-8.675355e+01</td>\n",
       "      <td>39.175400</td>\n",
       "      <td>-83.348840</td>\n",
       "      <td>1609.000000</td>\n",
       "      <td>4.000000</td>\n",
       "      <td>16.000000</td>\n",
       "      <td>123.000000</td>\n",
       "      <td>1823.000000</td>\n",
       "      <td>10.000000</td>\n",
       "      <td>1825.000000</td>\n",
       "      <td>0.000000</td>\n",
       "      <td>0.000000</td>\n",
       "      <td>18.000000</td>\n",
       "      <td>0.000000</td>\n",
       "      <td>10.000000</td>\n",
       "      <td>34.000000</td>\n",
       "      <td>0.000000</td>\n",
       "    </tr>\n",
       "    <tr>\n",
       "      <th>max</th>\n",
       "      <td>2015.0</td>\n",
       "      <td>12.000000</td>\n",
       "      <td>31.000000</td>\n",
       "      <td>7.000000</td>\n",
       "      <td>6813.000000</td>\n",
       "      <td>3.356294e+01</td>\n",
       "      <td>-8.675355e+01</td>\n",
       "      <td>42.212060</td>\n",
       "      <td>-73.872610</td>\n",
       "      <td>2055.000000</td>\n",
       "      <td>1988.000000</td>\n",
       "      <td>116.000000</td>\n",
       "      <td>260.000000</td>\n",
       "      <td>2357.000000</td>\n",
       "      <td>150.000000</td>\n",
       "      <td>2325.000000</td>\n",
       "      <td>1.000000</td>\n",
       "      <td>1.000000</td>\n",
       "      <td>493.000000</td>\n",
       "      <td>144.000000</td>\n",
       "      <td>1971.000000</td>\n",
       "      <td>420.000000</td>\n",
       "      <td>240.000000</td>\n",
       "    </tr>\n",
       "  </tbody>\n",
       "</table>\n",
       "</div>"
      ],
      "text/plain": [
       "          year         month           day   day_of_week  flight_number  \\\n",
       "count  12514.0  12514.000000  12514.000000  12514.000000   12514.000000   \n",
       "mean    2015.0      6.150951     15.687710      3.879575    2876.476346   \n",
       "std        0.0      3.384375      8.763785      1.992624    1951.952017   \n",
       "min     2015.0      1.000000      1.000000      1.000000       3.000000   \n",
       "25%     2015.0      3.000000      8.000000      2.000000    1051.000000   \n",
       "50%     2015.0      6.000000     16.000000      4.000000    2525.000000   \n",
       "75%     2015.0      9.000000     23.000000      5.000000    4592.000000   \n",
       "max     2015.0     12.000000     31.000000      7.000000    6813.000000   \n",
       "\n",
       "       latitude_origin  longitude_origin  latitude_destination  \\\n",
       "count     1.251400e+04      1.251400e+04          12514.000000   \n",
       "mean      3.356294e+01     -8.675355e+01             34.252718   \n",
       "std       7.787860e-12      1.647104e-11              4.990106   \n",
       "min       3.356294e+01     -8.675355e+01             25.793250   \n",
       "25%       3.356294e+01     -8.675355e+01             29.980470   \n",
       "50%       3.356294e+01     -8.675355e+01             33.640440   \n",
       "75%       3.356294e+01     -8.675355e+01             39.175400   \n",
       "max       3.356294e+01     -8.675355e+01             42.212060   \n",
       "\n",
       "       longitude_destination  scheduled_departure  departure_delay  \\\n",
       "count           12514.000000         12514.000000     12338.000000   \n",
       "mean              -88.175001          1192.116909         9.032906   \n",
       "std                 8.325266           445.126945        43.869223   \n",
       "min              -115.152330           500.000000       -20.000000   \n",
       "25%               -95.339720           745.000000        -5.000000   \n",
       "50%               -84.426940          1200.000000        -2.000000   \n",
       "75%               -83.348840          1609.000000         4.000000   \n",
       "max               -73.872610          2055.000000      1988.000000   \n",
       "\n",
       "           taxi_out  scheduled_time     wheels_on       taxi_in  \\\n",
       "count  12334.000000    12514.000000  12324.000000  12324.000000   \n",
       "mean      13.783525      108.121864   1399.118306      8.632587   \n",
       "std        7.389709       36.974468    458.707388      5.844535   \n",
       "min        4.000000       52.000000      3.000000      1.000000   \n",
       "25%        9.000000       76.000000    952.000000      5.000000   \n",
       "50%       12.000000      113.000000   1402.000000      7.000000   \n",
       "75%       16.000000      123.000000   1823.000000     10.000000   \n",
       "max      116.000000      260.000000   2357.000000    150.000000   \n",
       "\n",
       "       scheduled_arrival      diverted     cancelled  air_system_delay  \\\n",
       "count       12514.000000  12514.000000  12514.000000       2128.000000   \n",
       "mean         1416.011507      0.004075      0.014464         14.805921   \n",
       "std           443.946518      0.063711      0.119397         32.820428   \n",
       "min           707.000000      0.000000      0.000000          0.000000   \n",
       "25%          1009.000000      0.000000      0.000000          0.000000   \n",
       "50%          1414.000000      0.000000      0.000000          3.000000   \n",
       "75%          1825.000000      0.000000      0.000000         18.000000   \n",
       "max          2325.000000      1.000000      1.000000        493.000000   \n",
       "\n",
       "       security_delay  airline_delay  late_aircraft_delay  weather_delay  \n",
       "count     2128.000000    2128.000000          2128.000000    2128.000000  \n",
       "mean         0.091635      20.292293            27.732613       2.580827  \n",
       "std          3.167858      73.036267            47.048389      16.190917  \n",
       "min          0.000000       0.000000             0.000000       0.000000  \n",
       "25%          0.000000       0.000000             0.000000       0.000000  \n",
       "50%          0.000000       0.000000             9.000000       0.000000  \n",
       "75%          0.000000      10.000000            34.000000       0.000000  \n",
       "max        144.000000    1971.000000           420.000000     240.000000  "
      ]
     },
     "execution_count": 10,
     "metadata": {},
     "output_type": "execute_result"
    }
   ],
   "source": [
    "df_air.describe()"
   ]
  },
  {
   "cell_type": "code",
   "execution_count": 11,
   "id": "b90086c9-7e2f-4819-8217-41f4324cd1e0",
   "metadata": {},
   "outputs": [],
   "source": [
    "#selecting columns that are dtype != numeric\n",
    "non_numeric = df_air.select_dtypes(exclude = np.number).columns"
   ]
  },
  {
   "cell_type": "markdown",
   "id": "78ab5236-8d3b-4706-994a-5e29407b9dd0",
   "metadata": {},
   "source": [
    "Because we want to predict if an airplane is going to be delayed or not using logistic regression, we created a new field called \"is_delay\" from the \"departure_delay\" field. To do this, we created a function that we could pass a numeric field through and if the value for that row is greater than 0, we imputed \"1\" into the curated field to signifiy the flight was delayed. If the value was less than 0, we imputed \"0\" to signify that the flight was not delayed. "
   ]
  },
  {
   "cell_type": "code",
   "execution_count": 12,
   "id": "d7b0e4f3-6c7d-4621-bb21-1ee75156cbf6",
   "metadata": {},
   "outputs": [],
   "source": [
    "#create binary response for logistic regression\n",
    "# create a function\n",
    "def is_delayed(delay,axis=1):\n",
    "    if delay <= 0:\n",
    "        return 0\n",
    "    else:\n",
    "        return 1\n",
    "    \n",
    "# create a new column based on condition\n",
    "df_air['is_delay'] = df_air.loc[:,'departure_delay'].apply(is_delayed)"
   ]
  },
  {
   "cell_type": "markdown",
   "id": "e7ed7c27-40be-4042-a800-60a844715e64",
   "metadata": {},
   "source": [
    "After creating the \"is_delay\" field, we then began to One Hot Encode any categorial variables so that our model could interpret and use those columns. This caused a 250k by 42 data set to become 240k by 3400. "
   ]
  },
  {
   "cell_type": "code",
   "execution_count": 13,
   "id": "6b521613-8e2c-488a-8ac4-4e8a38bae1f0",
   "metadata": {},
   "outputs": [],
   "source": [
    "#Departure Delay - response\n",
    "#altered from https://www.statology.org/one-hot-encoding-in-python/\n",
    "\n",
    "#creating instance of one-hot-encoder\n",
    "encoder = OneHotEncoder(handle_unknown='ignore')\n",
    "\n",
    "#perform one-hot encoding on non-numeric column s\n",
    "encoder_df = pd.DataFrame(encoder.fit_transform(df_air[non_numeric]).toarray())\n",
    "\n",
    "#return column names from encoder\n",
    "encoder_df.columns = encoder.get_feature_names_out()\n",
    "\n",
    "#merge one-hot encoded columns back with original DataFrame\n",
    "encoded = df_air.join(encoder_df)"
   ]
  },
  {
   "cell_type": "code",
   "execution_count": 14,
   "id": "191b5bfe-398c-4688-bdcc-f3c729ce2632",
   "metadata": {},
   "outputs": [],
   "source": [
    "#drop original columns\n",
    "final_df = encoded.drop(non_numeric, axis=1)\n",
    "\n",
    "#head(final_df)"
   ]
  },
  {
   "cell_type": "markdown",
   "id": "c99396dc-f7e9-461a-96a2-2779dae00c05",
   "metadata": {},
   "source": [
    "***\n",
    "# Dealing With Unbalanced Response Variable:"
   ]
  },
  {
   "cell_type": "code",
   "execution_count": 15,
   "id": "94485671-5ee6-4143-a700-624a535423ec",
   "metadata": {},
   "outputs": [
    {
     "name": "stdout",
     "output_type": "stream",
     "text": [
      "0    8412\n",
      "1    4102\n",
      "Name: is_delay, dtype: int64\n"
     ]
    },
    {
     "data": {
      "image/png": "[encoded data removed]",
      "text/plain": [
       "<Figure size 432x288 with 1 Axes>"
      ]
     },
     "metadata": {},
     "output_type": "display_data"
    }
   ],
   "source": [
    "#Checking distribution of our response.\n",
    "#The below code was altered from: https://wellsr.com/python/upsampling-and-downsampling-imbalanced-data-in-python/\n",
    "\n",
    "print(final_df[\"is_delay\"].value_counts())\n",
    "\n",
    "final_df.groupby('is_delay').size().plot(kind='pie',\n",
    "                                       y = \"is_delay\",\n",
    "                                       label = \"Percentage of Delays\",\n",
    "                                       autopct='%1.1f%%');"
   ]
  },
  {
   "cell_type": "code",
   "execution_count": 16,
   "id": "2f8e09ec-1ac0-4041-b932-d05f83dd3fe6",
   "metadata": {},
   "outputs": [
    {
     "name": "stdout",
     "output_type": "stream",
     "text": [
      "(8412, 1791)\n",
      "(4102, 1791)\n"
     ]
    }
   ],
   "source": [
    "#creating \n",
    "zero_delay = final_df[final_df[\"is_delay\"] == 0]\n",
    "one_delay  = final_df[final_df[\"is_delay\"] == 1]\n",
    "print(zero_delay.shape)\n",
    "print(one_delay.shape)"
   ]
  },
  {
   "cell_type": "code",
   "execution_count": 17,
   "id": "792b55df-4841-410b-b72c-20cbaa3ef908",
   "metadata": {},
   "outputs": [
    {
     "name": "stdout",
     "output_type": "stream",
     "text": [
      "(4102, 1791)\n"
     ]
    }
   ],
   "source": [
    "#Downsampling the response: \"is_delay\"\n",
    "from sklearn.utils import resample\n",
    "\n",
    "is_delay_downsample = resample(zero_delay,\n",
    "             replace=True,\n",
    "             n_samples=len(one_delay),\n",
    "             random_state=42)\n",
    "\n",
    "print(is_delay_downsample.shape)"
   ]
  },
  {
   "cell_type": "code",
   "execution_count": 18,
   "id": "4f75a428-5e43-4f21-b77d-a9ef43b5ff28",
   "metadata": {},
   "outputs": [
    {
     "name": "stdout",
     "output_type": "stream",
     "text": [
      "0    4102\n",
      "1    4102\n",
      "Name: is_delay, dtype: int64\n"
     ]
    },
    {
     "data": {
      "image/png": "[encoded data removed]",
      "text/plain": [
       "<Figure size 432x288 with 1 Axes>"
      ]
     },
     "metadata": {},
     "output_type": "display_data"
    }
   ],
   "source": [
    "#Viewing that distribution has been downsampled.                               \n",
    "data_downsampled = pd.concat([is_delay_downsample, one_delay])\n",
    "\n",
    "print(data_downsampled[\"is_delay\"].value_counts())\n",
    "\n",
    "data_downsampled.groupby('is_delay').size().plot(kind='pie',\n",
    "                                       y = \"v1\",\n",
    "                                       label = \"Type\",\n",
    "                                       autopct='%1.1f%%');"
   ]
  },
  {
   "cell_type": "markdown",
   "id": "12292d53-3bca-4002-8156-b5c0167d0325",
   "metadata": {},
   "source": [
    "***\n",
    "# Begin Modeling Data:\n",
    "From sklearn, we used their train_test_split package to create a 80/20 train and test split for our model."
   ]
  },
  {
   "cell_type": "markdown",
   "id": "866bea95-8f1c-41ed-b97a-4b6ed9f0b0c8",
   "metadata": {},
   "source": [
    "***\n",
    "### Begin Test/Train Split for Original Data Set:"
   ]
  },
  {
   "cell_type": "code",
   "execution_count": 19,
   "id": "b602ca09-40a7-4cab-86db-65a0e163c6c2",
   "metadata": {},
   "outputs": [],
   "source": [
    "#remove target variable and column target was created from training data set\n",
    "target_cols = ['is_delay','departure_delay']\n",
    "feature_cols = final_df.loc[:, ~final_df.columns.isin(target_cols)].columns\n",
    "X = final_df[feature_cols] # Features\n",
    "y = final_df.is_delay # Target variable"
   ]
  },
  {
   "cell_type": "code",
   "execution_count": 20,
   "id": "173324c3-b94f-4b33-8d6a-35354e6beb18",
   "metadata": {},
   "outputs": [],
   "source": [
    "#split original dataset into features and target variable\n",
    "X_train,X_test,y_train,y_test=train_test_split(X,y,test_size=0.20,random_state=0)"
   ]
  },
  {
   "cell_type": "code",
   "execution_count": 21,
   "id": "3d54ab63-53cd-4e17-b96c-1f8dc77f8e45",
   "metadata": {},
   "outputs": [],
   "source": [
    "#Separating feature columns and target variable into X and y variables for modeling.\n",
    "Xd = data_downsampled[feature_cols] # Features\n",
    "yd = data_downsampled.is_delay # Target variable"
   ]
  },
  {
   "cell_type": "markdown",
   "id": "94cb8b48-8189-42ef-881c-b29fabf7e6a8",
   "metadata": {},
   "source": [
    "After one hot encoding, for our logistic regession model to run, we imputed the NaN values with 0."
   ]
  },
  {
   "cell_type": "code",
   "execution_count": 22,
   "id": "e86bcd21-2cdb-4569-913a-18212521de15",
   "metadata": {},
   "outputs": [],
   "source": [
    "#imputing 0 into NaN values for logistic regression after OHE\n",
    "X_train = X_train.fillna(0)\n",
    "X_test = X_test.fillna(0)\n",
    "y_train = y_train.fillna(0)\n",
    "y_test = y_test.fillna(0)"
   ]
  },
  {
   "cell_type": "code",
   "execution_count": 23,
   "id": "e4e481ec-0837-434b-aa2d-8fc0ca2f05de",
   "metadata": {},
   "outputs": [
    {
     "name": "stdout",
     "output_type": "stream",
     "text": [
      "X_train shape:  (10011, 1789) \n",
      "\n",
      "X_test shape:  (2503, 1789) \n",
      "\n",
      "y_train shape:  (10011,) \n",
      "\n",
      "y_test shape:  (2503,)\n"
     ]
    }
   ],
   "source": [
    "#checking shape of data\n",
    "print('X_train shape: ',X_train.shape,'\\n')\n",
    "print('X_test shape: ',X_test.shape,'\\n')\n",
    "print('y_train shape: ',y_train.shape,'\\n')\n",
    "print('y_test shape: ',y_test.shape)"
   ]
  },
  {
   "cell_type": "markdown",
   "id": "0a128b79-67af-4afd-8d90-b0a6e3a62221",
   "metadata": {},
   "source": [
    "***\n",
    "### Creating Test/Train for undersampled data:"
   ]
  },
  {
   "cell_type": "code",
   "execution_count": 24,
   "id": "272ac6af-817d-49c9-bf46-876a7cf04262",
   "metadata": {},
   "outputs": [],
   "source": [
    "#Separating feature columns and target variable into X and y variables for modeling.\n",
    "Xd = data_downsampled[feature_cols] # Features\n",
    "yd = data_downsampled.is_delay # Target variable"
   ]
  },
  {
   "cell_type": "code",
   "execution_count": 25,
   "id": "0070fdd4-f3a6-42b2-b920-6a550773171d",
   "metadata": {},
   "outputs": [],
   "source": [
    "#split downsampled dataset into features and target variable\n",
    "Xd_train,Xd_test,yd_train,yd_test=train_test_split(Xd,yd,test_size=0.20,random_state=0)"
   ]
  },
  {
   "cell_type": "code",
   "execution_count": 26,
   "id": "4f5d566b-3d55-4d39-8702-a75aec64570a",
   "metadata": {},
   "outputs": [],
   "source": [
    "#Imputing 0 into NaN values for logistic regression after OHE.\n",
    "Xd_train = Xd_train.fillna(0)\n",
    "Xd_test = Xd_test.fillna(0)\n",
    "yd_train = yd_train.fillna(0)\n",
    "yd_test = yd_test.fillna(0)"
   ]
  },
  {
   "cell_type": "code",
   "execution_count": 27,
   "id": "0d04982c-e935-4357-bfec-fe0cdb68c091",
   "metadata": {},
   "outputs": [
    {
     "name": "stdout",
     "output_type": "stream",
     "text": [
      "Xd_train shape:  (6563, 1789) \n",
      "\n",
      "Xd_test shape:  (1641, 1789) \n",
      "\n",
      "yd_train shape:  (6563,) \n",
      "\n",
      "yd_test shape:  (1641,)\n"
     ]
    }
   ],
   "source": [
    "#checking shape of data\n",
    "print('Xd_train shape: ',Xd_train.shape,'\\n')\n",
    "print('Xd_test shape: ',Xd_test.shape,'\\n')\n",
    "print('yd_train shape: ',yd_train.shape,'\\n')\n",
    "print('yd_test shape: ',yd_test.shape)"
   ]
  },
  {
   "cell_type": "markdown",
   "id": "08ada40f-1ec5-426a-b89c-f99ad3d5a0b0",
   "metadata": {},
   "source": [
    "***\n",
    "## Logistic Regression Modeling:\n",
    "\n",
    "To simplify the code and useability of the model, we used a pipeline function from sklearn to standardize (using StandarScaler), run the data through PCA and then finally a logistic regession model using the PCA output. "
   ]
  },
  {
   "cell_type": "code",
   "execution_count": 28,
   "id": "5e4a60c7-dc55-4d87-9dcd-4617066d367e",
   "metadata": {},
   "outputs": [
    {
     "data": {
      "text/plain": [
       "Pipeline(steps=[('scaler', RobustScaler()), ('pca', PCA(n_components=0.95)),\n",
       "                ('logistic', LogisticRegression())])"
      ]
     },
     "execution_count": 28,
     "metadata": {},
     "output_type": "execute_result"
    }
   ],
   "source": [
    "#https://towardsdatascience.com/getting-the-most-out-of-scikit-learn-pipelines-c2afc4410f1a\n",
    "\n",
    "# Define a pipeline to search for the best combination of PCA truncation\n",
    "# and classifier regularization.\n",
    "pca = PCA(n_components = .95)\n",
    "\n",
    "# Define a Standard Scaler to normalize inputs\n",
    "scaler = RobustScaler()\n",
    "\n",
    "njobs = -1\n",
    "tolerance = 0.1\n",
    "rs = 0\n",
    "l1ratio = 0.5\n",
    "\n",
    "# Scale -> PCA -> LR \n",
    "#logistic = LogisticRegression(solver = 'saga',\n",
    "#                                random_state = rs,\n",
    "#                                penalty ='elasticnet',\n",
    "#                                l1_ratio = l1ratio,\n",
    "#                                class_weight = 'balanced',\n",
    "#                                tol = tolerance)\n",
    "\n",
    "logistic = LogisticRegression()\n",
    "\n",
    "pipe = Pipeline(steps=[(\"scaler\", scaler),\n",
    "                       (\"pca\", pca),\n",
    "                       (\"logistic\", logistic)]\n",
    "               )\n",
    "\n",
    "pipe.fit(X_train,y_train)"
   ]
  },
  {
   "cell_type": "markdown",
   "id": "ec85cccb-b58a-4a96-a30e-195bfdaee994",
   "metadata": {},
   "source": [
    "After fitting the model, we then ran our test data set through to create predictions."
   ]
  },
  {
   "cell_type": "code",
   "execution_count": 29,
   "id": "b3995d9f-6318-45e0-b537-70a5a6630b0e",
   "metadata": {},
   "outputs": [],
   "source": [
    "#predict\n",
    "y_pred=pipe.predict(X_test)"
   ]
  },
  {
   "cell_type": "markdown",
   "id": "3e947cd5-89b0-490a-86f3-b0c73c6e28c4",
   "metadata": {},
   "source": [
    "After creating predictions on our test data set, we pulled metrics to determine how well our model performed. Our base model had an accuracy of 78.31% with a precision of 95.99% and a recall of 51.54%. This model output gives us a good starting point for hypertuing the model and comparison against some more powerful models such as XGBoost or LightGBM. After computing these metrics we then created a confusion matrix heatmap to better visualize how well our model was predicting and where the model could perform better with False Positives and False Negatives."
   ]
  },
  {
   "cell_type": "code",
   "execution_count": 30,
   "id": "0035cc4b-c3ac-4f0f-969f-1684f923801e",
   "metadata": {},
   "outputs": [
    {
     "name": "stdout",
     "output_type": "stream",
     "text": [
      "Accuracy: 0.8162205353575709\n",
      "Precision: 0.9939393939393939\n",
      "Recall: 0.4173027989821883\n"
     ]
    }
   ],
   "source": [
    "#Metrics\n",
    "print(\"Accuracy:\",metrics.accuracy_score(y_test, y_pred))\n",
    "print(\"Precision:\",metrics.precision_score(y_test, y_pred))\n",
    "print(\"Recall:\",metrics.recall_score(y_test, y_pred))"
   ]
  },
  {
   "cell_type": "code",
   "execution_count": 31,
   "id": "13fe13d9-0b57-4c1b-bafc-901a2143b9db",
   "metadata": {},
   "outputs": [
    {
     "data": {
      "image/png": "[encoded data removed]",
      "text/plain": [
       "<Figure size 432x288 with 2 Axes>"
      ]
     },
     "metadata": {
      "needs_background": "light"
     },
     "output_type": "display_data"
    }
   ],
   "source": [
    "#correlation Matrix Heatmap\n",
    "# code from: https://medium.com/@dtuk81/confusion-matrix-visualization-fc31e3f30fea\n",
    "cf_matrix = confusion_matrix(y_test, y_pred)\n",
    "\n",
    "group_names = ['True Neg','False Pos','False Neg','True Pos']\n",
    "\n",
    "group_counts = [\"{0:0.0f}\".format(value) for value in\n",
    "                cf_matrix.flatten()]\n",
    "\n",
    "group_percentages = [\"{0:.2%}\".format(value) for value in\n",
    "                     cf_matrix.flatten()/np.sum(cf_matrix)]\n",
    "\n",
    "labels = [f\"{v1}\\n{v2}\\n{v3}\" for v1, v2, v3 in\n",
    "          zip(group_names,group_counts,group_percentages)]\n",
    "\n",
    "labels = np.asarray(labels).reshape(2,2)\n",
    "\n",
    "sns.heatmap(cf_matrix, annot=labels, fmt='', cmap='Blues');"
   ]
  },
  {
   "cell_type": "markdown",
   "id": "83832926-42e8-4b05-b954-df47ce53ad2e",
   "metadata": {},
   "source": [
    "Finally we chose to plot a ROC curve to visualize specificity and sensitiviy of our model. "
   ]
  },
  {
   "cell_type": "code",
   "execution_count": 32,
   "id": "cd3175cb-7b67-4af3-bc88-6224a2f17de7",
   "metadata": {},
   "outputs": [
    {
     "data": {
      "image/png": "[encoded data removed]",
      "text/plain": [
       "<Figure size 432x288 with 1 Axes>"
      ]
     },
     "metadata": {
      "needs_background": "light"
     },
     "output_type": "display_data"
    }
   ],
   "source": [
    "#ROC Curve\n",
    "y_pred_proba = pipe.predict_proba(X_test)[::,1]\n",
    "fpr, tpr, _ = metrics.roc_curve(y_test,  y_pred_proba)\n",
    "auc = metrics.roc_auc_score(y_test, y_pred_proba)\n",
    "plt.plot(fpr,tpr,label=\"Base Logistic Regression, auc= \"+str(auc))\n",
    "plt.legend(loc=4)\n",
    "plt.show()"
   ]
  },
  {
   "cell_type": "markdown",
   "id": "b1738ff2-2575-4bee-a7f1-89878c433a23",
   "metadata": {},
   "source": [
    "***\n",
    "### Undersampled Logistic Regression:"
   ]
  },
  {
   "cell_type": "code",
   "execution_count": 33,
   "id": "13210dd6-9360-4fb8-a10e-bd719f1c7f10",
   "metadata": {},
   "outputs": [
    {
     "data": {
      "text/plain": [
       "Pipeline(steps=[('scaler', RobustScaler()), ('pca', PCA(n_components=0.95)),\n",
       "                ('logistic', LogisticRegression())])"
      ]
     },
     "execution_count": 33,
     "metadata": {},
     "output_type": "execute_result"
    }
   ],
   "source": [
    "#https://towardsdatascience.com/getting-the-most-out-of-scikit-learn-pipelines-c2afc4410f1a\n",
    "\n",
    "# Define a pipeline to search for the best combination of PCA truncation\n",
    "# and classifier regularization.\n",
    "pca = PCA(n_components = .95)\n",
    "\n",
    "# Define a Standard Scaler to normalize inputs\n",
    "scaler = RobustScaler()\n",
    "\n",
    "njobs = -1\n",
    "tolerance = 0.1\n",
    "rs = 0\n",
    "l1ratio = 0.5\n",
    "\n",
    "# Scale -> PCA -> LR \n",
    "#logistic = LogisticRegression(solver = 'saga',\n",
    "#                                random_state = rs,\n",
    "#                                penalty ='elasticnet',\n",
    "#                                l1_ratio = l1ratio,\n",
    "#                                class_weight = 'balanced',\n",
    "#                                tol = tolerance)\n",
    "\n",
    "logistic = LogisticRegression()\n",
    "\n",
    "pipe = Pipeline(steps=[(\"scaler\", scaler),\n",
    "                       (\"pca\", pca),\n",
    "                       (\"logistic\", logistic)]\n",
    "               )\n",
    "\n",
    "pipe.fit(Xd_train,yd_train)\n",
    "\n"
   ]
  },
  {
   "cell_type": "code",
   "execution_count": 34,
   "id": "a7ea3366-5032-456f-9044-3e9ca2753016",
   "metadata": {},
   "outputs": [],
   "source": [
    "#predict\n",
    "yd_pred=pipe.predict(Xd_test)"
   ]
  },
  {
   "cell_type": "code",
   "execution_count": 35,
   "id": "d5613fac-2416-4157-9b08-f0f0ceb2bfab",
   "metadata": {},
   "outputs": [
    {
     "name": "stdout",
     "output_type": "stream",
     "text": [
      "Accuracy: 0.7245581962218159\n",
      "Precision: 0.9763779527559056\n",
      "Recall: 0.456441717791411\n"
     ]
    }
   ],
   "source": [
    "#Metrics\n",
    "print(\"Accuracy:\",metrics.accuracy_score(yd_test, yd_pred))\n",
    "print(\"Precision:\",metrics.precision_score(yd_test, yd_pred))\n",
    "print(\"Recall:\",metrics.recall_score(yd_test, yd_pred))"
   ]
  },
  {
   "cell_type": "code",
   "execution_count": 36,
   "id": "6c68027e-c5e7-44a6-b4dd-41fc3c856d28",
   "metadata": {},
   "outputs": [
    {
     "data": {
      "image/png": "[encoded data removed]",
      "text/plain": [
       "<Figure size 432x288 with 2 Axes>"
      ]
     },
     "metadata": {
      "needs_background": "light"
     },
     "output_type": "display_data"
    }
   ],
   "source": [
    "#correlation Matrix Heatmap\n",
    "# code from: https://medium.com/@dtuk81/confusion-matrix-visualization-fc31e3f30fea\n",
    "cf_und_matrix = confusion_matrix(yd_test, yd_pred)\n",
    "\n",
    "group_und_names = ['True Neg','False Pos','False Neg','True Pos']\n",
    "\n",
    "group_und_counts = [\"{0:0.0f}\".format(value) for value in\n",
    "                cf_matrix.flatten()]\n",
    "\n",
    "group_und_percentages = [\"{0:.2%}\".format(value) for value in\n",
    "                     cf_matrix.flatten()/np.sum(cf_und_matrix)]\n",
    "\n",
    "labels_und = [f\"{v1}\\n{v2}\\n{v3}\" for v1, v2, v3 in\n",
    "          zip(group_und_names,group_und_counts,group_und_percentages)]\n",
    "\n",
    "labels_und = np.asarray(labels_und).reshape(2,2)\n",
    "\n",
    "sns.heatmap(cf_und_matrix, annot=labels_und, fmt='', cmap='Blues');"
   ]
  },
  {
   "cell_type": "code",
   "execution_count": 37,
   "id": "12a91b5d-7fcb-466c-9a95-3a11ac8c065e",
   "metadata": {},
   "outputs": [
    {
     "data": {
      "image/png": "[encoded data removed]",
      "text/plain": [
       "<Figure size 432x288 with 1 Axes>"
      ]
     },
     "metadata": {
      "needs_background": "light"
     },
     "output_type": "display_data"
    }
   ],
   "source": [
    "#ROC Curve\n",
    "y_pred_proba_und = pipe.predict_proba(Xd_test)[::,1]\n",
    "fpr_und, tpr_und, _ = metrics.roc_curve(yd_test,  y_pred_proba_und)\n",
    "auc_und = metrics.roc_auc_score(yd_test, y_pred_proba_und)\n",
    "plt.plot(fpr_und,tpr_und,label=\"Base Logistic Regression, auc= \"+str(auc_und))\n",
    "plt.legend(loc=4)\n",
    "plt.show();"
   ]
  },
  {
   "cell_type": "markdown",
   "id": "c978d47c-cbd6-4f40-ba92-607060da5a52",
   "metadata": {},
   "source": [
    "***\n",
    "# Begin SVM Modeling:\n",
    "<br>\n",
    "Base SVM model with Original Data <br>\n",
    "\n",
    "***"
   ]
  },
  {
   "cell_type": "code",
   "execution_count": 38,
   "id": "b1107b25-89fa-4b26-abf1-bf04e3923b4c",
   "metadata": {},
   "outputs": [
    {
     "name": "stdout",
     "output_type": "stream",
     "text": [
      "____________Start SVM Base Model Results______________:\n",
      "Runtime:\n",
      " 7.7803990840911865 \n",
      "\n",
      "Accuracy:\n",
      " 0.8138234119057132 \n",
      "\n",
      "Precision:\n",
      " 0.4071246819338422 \n",
      "\n",
      "Recall:\n",
      " 0.4071246819338422 \n",
      "\n",
      "____________End SVM Base Model Results________________\n"
     ]
    }
   ],
   "source": [
    "#https://towardsdatascience.com/getting-the-most-out-of-scikit-learn-pipelines-c2afc4410f1a\n",
    "\n",
    "# Define a pipeline to search for the best combination of PCA truncation\n",
    "# and classifier regularization.\n",
    "pca_svm = PCA(n_components = .95)\n",
    "\n",
    "# Define a Standard Scaler to normalize inputs\n",
    "scaler_svm = RobustScaler()\n",
    "\n",
    "\n",
    "# Scale -> PCA -> LR \n",
    "clf = SVC(kernel = 'linear',\n",
    "         random_state = 0)\n",
    "\n",
    "start = time.time()\n",
    "pipe_svm = Pipeline(steps=[(\"Robust Scaler\", scaler_svm),\n",
    "                       (\"PCA\", pca_svm),\n",
    "                       (\"SVM\", clf)])\n",
    "\n",
    "pipe_svm.fit(X_train,y_train)\n",
    "end = time.time()\n",
    "\n",
    "#predict\n",
    "y_pred_svm=pipe_svm.predict(X_test)\n",
    "\n",
    "runtime = end-start\n",
    "accuracy_svm = metrics.accuracy_score(y_test,y_pred_svm)\n",
    "precision_svm = metrics.precision_score(y_test, y_pred_svm)\n",
    "recall_svm = metrics.recall_score(y_test, y_pred_svm)\n",
    "\n",
    "#print results \n",
    "print('____________Start SVM Base Model Results______________:')\n",
    "print('Runtime:\\n',runtime,'\\n')\n",
    "print('Accuracy:\\n',accuracy_svm,'\\n')\n",
    "print('Precision:\\n',recall_svm,'\\n')\n",
    "print('Recall:\\n',recall_svm,'\\n')\n",
    "print('____________End SVM Base Model Results________________')"
   ]
  },
  {
   "cell_type": "code",
   "execution_count": 39,
   "id": "af73fc51-8f11-4f71-9263-389e052e80ad",
   "metadata": {},
   "outputs": [
    {
     "data": {
      "image/png": "[encoded data removed]",
      "text/plain": [
       "<Figure size 432x288 with 2 Axes>"
      ]
     },
     "metadata": {
      "needs_background": "light"
     },
     "output_type": "display_data"
    }
   ],
   "source": [
    "#correlation Matrix Heatmap\n",
    "# code from: https://medium.com/@dtuk81/confusion-matrix-visualization-fc31e3f30fea\n",
    "cf_matrix_svm = confusion_matrix(y_test, y_pred_svm)\n",
    "\n",
    "group_names_svm = ['True Neg','False Pos','False Neg','True Pos']\n",
    "\n",
    "group_counts_svm = [\"{0:0.0f}\".format(value) for value in\n",
    "                cf_matrix_svm.flatten()]\n",
    "\n",
    "group_percentages_svm = [\"{0:.2%}\".format(value) for value in\n",
    "                     cf_matrix_svm.flatten()/np.sum(cf_matrix_svm)]\n",
    "\n",
    "labels_svm = [f\"{v1}\\n{v2}\\n{v3}\" for v1, v2, v3 in\n",
    "          zip(group_names_svm,group_counts_svm,group_percentages_svm)]\n",
    "\n",
    "labels_svm = np.asarray(labels_svm).reshape(2,2)\n",
    "\n",
    "sns.heatmap(cf_matrix_svm, annot=labels_svm, fmt='', cmap='Blues');"
   ]
  },
  {
   "cell_type": "markdown",
   "id": "192755f8-4792-4a5a-a657-21e06a37d355",
   "metadata": {},
   "source": [
    "***\n",
    "### Undersampled Data Set SVM:\n",
    "<br>\n",
    "Base SVM model with Undersampled Data <br>\n",
    "\n",
    "***"
   ]
  },
  {
   "cell_type": "code",
   "execution_count": 40,
   "id": "abb04519-0403-4957-b765-c477af818972",
   "metadata": {},
   "outputs": [
    {
     "name": "stdout",
     "output_type": "stream",
     "text": [
      "____________Start SVM Base Model Results______________:\n",
      "Runtime:\n",
      " 7.7803990840911865 \n",
      "\n",
      "Accuracy:\n",
      " 0.7160268129189519 \n",
      "\n",
      "Precision:\n",
      " 0.42822085889570555 \n",
      "\n",
      "Recall:\n",
      " 0.42822085889570555 \n",
      "\n",
      "____________End SVM Base Model Results________________\n"
     ]
    }
   ],
   "source": [
    "#https://towardsdatascience.com/getting-the-most-out-of-scikit-learn-pipelines-c2afc4410f1a\n",
    "\n",
    "# Define a pipeline to search for the best combination of PCA truncation\n",
    "# and classifier regularization.\n",
    "pca_svm_und = PCA(n_components = .95)\n",
    "\n",
    "# Define a Standard Scaler to normalize inputs\n",
    "scaler_svm_und = RobustScaler()\n",
    "\n",
    "\n",
    "# Scale -> PCA -> LR \n",
    "clf_svm_und = SVC(kernel = 'linear',\n",
    "                  random_state = 0)\n",
    "\n",
    "start_svm_und = time.time()\n",
    "pipe_svm_und = Pipeline(steps=[(\"Robust Scaler\", scaler_svm_und),\n",
    "                               (\"PCA\", pca_svm_und),\n",
    "                               (\"SVM\", clf_svm_und)])\n",
    "\n",
    "pipe_svm_und.fit(Xd_train,yd_train)\n",
    "end_svm_und = time.time()\n",
    "\n",
    "#predict\n",
    "y_pred_svm_und=pipe_svm.predict(Xd_test)\n",
    "\n",
    "runtime_svm_und = end-start\n",
    "accuracy_svm_und = metrics.accuracy_score(yd_test,y_pred_svm_und)\n",
    "precision_svm_und = metrics.precision_score(yd_test, y_pred_svm_und)\n",
    "recall_svm_und = metrics.recall_score(yd_test, y_pred_svm_und)\n",
    "\n",
    "#print results \n",
    "print('____________Start SVM Base Model Results______________:')\n",
    "print('Runtime:\\n',runtime_svm_und,'\\n')\n",
    "print('Accuracy:\\n',accuracy_svm_und,'\\n')\n",
    "print('Precision:\\n',recall_svm_und,'\\n')\n",
    "print('Recall:\\n',recall_svm_und,'\\n')\n",
    "print('____________End SVM Base Model Results________________')"
   ]
  },
  {
   "cell_type": "code",
   "execution_count": 41,
   "id": "48c12436-dff7-4864-914c-856351c58e8f",
   "metadata": {},
   "outputs": [
    {
     "data": {
      "image/png": "[encoded data removed]",
      "text/plain": [
       "<Figure size 432x288 with 2 Axes>"
      ]
     },
     "metadata": {
      "needs_background": "light"
     },
     "output_type": "display_data"
    }
   ],
   "source": [
    "#correlation Matrix Heatmap\n",
    "# code from: https://medium.com/@dtuk81/confusion-matrix-visualization-fc31e3f30fea\n",
    "cf_matrix_svm_und = confusion_matrix(yd_test, y_pred_svm_und)\n",
    "\n",
    "group_names_svm_und = ['True Neg','False Pos','False Neg','True Pos']\n",
    "\n",
    "group_counts_svm_und = [\"{0:0.0f}\".format(value) for value in\n",
    "                cf_matrix_svm_und.flatten()]\n",
    "\n",
    "group_percentages_svm_und = [\"{0:.2%}\".format(value) for value in\n",
    "                     cf_matrix_svm_und.flatten()/np.sum(cf_matrix_svm_und)]\n",
    "\n",
    "labels_svm_und = [f\"{v1}\\n{v2}\\n{v3}\" for v1, v2, v3 in\n",
    "          zip(group_names_svm_und,group_counts_svm_und,group_percentages_svm_und)]\n",
    "\n",
    "labels_svm_und = np.asarray(labels_svm_und).reshape(2,2)\n",
    "\n",
    "sns.heatmap(cf_matrix_svm_und, annot=labels_svm_und, fmt='', cmap='Blues');"
   ]
  },
  {
   "cell_type": "markdown",
   "id": "99c92f50-7e20-4d93-ab55-70a0507ba29c",
   "metadata": {},
   "source": [
    "***\n",
    "# Begin GridSearchCV for SVC Classifier:<br>\n",
    "### Original Data Set\n",
    "***\n",
    "**Parameters with scoring = 'accuracy'**\n",
    "\n",
    "\n",
    "1) Kernel: \n",
    "2) Decision Function Shape: **ovo**\n",
    "3) Gamma: **auto**\n",
    "4) Class Weight: **balanced**\n",
    "5) Break Ties: \n",
    "\n",
    "**GridSearchCV Parameters decreased Accuracy by %**\n",
    "***"
   ]
  },
  {
   "cell_type": "code",
   "execution_count": null,
   "id": "9766b3a5-8396-4947-be86-08344d80e34a",
   "metadata": {},
   "outputs": [],
   "source": [
    "parameters_acc = {\n",
    "             'kernel':['linear', 'rbf'],\n",
    "             'decision_function_shape':['ovo', 'ovr'],\n",
    "             'gamma': ['scale','auto'],\n",
    "             'class_weight': ['balanced']\n",
    "             }\n",
    "model_acc = SVC(random_state = 0)\n",
    "grid_search_acc = GridSearchCV(estimator=model_acc,\n",
    "                              param_grid=parameters_acc,\n",
    "                              scoring = 'accuracy')\n",
    "start_grid_acc = time.time()\n",
    "grid_search_acc.fit(X_train, y_train)\n",
    "end_grid_acc = time.time()\n",
    "\n",
    "print('________GridSearchCV Results:_________\\n')\n",
    "print(\n",
    "    \"GridSearchCV took %.2f seconds for %d candidate parameter settings.\\n\"\n",
    "    % (end_grid_acc - start_grid_acc, len(grid_search_acc.cv_results_[\"params\"]))\n",
    ")\n",
    "print('GSCV Best Estimator:\\n',grid_search_acc.best_estimator_,'\\n')\n",
    "print('GSCV Best Score:\\n',grid_search_acc.best_score_,'\\n')\n",
    "\n",
    "\n",
    "#print('GSCV Best Parameters:\\n',grid_search.best_params_,'\\n')"
   ]
  },
  {
   "cell_type": "markdown",
   "id": "ea4252a3-31e6-42a4-ac74-c95b8e430d5d",
   "metadata": {},
   "source": [
    "#### Original Data Set:\n",
    "***\n",
    "\n",
    "**Parameters with scoring = 'f1'**\n",
    "\n",
    "\n",
    "1) Kernel: \n",
    "2) Decision Function Shape:\n",
    "3) Gamma: \n",
    "4) Class Weight:\n",
    "5) Break Ties: \n",
    "\n",
    "**GridSearchCV Parameters decreased Accuracy by %**\n",
    "***"
   ]
  },
  {
   "cell_type": "code",
   "execution_count": null,
   "id": "47331a4f-5c17-4350-94f0-2ff935115387",
   "metadata": {},
   "outputs": [],
   "source": [
    "parameters_f1 = {\n",
    "             'kernel':['linear', 'rbf'],\n",
    "             'decision_function_shape':['ovo', 'ovr'],\n",
    "             'gamma': ['scale','auto'],\n",
    "             'class_weight': ['balanced']\n",
    "             }\n",
    "model_f1 = SVC(random_state =  0)\n",
    "grid_search_f1 = GridSearchCV(estimator=model_f1,\n",
    "                              param_grid=parameters_f1,\n",
    "                              scoring = 'f1')\n",
    "start_grid_f1 = time.time()\n",
    "grid_search_f1.fit(X_train, y_train)\n",
    "end_grid_f1 = time.time()\n",
    "\n",
    "print('________GridSearchCV Results:_________\\n')\n",
    "print(\n",
    "    \"GridSearchCV took %.2f seconds for %d candidate parameter settings.\\n\"\n",
    "    % (end_grid_f1 - start_grid_f1, len(grid_search_f1.cv_results_[\"params\"]))\n",
    ")\n",
    "print('GSCV Best Estimator:\\n',grid_search_f1.best_estimator_,'\\n')\n",
    "print('GSCV Best Score:\\n',grid_search_f1.best_score_,'\\n')"
   ]
  },
  {
   "cell_type": "markdown",
   "id": "1df9ed44-55c0-4243-a7d4-1d60286edb43",
   "metadata": {},
   "source": [
    "***\n",
    "### GridSearchCV Undersampled Data Set:\n",
    "***\n",
    "**Parameters with scoring = 'accuracy'**\n",
    "\n",
    "\n",
    "1) Kernel: \n",
    "2) Decision Function Shape: **ovo**\n",
    "3) Gamma: **auto**\n",
    "4) Class Weight: **balanced**\n",
    "5) Break Ties: \n",
    "\n",
    "**GridSearchCV Parameters decreased Accuracy by %**\n",
    "***"
   ]
  },
  {
   "cell_type": "code",
   "execution_count": null,
   "id": "9dd0273e-3a4d-4084-8161-29d014e7eb0b",
   "metadata": {},
   "outputs": [],
   "source": [
    "parameters_acc_und = {\n",
    "             'kernel':['linear', 'rbf'],\n",
    "             'decision_function_shape':['ovo', 'ovr'],\n",
    "             'gamma': ['scale','auto'],\n",
    "             'class_weight': ['balanced']\n",
    "             }\n",
    "model_acc_und = SVC(random_state = 0)\n",
    "grid_search_acc_und = GridSearchCV(estimator=model_acc_und,\n",
    "                                  param_grid=parameters_acc_und,\n",
    "                                  scoring = 'accuracy')\n",
    "start_grid_acc_und = time.time()\n",
    "grid_search_acc_und.fit(Xd_train, yd_train)\n",
    "end_grid_acc_und = time.time()\n",
    "\n",
    "print('________GridSearchCV Results:_________\\n')\n",
    "print(\n",
    "    \"GridSearchCV took %.2f seconds for %d candidate parameter settings.\\n\"\n",
    "    % (end_grid_acc_und - start_grid_acc_und, len(grid_search_acc_und.cv_results_[\"params\"]))\n",
    ")\n",
    "print('GSCV Best Estimator:\\n',grid_search_acc_und.best_estimator_,'\\n')\n",
    "print('GSCV Best Score:\\n',grid_search_acc_und.best_score_,'\\n')"
   ]
  },
  {
   "cell_type": "markdown",
   "id": "577ac298-1fae-45a2-8569-58bb0fb47007",
   "metadata": {},
   "source": [
    "***\n",
    "**Parameters with scoring = 'f1'**\n",
    "\n",
    "\n",
    "1) Kernel: \n",
    "2) Decision Function Shape: **ovo**\n",
    "3) Gamma: **auto**\n",
    "4) Class Weight: **balanced**\n",
    "5) Break Ties: \n",
    "\n",
    "**GridSearchCV Parameters decreased Accuracy by %**"
   ]
  },
  {
   "cell_type": "code",
   "execution_count": null,
   "id": "91f8f1e8-2d6e-4429-89bd-4ec478a331f4",
   "metadata": {},
   "outputs": [],
   "source": [
    "parameters_f1_und = {\n",
    "             'kernel':['linear', 'rbf'],\n",
    "             'decision_function_shape':['ovo', 'ovr'],\n",
    "             'gamma': ['scale','auto'],\n",
    "             'class_weight': ['balanced']\n",
    "             }\n",
    "model_f1_und = SVC(random_state = 0)\n",
    "grid_search_f1_und = GridSearchCV(estimator=model_f1_und,\n",
    "                                  param_grid=parameters_f1_und,\n",
    "                                  scoring = 'accuracy')\n",
    "start_grid_f1_und = time.time()\n",
    "grid_search_f1_und.fit(Xd_train, yd_train)\n",
    "end_grid_f1_und = time.time()\n",
    "\n",
    "print('________GridSearchCV Results:_________\\n')\n",
    "print(\n",
    "    \"GridSearchCV took %.2f seconds for %d candidate parameter settings.\\n\"\n",
    "    % (end_grid_f1_und - start_grid_f1_und, len(grid_search_f1_und.cv_results_[\"params\"]))\n",
    ")\n",
    "print('GSCV Best Estimator:\\n',grid_search_f1_und.best_estimator_,'\\n')\n",
    "print('GSCV Best Score:\\n',grid_search_f1_und.best_score_,'\\n')"
   ]
  },
  {
   "cell_type": "markdown",
   "id": "0758fc6a-47a8-400d-923e-396a668bbc58",
   "metadata": {},
   "source": [
    "***\n",
    "# Begin SGDClassifier:<br>\n",
    "\n",
    "### Original Data Set\n",
    "***\n"
   ]
  },
  {
   "cell_type": "code",
   "execution_count": null,
   "id": "08e39463-f5e3-4a12-82f2-3be075e4e427",
   "metadata": {},
   "outputs": [],
   "source": [
    "#https://towardsdatascience.com/getting-the-most-out-of-scikit-learn-pipelines-c2afc4410f1a\n",
    "\n",
    "# Define a Standard Scaler to normalize inputs\n",
    "scaler_sgd = RobustScaler()\n",
    "\n",
    "\n",
    "# Scale -> PCA -> LR \n",
    "sgd = SGDClassifier(random_state = 0)\n",
    "start_sgd = time.time()\n",
    "pipe_sgd = Pipeline(steps=[(\"scaler\", scaler_sgd),\n",
    "                       (\"SGD\", sgd)])\n",
    "\n",
    "pipe_sgd.fit(X_train,y_train)\n",
    "end_sgd = time.time()\n",
    "\n",
    "#predict\n",
    "y_pred_sgd = pipe_sgd.predict(X_test)\n",
    "\n",
    "runtime_sgd = end_sgd-start_sgd\n",
    "accuracy_sgd = metrics.accuracy_score(y_test,y_pred_sgd)\n",
    "precision_sgd = metrics.precision_score(y_test, y_pred_sgd)\n",
    "recall_sgd = metrics.recall_score(y_test, y_pred_sgd)\n",
    "\n",
    "#print results \n",
    "print('____________Start SGD Base Model Results______________:')\n",
    "print('Runtime:\\n',runtime_sgd,'\\n')\n",
    "print('Accuracy:\\n',accuracy_sgd,'\\n')\n",
    "print('Precision:\\n',precision_sgd,'\\n')\n",
    "print('Recall:\\n',recall_sgd)\n",
    "print('____________End SGD Base Model Results________________')"
   ]
  },
  {
   "cell_type": "markdown",
   "id": "c417354f-f3ca-45ca-ada4-86c19e584cd4",
   "metadata": {},
   "source": [
    "### Undersampled Data Set\n",
    "***"
   ]
  },
  {
   "cell_type": "code",
   "execution_count": null,
   "id": "a75ecc21-d505-4206-89c1-3eada33c37ad",
   "metadata": {},
   "outputs": [],
   "source": [
    "#https://towardsdatascience.com/getting-the-most-out-of-scikit-learn-pipelines-c2afc4410f1a\n",
    "\n",
    "# Define a Standard Scaler to normalize inputs\n",
    "scaler_sgd_und = RobustScaler()\n",
    "\n",
    "\n",
    "# Scale -> PCA -> LR \n",
    "sgd_und = SGDClassifier(random_state = 0)\n",
    "start_sgd_und = time.time()\n",
    "pipe_sgd_und = Pipeline(steps=[(\"scaler\", scaler_sgd_und),\n",
    "                               (\"SGD\", sgd_und)])\n",
    "\n",
    "pipe_sgd_und.fit(Xd_train,yd_train)\n",
    "end_sgd_und = time.time()\n",
    "\n",
    "#predict\n",
    "y_pred_sgd_und = pipe_sgd_und.predict(Xd_test)\n",
    "\n",
    "runtime_sgd_und = end_sgd_und-start_sgd_und\n",
    "accuracy_sgd_und = metrics.accuracy_score(yd_test,y_pred_sgd_und)\n",
    "precision_sgd_und = metrics.precision_score(yd_test, y_pred_sgd_und)\n",
    "recall_sgd_und = metrics.recall_score(yd_test, y_pred_sgd_und)\n",
    "\n",
    "#print results \n",
    "print('____________Start SGD Base Model Results______________:')\n",
    "print('Runtime:\\n',runtime_sgd_und,'\\n')\n",
    "print('Accuracy:\\n',accuracy_sgd_und,'\\n')\n",
    "print('Precision:\\n',precision_sgd_und,'\\n')\n",
    "print('Recall:\\n',recall_sgd_und)\n",
    "print('____________End SGD Base Model Results________________')"
   ]
  },
  {
   "cell_type": "markdown",
   "id": "59d367aa-42c7-425b-8fe2-14ff7c8783cc",
   "metadata": {},
   "source": [
    "***\n",
    "# Begin GridSearchCV for SGD Classifier:<br>\n",
    "***\n",
    "### Original Data Set\n",
    "***\n",
    "\n",
    "**Parameters with scoring = 'accuracy'**\n",
    "\n",
    "1) Loss: **modified_huber**\n",
    "2) Penalty: **l1**\n",
    "3) Learning Rate: **optimal**\n",
    "4) Class Weight: **balanced**\n",
    "5) Eta0: **0.1**\n",
    "\n",
    "\n",
    "**GridSearchCV Parameters decreased Accuracy by 20%**"
   ]
  },
  {
   "cell_type": "code",
   "execution_count": null,
   "id": "b2968509-92a2-4070-baf7-1973a768c214",
   "metadata": {},
   "outputs": [],
   "source": [
    "parameters = {\n",
    "             'loss':['hinge', 'log', 'modified_huber', 'squared_hinge', 'perceptron'],\n",
    "             'penalty':['l2', 'l1', 'elasticnet'],\n",
    "             'learning_rate': ['optimal','adaptive'],\n",
    "             'class_weight': ['balanced'],\n",
    "             'eta0':[0.1,1.0,10.0,100]\n",
    "             }\n",
    "\n",
    "model = SGDClassifier(random_state = 0)\n",
    "grid_search = GridSearchCV(estimator=model,\n",
    "                          param_grid=parameters,\n",
    "                          scoring = 'accuracy')\n",
    "\n",
    "start_grid = time.time()\n",
    "grid_search.fit(X_train, y_train)\n",
    "end_grid = time.time()\n",
    "\n",
    "\n",
    "print('________GridSearchCV Results:_________\\n')\n",
    "print(\n",
    "    \"GridSearchCV took %.2f seconds for %d candidate parameter settings.\\n\"\n",
    "    % (end_grid - start_grid, len(grid_search.cv_results_[\"params\"]))\n",
    ")\n",
    "print('GSCV Best Estimator:\\n',grid_search.best_estimator_,'\\n')\n",
    "print('GSCV Best Score:\\n',grid_search.best_score_,'\\n')\n",
    "print('____________End Results:______________')"
   ]
  },
  {
   "cell_type": "markdown",
   "id": "2e8ebd6e-f8ea-4711-9398-4bc09549179c",
   "metadata": {},
   "source": [
    "***\n",
    "### Original Data Set\n",
    "***\n",
    "\n",
    "**Parameters with scoring = 'f1'**\n",
    "\n",
    "1) Loss: **modified_huber**\n",
    "2) Penalty: **l1**\n",
    "3) Learning Rate: **optimal**\n",
    "4) Class Weight: **balanced**\n",
    "5) Eta0: **0.1**\n",
    "\n",
    "\n",
    "**GridSearchCV Parameters decreased Accuracy by 20%**"
   ]
  },
  {
   "cell_type": "code",
   "execution_count": null,
   "id": "dd8e0ab4-9c4c-43b8-a330-33b2dfad8dda",
   "metadata": {},
   "outputs": [],
   "source": [
    "parameters_sgd_f1 = {\n",
    "             'loss':['hinge', 'log', 'modified_huber', 'squared_hinge', 'perceptron'],\n",
    "             'penalty':['l2', 'l1', 'elasticnet'],\n",
    "             'learning_rate': ['optimal','adaptive'],\n",
    "             'class_weight': ['balanced'],\n",
    "             'eta0': [0.01,0.1,1,10,100]\n",
    "             }\n",
    "model_sgd_f1 = SGDClassifier(random_state = 0 )\n",
    "grid_search_sgd_f1 = GridSearchCV(estimator=model_sgd_f1,\n",
    "                                  param_grid_sgd_f1=parameters,\n",
    "                                  scoring = 'f1')\n",
    "start_grid_sgd_f1 = time.time()\n",
    "grid_search_sgd_f1.fit(X_train, y_train)\n",
    "end_grid_sgd_f1 = time.time()\n",
    "\n",
    "print('________GridSearchCV Results:_________\\n')\n",
    "print(\n",
    "    \"GridSearchCV took %.2f seconds for %d candidate parameter settings.\\n\"\n",
    "    % (end_grid_sgd_f1 - start_grid_sgd_f1, len(grid_search_sgd_f1.cv_results_[\"params\"]))\n",
    ")\n",
    "print('GSCV Best Estimator:\\n',grid_search_sgd_f1.best_estimator_,'\\n')\n",
    "print('GSCV Best Score:\\n',grid_search_sgd_f1.best_score_,'\\n')"
   ]
  },
  {
   "cell_type": "markdown",
   "id": "5f802ea4-d16a-4fff-8ac4-ce1fc8b718fa",
   "metadata": {},
   "source": [
    "***\n",
    "### Undersampled Data Set\n",
    "***\n",
    "\n",
    "**Parameters with scoring = 'accuracy'**\n",
    "\n",
    "1) Loss: **modified_huber**\n",
    "2) Penalty: **l1**\n",
    "3) Learning Rate: **optimal**\n",
    "4) Class Weight: **balanced**\n",
    "5) Eta0: **0.1**\n",
    "\n",
    "\n",
    "**GridSearchCV Parameters decreased Accuracy by 20%**"
   ]
  },
  {
   "cell_type": "code",
   "execution_count": null,
   "id": "f41ed52b-4cac-4734-9ba5-e180a08ac8ed",
   "metadata": {},
   "outputs": [],
   "source": [
    "parameters_sgd_und_acc = {\n",
    "             'loss':['hinge', 'log', 'modified_huber', 'squared_hinge', 'perceptron'],\n",
    "             'penalty':['l2', 'l1', 'elasticnet'],\n",
    "             'learning_rate': ['optimal','adaptive'],\n",
    "             'class_weight': ['balanced'],\n",
    "             'eta0':[0.1,1.0,10.0,100]\n",
    "             }\n",
    "\n",
    "model_und_sgd_und_acc = SGDClassifier(random_state = 0)\n",
    "grid_search_sgd_und_acc = GridSearchCV(estimator=model_sgd_und_acc,\n",
    "                                      param_grid=parameters_sgd_und_acc,\n",
    "                                      scoring = 'accuracy')\n",
    "\n",
    "start_grid_sgd_und_acc = time.time()\n",
    "grid_search_sgd_und_acc.fit(Xd_train, yd_train)\n",
    "end_grid_sgd_und_acc = time.time()\n",
    "\n",
    "\n",
    "print('________GridSearchCV Results:_________\\n')\n",
    "print(\n",
    "    \"GridSearchCV took %.2f seconds for %d candidate parameter settings.\\n\"\n",
    "    % (end_grid_sgd_und_acc - start_grid_sgd_und_acc, len(grid_search_sgd_und_acc.cv_results_[\"params\"]))\n",
    ")\n",
    "print('GSCV Best Estimator:\\n',grid_search_sgd_und_acc.best_estimator_,'\\n')\n",
    "print('GSCV Best Score:\\n',grid_search_sgd_und_acc.best_score_,'\\n')\n",
    "print('____________End Results:______________')"
   ]
  },
  {
   "cell_type": "markdown",
   "id": "fdd32fc8-88b8-44d0-b220-aa40b0889d2e",
   "metadata": {},
   "source": [
    "***\n",
    "### Undersampled Data Set\n",
    "***\n",
    "\n",
    "**Parameters with scoring = 'f1'**\n",
    "\n",
    "1) Loss: **modified_huber**\n",
    "2) Penalty: **l1**\n",
    "3) Learning Rate: **optimal**\n",
    "4) Class Weight: **balanced**\n",
    "5) Eta0: **0.1**\n",
    "\n",
    "\n",
    "**GridSearchCV Parameters decreased Accuracy by 20%**\n"
   ]
  },
  {
   "cell_type": "code",
   "execution_count": null,
   "id": "58ae9df1-a013-4e14-aa64-0f801336c76c",
   "metadata": {},
   "outputs": [],
   "source": [
    "parameters_sgd_f1_und = {\n",
    "             'loss':['hinge', 'log', 'modified_huber', 'squared_hinge', 'perceptron'],\n",
    "             'penalty':['l2', 'l1', 'elasticnet'],\n",
    "             'learning_rate': ['optimal','adaptive'],\n",
    "             'class_weight': ['balanced'],\n",
    "             'eta0': [0.01,0.1,1,10,100]\n",
    "             }\n",
    "model_sgd_f1_und = SGDClassifier(random_state = 0 )\n",
    "grid_search_sgd_f1_und = GridSearchCV(estimator=model_sgd_f1_und,\n",
    "                                  param_grid=parameters_sgd_f1_und,\n",
    "                                  scoring = 'f1')\n",
    "start_grid_sgd_f1_und = time.time()\n",
    "grid_search_sgd_f1_und.fit(X_train, y_train)\n",
    "end_grid_sgd_f1_und = time.time()\n",
    "\n",
    "print('________GridSearchCV Results:_________\\n')\n",
    "print(\n",
    "    \"GridSearchCV took %.2f seconds for %d candidate parameter settings.\\n\"\n",
    "    % (end_grid_sgd_f1_und - start_grid_sgd_f1_und, len(grid_search_sgd_f1_und.cv_results_[\"params\"]))\n",
    ")\n",
    "print('GSCV Best Estimator:\\n',grid_search_sgd_f1_und.best_estimator_,'\\n')\n",
    "print('GSCV Best Score:\\n',grid_search_sgd_f1_und.best_score_,'\\n')"
   ]
  },
  {
   "cell_type": "markdown",
   "id": "a9b050cb-b9a6-4051-9404-ba69ad999465",
   "metadata": {},
   "source": [
    "***\n",
    "## SGDClassifier with Tuned Parameters: <br>\n",
    "***\n",
    "\n",
    "#### Original Data Set\n",
    "***"
   ]
  },
  {
   "cell_type": "code",
   "execution_count": null,
   "id": "86cea598-198b-481d-80ac-4d8d998e405f",
   "metadata": {},
   "outputs": [],
   "source": [
    "#https://towardsdatascience.com/getting-the-most-out-of-scikit-learn-pipelines-c2afc4410f1a\n",
    "\n",
    "# Define a Standard Scaler to normalize inputs\n",
    "scaler_sgd_tune = RobustScaler()\n",
    "\n",
    "penalty_sgd = 'elasticnet'\n",
    "njobs_sgd = -1\n",
    "loss_sgd = 'modified_huber'\n",
    "learningrate_sgd = 'adaptive'\n",
    "classweight_sgd = 'balanced'\n",
    "eta0_sgd = 0.001\n",
    "tol_sgd = 0.0001\n",
    "rs = 0\n",
    "#scoring_sgd = 'neg_root_mean_squared_error'\n",
    "\n",
    "# Scale -> SGDClassifier\n",
    "sgd_tune = SGDClassifier(loss = loss_sgd,\n",
    "                    n_jobs = njobs_sgd,\n",
    "                    penalty = penalty_sgd,\n",
    "                    learning_rate = learningrate_sgd,\n",
    "                    class_weight = classweight_sgd,\n",
    "                    eta0 = eta0_sgd,\n",
    "                    tol = tol_sgd,\n",
    "                    #scoring = scoring_sgd,\n",
    "                    random_state = rs\n",
    "                   )\n",
    "\n",
    "start_sgd_tune = time.time()\n",
    "pipe_sgd_tune = Pipeline(steps=[(\"scaler\", scaler_sgd_tune),\n",
    "                       (\"SGD\", sgd_tune)])\n",
    "\n",
    "pipe_sgd_tune.fit(X_train,y_train)\n",
    "end_sgd_tune = time.time()\n",
    "\n",
    "#predict\n",
    "y_pred_sgd_tune = pipe_sgd_tune.predict(X_test)\n",
    "\n",
    "runtime_sgd_tune = end_sgd_tune-start_sgd_tune\n",
    "accuracy_sgd_tune = metrics.accuracy_score(y_test,y_pred_sgd_tune)\n",
    "precision_sgd_tune = metrics.precision_score(y_test, y_pred_sgd_tune)\n",
    "recall_sgd_tune = metrics.recall_score(y_test, y_pred_sgd_tune)\n",
    "\n",
    "#print results \n",
    "print('____________SGD Tuned Model Results______________:\\n')\n",
    "print('Runtime:\\n',runtime_sgd_tune,'\\n')\n",
    "print('Accuracy:\\n',accuracy_sgd_tune,'\\n')\n",
    "print('Precision:\\n',precision_sgd_tune,'\\n')\n",
    "print('Recall:\\n',recall_sgd_tune,'\\n')\n",
    "print('____________End SGD Tuned Model Results______________')"
   ]
  },
  {
   "cell_type": "markdown",
   "id": "896bdd5e-f6cd-4bcd-b4c3-32e7107d7e64",
   "metadata": {},
   "source": [
    "***\n",
    "\n",
    "#### Undersampled Data Set\n",
    "***"
   ]
  },
  {
   "cell_type": "code",
   "execution_count": null,
   "id": "d0980caa-9787-4f4d-9ac0-be1d7f4a019f",
   "metadata": {},
   "outputs": [],
   "source": [
    "#https://towardsdatascience.com/getting-the-most-out-of-scikit-learn-pipelines-c2afc4410f1a\n",
    "\n",
    "# Define a Standard Scaler to normalize inputs\n",
    "scaler_sgd_und_tune = RobustScaler()\n",
    "\n",
    "penalty_sgd = 'elasticnet'\n",
    "njobs_sgd = -1\n",
    "loss_sgd = 'modified_huber'\n",
    "learningrate_sgd = 'adaptive'\n",
    "classweight_sgd = 'balanced'\n",
    "eta0_sgd = 0.001\n",
    "tol_sgd = 0.0001\n",
    "rs = 0\n",
    "#scoring_sgd = 'neg_root_mean_squared_error'\n",
    "\n",
    "# Scale -> SGDClassifier\n",
    "sgd_und_tune = SGDClassifier(loss = loss_sgd,\n",
    "                    n_jobs = njobs_sgd,\n",
    "                    penalty = penalty_sgd,\n",
    "                    learning_rate = learningrate_sgd,\n",
    "                    class_weight = classweight_sgd,\n",
    "                    eta0 = eta0_sgd,\n",
    "                    tol = tol_sgd,\n",
    "                    #scoring = scoring_sgd,\n",
    "                    random_state = rs\n",
    "                   )\n",
    "\n",
    "start_sgd_und_tune = time.time()\n",
    "pipe_sgd_und_tune = Pipeline(steps=[(\"scaler\", scaler_sgd_und_tune),\n",
    "                       (\"SGD\", sgd_und_tune)])\n",
    "\n",
    "pipe_sgd_und_tune.fit(Xd_train,yd_train)\n",
    "end_sgd_und_tune = time.time()\n",
    "\n",
    "#predict\n",
    "y_pred_sgd_und_tune = pipe_sgd_und_tune.predict(Xd_test)\n",
    "\n",
    "runtime_sgd_und_tune = end_sgd_und_tune-start_sgd_und_tune\n",
    "accuracy_sgd_und_tune = metrics.accuracy_score(yd_test,y_pred_sgd_und_tune)\n",
    "precision_sgd_und_tune = metrics.precision_score(yd_test, y_pred_sgd_und_tune)\n",
    "recall_sgd_und_tune = metrics.recall_score(yd_test, y_pred_sgd_und_tune)\n",
    "\n",
    "#print results \n",
    "print('____________SGD Tuned Model Results______________:\\n')\n",
    "print('Runtime:\\n',runtime_sgd_und_tune,'\\n')\n",
    "print('Accuracy:\\n',accuracy_sgd_und_tune,'\\n')\n",
    "print('Precision:\\n',precision_sgd_und_tune,'\\n')\n",
    "print('Recall:\\n',recall_sgd_und_tune,'\\n')\n",
    "print('____________End SGD Tuned Model Results______________')"
   ]
  },
  {
   "cell_type": "markdown",
   "id": "ebf06866-0f05-4d17-87cf-5e04ed804920",
   "metadata": {},
   "source": [
    "***\n",
    "# Testing LightGBM\n",
    "#### Running Data through LightGBM to determine if Logistic Regression or SVM performs better"
   ]
  },
  {
   "cell_type": "code",
   "execution_count": null,
   "id": "6a8b3853-42ba-498b-9bbd-75c68cee0f24",
   "metadata": {},
   "outputs": [],
   "source": [
    "#https://towardsdatascience.com/getting-the-most-out-of-scikit-learn-pipelines-c2afc4410f1a\n",
    "#https://lightgbm.readthedocs.io/en/latest/Parameters.html#objective\n",
    "\n",
    "# Define a pipeline to search for the best combination of PCA truncation\n",
    "\n",
    "from sklearn.cross_decomposition import PLSRegression\n",
    "\n",
    "pca_lgbm = PCA(n_components = .95,\n",
    "               svd_solver = 'auto')\n",
    "\n",
    "# Define a Standard Scaler to normalize inputs\n",
    "\n",
    "scaler_lgbm = RobustScaler()\n",
    "\n",
    "lr = 0.15\n",
    "boost = 'dart' #'gbdt' \n",
    "obj = 'binary'\n",
    "tl = 'voting' # 'data'\n",
    "numiter = 1000\n",
    "mbin = 300\n",
    "nleaves = 42\n",
    "\n",
    "\n",
    "# Scale -> PCA -> LR \n",
    "lgbm = lgb.LGBMClassifier(learning_rate = lr,\n",
    "                          boosting = boost,\n",
    "                          objective = obj,\n",
    "                          tree_learner = tl,\n",
    "                          #num_iterations = numiter,\n",
    "                          num_leaves = nleaves,\n",
    "                          max_bin = mbin,\n",
    "                          extra_trees = True)\n",
    "\n",
    "start_lgbm = time.time()\n",
    "pipe_lgbm = Pipeline(steps=[(\"scaler\", scaler_lgbm),\n",
    "                       (\"pca\", pca_lgbm),\n",
    "                       (\"LightGBM\", lgbm)])\n",
    "\n",
    "pipe_lgbm.fit(X_train,y_train)\n",
    "end_lgbm = time.time()\n",
    "\n",
    "#predict\n",
    "y_pred_lgbm=pipe_lgbm.predict(X_test)\n",
    "\n",
    "runtime_lgbm = end_lgbm-start_lgbm\n",
    "accuracy_lgbm = metrics.accuracy_score(y_test,y_pred_lgbm)\n",
    "precision_lgbm = metrics.precision_score(y_test, y_pred_lgbm)\n",
    "recall_lgbm = metrics.recall_score(y_test, y_pred_lgbm)\n",
    "\n",
    "#print results \n",
    "print('____________Start LightGBM Base Model Results______________:')\n",
    "print('Runtime:\\n',runtime_lgbm,'\\n')\n",
    "print('Accuracy:\\n',accuracy_lgbm,'\\n')\n",
    "print('Precision:\\n',recall_lgbm,'\\n')\n",
    "print('Recall:\\n',recall_lgbm,'\\n')\n",
    "print('____________End LightGBM Base Model Results________________')"
   ]
  }
 ],
 "metadata": {
  "kernelspec": {
   "display_name": "Python 3 (ipykernel)",
   "language": "python",
   "name": "python3"
  },
  "language_info": {
   "codemirror_mode": {
    "name": "ipython",
    "version": 3
   },
   "file_extension": ".py",
   "mimetype": "text/x-python",
   "name": "python",
   "nbconvert_exporter": "python",
   "pygments_lexer": "ipython3",
   "version": "3.9.7"
  }
 },
 "nbformat": 4,
 "nbformat_minor": 5
}
