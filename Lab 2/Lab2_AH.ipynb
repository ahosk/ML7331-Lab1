{
 "cells": [
  {
   "cell_type": "markdown",
   "id": "79267500-c29c-4111-b452-893b9d96bfb2",
   "metadata": {},
   "source": [
    "***\n",
    "# Lab 2 ML7331\n",
    "> ### By Allen Hoskins, Brittany Lewandowski, Alexy Morris, Fidel Tamares\n",
    "\n",
    "\n",
    "***"
   ]
  },
  {
   "cell_type": "markdown",
   "id": "16502904-0f4c-4326-bf7b-37d7089139ca",
   "metadata": {},
   "source": [
    "# Data Preparation\n",
    "***"
   ]
  },
  {
   "cell_type": "code",
   "execution_count": 1,
   "id": "451ba9f9-2b49-4bf6-b0d6-2cbb85efc41e",
   "metadata": {},
   "outputs": [],
   "source": [
    "#import packages\n",
    "import pandas as pd\n",
    "import numpy as np\n",
    "import lightgbm as lgb\n",
    "\n",
    "import seaborn as sns\n",
    "import sklearn as sk\n",
    "from sklearn.preprocessing import OneHotEncoder\n",
    "from sklearn.model_selection import train_test_split\n",
    "from sklearn.linear_model import LogisticRegression,SGDClassifier,LogisticRegressionCV\n",
    "from sklearn.feature_selection import SelectPercentile,f_regression\n",
    "from sklearn.preprocessing import RobustScaler\n",
    "from sklearn.metrics import confusion_matrix\n",
    "from sklearn.decomposition import PCA\n",
    "from sklearn import metrics\n",
    "from sklearn.pipeline import Pipeline\n",
    "from sklearn.model_selection import GridSearchCV\n",
    "\n",
    "import time\n",
    "import warnings\n",
    "\n",
    "\n",
    "#allen Packages\n",
    "from catboost import CatBoostClassifier"
   ]
  },
  {
   "cell_type": "code",
   "execution_count": 2,
   "id": "b0107591-23a8-4b39-922a-7ef5f9207d90",
   "metadata": {},
   "outputs": [],
   "source": [
    "df = pd.read_csv(r'/Users/allen/Desktop/MSDS/ML1/archive/airline_merged.csv',low_memory=False)"
   ]
  },
  {
   "cell_type": "code",
   "execution_count": 3,
   "id": "f4517cee-31b5-48fb-bb6e-d76c994e2889",
   "metadata": {},
   "outputs": [],
   "source": [
    "pd.set_option('display.max_columns', None)"
   ]
  },
  {
   "cell_type": "code",
   "execution_count": 4,
   "id": "ff426ffc-69c0-43e5-8f00-0000a01793a1",
   "metadata": {},
   "outputs": [],
   "source": [
    "#removing unwanted column from previous export\n",
    "df = df.drop(columns =['Unnamed: 0'],axis =1)"
   ]
  },
  {
   "cell_type": "code",
   "execution_count": 5,
   "id": "483971d3-f468-4c5e-8305-97aa8030bc09",
   "metadata": {},
   "outputs": [],
   "source": [
    "#dropping highly correlated columns\n",
    "#https://www.codegrepper.com/code-examples/python/how+to+drop+highly+correlated+features\n",
    "# Create correlation matrix\n",
    "corr_matrix = df.corr().abs()\n",
    "\n",
    "# Select upper triangle of correlation matrix\n",
    "upper = corr_matrix.where(np.triu(np.ones(corr_matrix.shape), k=1).astype(np.bool_))\n",
    "\n",
    "# Find index of feature columns with correlation greater than 0.90\n",
    "to_drop = [column for column in upper.columns if any(upper[column] > 0.90)]\n",
    "\n",
    "df = df.drop(columns = to_drop, axis=1)"
   ]
  },
  {
   "cell_type": "code",
   "execution_count": 6,
   "id": "48e6c617-3e9e-479b-b26d-8d2891835dc7",
   "metadata": {},
   "outputs": [
    {
     "name": "stdout",
     "output_type": "stream",
     "text": [
      "<class 'pandas.core.frame.DataFrame'>\n",
      "RangeIndex: 5819079 entries, 0 to 5819078\n",
      "Data columns (total 37 columns):\n",
      " #   Column                 Dtype  \n",
      "---  ------                 -----  \n",
      " 0   year                   int64  \n",
      " 1   month                  int64  \n",
      " 2   day                    int64  \n",
      " 3   day_of_week            int64  \n",
      " 4   airline_cd             object \n",
      " 5   airline_name           object \n",
      " 6   flight_number          int64  \n",
      " 7   tail_number            object \n",
      " 8   origin_airport         object \n",
      " 9   airport_origin         object \n",
      " 10  city_origin            object \n",
      " 11  state_origin           object \n",
      " 12  country_origin         object \n",
      " 13  latitude_origin        float64\n",
      " 14  longitude_origin       float64\n",
      " 15  destination_airport    object \n",
      " 16  airport_destination    object \n",
      " 17  city_destination       object \n",
      " 18  state_destination      object \n",
      " 19  country_destination    object \n",
      " 20  latitude_destination   float64\n",
      " 21  longitude_destination  float64\n",
      " 22  scheduled_departure    int64  \n",
      " 23  departure_delay        float64\n",
      " 24  taxi_out               float64\n",
      " 25  scheduled_time         float64\n",
      " 26  wheels_on              float64\n",
      " 27  taxi_in                float64\n",
      " 28  scheduled_arrival      int64  \n",
      " 29  diverted               int64  \n",
      " 30  cancelled              int64  \n",
      " 31  cancellation_reason    object \n",
      " 32  air_system_delay       float64\n",
      " 33  security_delay         float64\n",
      " 34  airline_delay          float64\n",
      " 35  late_aircraft_delay    float64\n",
      " 36  weather_delay          float64\n",
      "dtypes: float64(14), int64(9), object(14)\n",
      "memory usage: 1.6+ GB\n"
     ]
    }
   ],
   "source": [
    "#looking at dataframe after removing highly correlated fields.\n",
    "df.info()"
   ]
  },
  {
   "cell_type": "code",
   "execution_count": 7,
   "id": "af3e701f-617b-408d-a9d2-15c2ebea06ce",
   "metadata": {},
   "outputs": [],
   "source": [
    "#selecting subset of data set\n",
    "airports = ['BHM']"
   ]
  },
  {
   "cell_type": "code",
   "execution_count": 8,
   "id": "9e1fd402-eba4-4790-96f2-54a9f3fe04b6",
   "metadata": {},
   "outputs": [],
   "source": [
    "df_air = df.loc[df['origin_airport'].isin(airports)]"
   ]
  },
  {
   "cell_type": "code",
   "execution_count": 9,
   "id": "c3b61b09-4966-4f05-a5d5-96db7c1b9552",
   "metadata": {},
   "outputs": [
    {
     "data": {
      "text/html": [
       "<div>\n",
       "<style scoped>\n",
       "    .dataframe tbody tr th:only-of-type {\n",
       "        vertical-align: middle;\n",
       "    }\n",
       "\n",
       "    .dataframe tbody tr th {\n",
       "        vertical-align: top;\n",
       "    }\n",
       "\n",
       "    .dataframe thead th {\n",
       "        text-align: right;\n",
       "    }\n",
       "</style>\n",
       "<table border=\"1\" class=\"dataframe\">\n",
       "  <thead>\n",
       "    <tr style=\"text-align: right;\">\n",
       "      <th></th>\n",
       "      <th>year</th>\n",
       "      <th>month</th>\n",
       "      <th>day</th>\n",
       "      <th>day_of_week</th>\n",
       "      <th>flight_number</th>\n",
       "      <th>latitude_origin</th>\n",
       "      <th>longitude_origin</th>\n",
       "      <th>latitude_destination</th>\n",
       "      <th>longitude_destination</th>\n",
       "      <th>scheduled_departure</th>\n",
       "      <th>departure_delay</th>\n",
       "      <th>taxi_out</th>\n",
       "      <th>scheduled_time</th>\n",
       "      <th>wheels_on</th>\n",
       "      <th>taxi_in</th>\n",
       "      <th>scheduled_arrival</th>\n",
       "      <th>diverted</th>\n",
       "      <th>cancelled</th>\n",
       "      <th>air_system_delay</th>\n",
       "      <th>security_delay</th>\n",
       "      <th>airline_delay</th>\n",
       "      <th>late_aircraft_delay</th>\n",
       "      <th>weather_delay</th>\n",
       "    </tr>\n",
       "  </thead>\n",
       "  <tbody>\n",
       "    <tr>\n",
       "      <th>count</th>\n",
       "      <td>12514.0</td>\n",
       "      <td>12514.000000</td>\n",
       "      <td>12514.000000</td>\n",
       "      <td>12514.000000</td>\n",
       "      <td>12514.000000</td>\n",
       "      <td>1.251400e+04</td>\n",
       "      <td>1.251400e+04</td>\n",
       "      <td>12514.000000</td>\n",
       "      <td>12514.000000</td>\n",
       "      <td>12514.000000</td>\n",
       "      <td>12338.000000</td>\n",
       "      <td>12334.000000</td>\n",
       "      <td>12514.000000</td>\n",
       "      <td>12324.000000</td>\n",
       "      <td>12324.000000</td>\n",
       "      <td>12514.000000</td>\n",
       "      <td>12514.000000</td>\n",
       "      <td>12514.000000</td>\n",
       "      <td>2128.000000</td>\n",
       "      <td>2128.000000</td>\n",
       "      <td>2128.000000</td>\n",
       "      <td>2128.000000</td>\n",
       "      <td>2128.000000</td>\n",
       "    </tr>\n",
       "    <tr>\n",
       "      <th>mean</th>\n",
       "      <td>2015.0</td>\n",
       "      <td>6.150951</td>\n",
       "      <td>15.687710</td>\n",
       "      <td>3.879575</td>\n",
       "      <td>2876.476346</td>\n",
       "      <td>3.356294e+01</td>\n",
       "      <td>-8.675355e+01</td>\n",
       "      <td>34.252718</td>\n",
       "      <td>-88.175001</td>\n",
       "      <td>1192.116909</td>\n",
       "      <td>9.032906</td>\n",
       "      <td>13.783525</td>\n",
       "      <td>108.121864</td>\n",
       "      <td>1399.118306</td>\n",
       "      <td>8.632587</td>\n",
       "      <td>1416.011507</td>\n",
       "      <td>0.004075</td>\n",
       "      <td>0.014464</td>\n",
       "      <td>14.805921</td>\n",
       "      <td>0.091635</td>\n",
       "      <td>20.292293</td>\n",
       "      <td>27.732613</td>\n",
       "      <td>2.580827</td>\n",
       "    </tr>\n",
       "    <tr>\n",
       "      <th>std</th>\n",
       "      <td>0.0</td>\n",
       "      <td>3.384375</td>\n",
       "      <td>8.763785</td>\n",
       "      <td>1.992624</td>\n",
       "      <td>1951.952017</td>\n",
       "      <td>7.787860e-12</td>\n",
       "      <td>1.647104e-11</td>\n",
       "      <td>4.990106</td>\n",
       "      <td>8.325266</td>\n",
       "      <td>445.126945</td>\n",
       "      <td>43.869223</td>\n",
       "      <td>7.389709</td>\n",
       "      <td>36.974468</td>\n",
       "      <td>458.707388</td>\n",
       "      <td>5.844535</td>\n",
       "      <td>443.946518</td>\n",
       "      <td>0.063711</td>\n",
       "      <td>0.119397</td>\n",
       "      <td>32.820428</td>\n",
       "      <td>3.167858</td>\n",
       "      <td>73.036267</td>\n",
       "      <td>47.048389</td>\n",
       "      <td>16.190917</td>\n",
       "    </tr>\n",
       "    <tr>\n",
       "      <th>min</th>\n",
       "      <td>2015.0</td>\n",
       "      <td>1.000000</td>\n",
       "      <td>1.000000</td>\n",
       "      <td>1.000000</td>\n",
       "      <td>3.000000</td>\n",
       "      <td>3.356294e+01</td>\n",
       "      <td>-8.675355e+01</td>\n",
       "      <td>25.793250</td>\n",
       "      <td>-115.152330</td>\n",
       "      <td>500.000000</td>\n",
       "      <td>-20.000000</td>\n",
       "      <td>4.000000</td>\n",
       "      <td>52.000000</td>\n",
       "      <td>3.000000</td>\n",
       "      <td>1.000000</td>\n",
       "      <td>707.000000</td>\n",
       "      <td>0.000000</td>\n",
       "      <td>0.000000</td>\n",
       "      <td>0.000000</td>\n",
       "      <td>0.000000</td>\n",
       "      <td>0.000000</td>\n",
       "      <td>0.000000</td>\n",
       "      <td>0.000000</td>\n",
       "    </tr>\n",
       "    <tr>\n",
       "      <th>25%</th>\n",
       "      <td>2015.0</td>\n",
       "      <td>3.000000</td>\n",
       "      <td>8.000000</td>\n",
       "      <td>2.000000</td>\n",
       "      <td>1051.000000</td>\n",
       "      <td>3.356294e+01</td>\n",
       "      <td>-8.675355e+01</td>\n",
       "      <td>29.980470</td>\n",
       "      <td>-95.339720</td>\n",
       "      <td>745.000000</td>\n",
       "      <td>-5.000000</td>\n",
       "      <td>9.000000</td>\n",
       "      <td>76.000000</td>\n",
       "      <td>952.000000</td>\n",
       "      <td>5.000000</td>\n",
       "      <td>1009.000000</td>\n",
       "      <td>0.000000</td>\n",
       "      <td>0.000000</td>\n",
       "      <td>0.000000</td>\n",
       "      <td>0.000000</td>\n",
       "      <td>0.000000</td>\n",
       "      <td>0.000000</td>\n",
       "      <td>0.000000</td>\n",
       "    </tr>\n",
       "    <tr>\n",
       "      <th>50%</th>\n",
       "      <td>2015.0</td>\n",
       "      <td>6.000000</td>\n",
       "      <td>16.000000</td>\n",
       "      <td>4.000000</td>\n",
       "      <td>2525.000000</td>\n",
       "      <td>3.356294e+01</td>\n",
       "      <td>-8.675355e+01</td>\n",
       "      <td>33.640440</td>\n",
       "      <td>-84.426940</td>\n",
       "      <td>1200.000000</td>\n",
       "      <td>-2.000000</td>\n",
       "      <td>12.000000</td>\n",
       "      <td>113.000000</td>\n",
       "      <td>1402.000000</td>\n",
       "      <td>7.000000</td>\n",
       "      <td>1414.000000</td>\n",
       "      <td>0.000000</td>\n",
       "      <td>0.000000</td>\n",
       "      <td>3.000000</td>\n",
       "      <td>0.000000</td>\n",
       "      <td>0.000000</td>\n",
       "      <td>9.000000</td>\n",
       "      <td>0.000000</td>\n",
       "    </tr>\n",
       "    <tr>\n",
       "      <th>75%</th>\n",
       "      <td>2015.0</td>\n",
       "      <td>9.000000</td>\n",
       "      <td>23.000000</td>\n",
       "      <td>5.000000</td>\n",
       "      <td>4592.000000</td>\n",
       "      <td>3.356294e+01</td>\n",
       "      <td>-8.675355e+01</td>\n",
       "      <td>39.175400</td>\n",
       "      <td>-83.348840</td>\n",
       "      <td>1609.000000</td>\n",
       "      <td>4.000000</td>\n",
       "      <td>16.000000</td>\n",
       "      <td>123.000000</td>\n",
       "      <td>1823.000000</td>\n",
       "      <td>10.000000</td>\n",
       "      <td>1825.000000</td>\n",
       "      <td>0.000000</td>\n",
       "      <td>0.000000</td>\n",
       "      <td>18.000000</td>\n",
       "      <td>0.000000</td>\n",
       "      <td>10.000000</td>\n",
       "      <td>34.000000</td>\n",
       "      <td>0.000000</td>\n",
       "    </tr>\n",
       "    <tr>\n",
       "      <th>max</th>\n",
       "      <td>2015.0</td>\n",
       "      <td>12.000000</td>\n",
       "      <td>31.000000</td>\n",
       "      <td>7.000000</td>\n",
       "      <td>6813.000000</td>\n",
       "      <td>3.356294e+01</td>\n",
       "      <td>-8.675355e+01</td>\n",
       "      <td>42.212060</td>\n",
       "      <td>-73.872610</td>\n",
       "      <td>2055.000000</td>\n",
       "      <td>1988.000000</td>\n",
       "      <td>116.000000</td>\n",
       "      <td>260.000000</td>\n",
       "      <td>2357.000000</td>\n",
       "      <td>150.000000</td>\n",
       "      <td>2325.000000</td>\n",
       "      <td>1.000000</td>\n",
       "      <td>1.000000</td>\n",
       "      <td>493.000000</td>\n",
       "      <td>144.000000</td>\n",
       "      <td>1971.000000</td>\n",
       "      <td>420.000000</td>\n",
       "      <td>240.000000</td>\n",
       "    </tr>\n",
       "  </tbody>\n",
       "</table>\n",
       "</div>"
      ],
      "text/plain": [
       "          year         month           day   day_of_week  flight_number  \\\n",
       "count  12514.0  12514.000000  12514.000000  12514.000000   12514.000000   \n",
       "mean    2015.0      6.150951     15.687710      3.879575    2876.476346   \n",
       "std        0.0      3.384375      8.763785      1.992624    1951.952017   \n",
       "min     2015.0      1.000000      1.000000      1.000000       3.000000   \n",
       "25%     2015.0      3.000000      8.000000      2.000000    1051.000000   \n",
       "50%     2015.0      6.000000     16.000000      4.000000    2525.000000   \n",
       "75%     2015.0      9.000000     23.000000      5.000000    4592.000000   \n",
       "max     2015.0     12.000000     31.000000      7.000000    6813.000000   \n",
       "\n",
       "       latitude_origin  longitude_origin  latitude_destination  \\\n",
       "count     1.251400e+04      1.251400e+04          12514.000000   \n",
       "mean      3.356294e+01     -8.675355e+01             34.252718   \n",
       "std       7.787860e-12      1.647104e-11              4.990106   \n",
       "min       3.356294e+01     -8.675355e+01             25.793250   \n",
       "25%       3.356294e+01     -8.675355e+01             29.980470   \n",
       "50%       3.356294e+01     -8.675355e+01             33.640440   \n",
       "75%       3.356294e+01     -8.675355e+01             39.175400   \n",
       "max       3.356294e+01     -8.675355e+01             42.212060   \n",
       "\n",
       "       longitude_destination  scheduled_departure  departure_delay  \\\n",
       "count           12514.000000         12514.000000     12338.000000   \n",
       "mean              -88.175001          1192.116909         9.032906   \n",
       "std                 8.325266           445.126945        43.869223   \n",
       "min              -115.152330           500.000000       -20.000000   \n",
       "25%               -95.339720           745.000000        -5.000000   \n",
       "50%               -84.426940          1200.000000        -2.000000   \n",
       "75%               -83.348840          1609.000000         4.000000   \n",
       "max               -73.872610          2055.000000      1988.000000   \n",
       "\n",
       "           taxi_out  scheduled_time     wheels_on       taxi_in  \\\n",
       "count  12334.000000    12514.000000  12324.000000  12324.000000   \n",
       "mean      13.783525      108.121864   1399.118306      8.632587   \n",
       "std        7.389709       36.974468    458.707388      5.844535   \n",
       "min        4.000000       52.000000      3.000000      1.000000   \n",
       "25%        9.000000       76.000000    952.000000      5.000000   \n",
       "50%       12.000000      113.000000   1402.000000      7.000000   \n",
       "75%       16.000000      123.000000   1823.000000     10.000000   \n",
       "max      116.000000      260.000000   2357.000000    150.000000   \n",
       "\n",
       "       scheduled_arrival      diverted     cancelled  air_system_delay  \\\n",
       "count       12514.000000  12514.000000  12514.000000       2128.000000   \n",
       "mean         1416.011507      0.004075      0.014464         14.805921   \n",
       "std           443.946518      0.063711      0.119397         32.820428   \n",
       "min           707.000000      0.000000      0.000000          0.000000   \n",
       "25%          1009.000000      0.000000      0.000000          0.000000   \n",
       "50%          1414.000000      0.000000      0.000000          3.000000   \n",
       "75%          1825.000000      0.000000      0.000000         18.000000   \n",
       "max          2325.000000      1.000000      1.000000        493.000000   \n",
       "\n",
       "       security_delay  airline_delay  late_aircraft_delay  weather_delay  \n",
       "count     2128.000000    2128.000000          2128.000000    2128.000000  \n",
       "mean         0.091635      20.292293            27.732613       2.580827  \n",
       "std          3.167858      73.036267            47.048389      16.190917  \n",
       "min          0.000000       0.000000             0.000000       0.000000  \n",
       "25%          0.000000       0.000000             0.000000       0.000000  \n",
       "50%          0.000000       0.000000             9.000000       0.000000  \n",
       "75%          0.000000      10.000000            34.000000       0.000000  \n",
       "max        144.000000    1971.000000           420.000000     240.000000  "
      ]
     },
     "execution_count": 9,
     "metadata": {},
     "output_type": "execute_result"
    }
   ],
   "source": [
    "df_air.describe()"
   ]
  },
  {
   "cell_type": "code",
   "execution_count": 10,
   "id": "461b91a0-8f72-4201-a992-1405196a0a45",
   "metadata": {},
   "outputs": [],
   "source": [
    "#selecting columns that are dtype != numeric\n",
    "non_numeric = df_air.select_dtypes(exclude = np.number).columns"
   ]
  },
  {
   "cell_type": "code",
   "execution_count": 16,
   "id": "36ce46eb-cee2-45d2-80c5-9859ad74bd12",
   "metadata": {},
   "outputs": [
    {
     "name": "stderr",
     "output_type": "stream",
     "text": [
      "/var/folders/cn/_lgzxbk177j14_b82nbl10br0000gn/T/ipykernel_90970/3939397851.py:10: SettingWithCopyWarning: \n",
      "A value is trying to be set on a copy of a slice from a DataFrame.\n",
      "Try using .loc[row_indexer,col_indexer] = value instead\n",
      "\n",
      "See the caveats in the documentation: https://pandas.pydata.org/pandas-docs/stable/user_guide/indexing.html#returning-a-view-versus-a-copy\n",
      "  df_air['is_delay'] = df_air.loc[:,'departure_delay'].apply(is_delayed)\n"
     ]
    }
   ],
   "source": [
    "#create binary response for logistic regression\n",
    "# create a function\n",
    "def is_delayed(delay,axis=1):\n",
    "    if delay <= 0:\n",
    "        return 0\n",
    "    else:\n",
    "        return 1\n",
    "    \n",
    "# create a new column based on condition\n",
    "df_air['is_delay'] = df_air.loc[:,'departure_delay'].apply(is_delayed)"
   ]
  },
  {
   "cell_type": "code",
   "execution_count": 17,
   "id": "09e9e22d-1d3d-427e-8984-40bdf4de53c3",
   "metadata": {},
   "outputs": [
    {
     "name": "stdout",
     "output_type": "stream",
     "text": [
      "<class 'pandas.core.frame.DataFrame'>\n",
      "Int64Index: 12514 entries, 321 to 5817010\n",
      "Data columns (total 39 columns):\n",
      " #   Column                 Non-Null Count  Dtype  \n",
      "---  ------                 --------------  -----  \n",
      " 0   year                   12514 non-null  int64  \n",
      " 1   month                  12514 non-null  int64  \n",
      " 2   day                    12514 non-null  int64  \n",
      " 3   day_of_week            12514 non-null  int64  \n",
      " 4   airline_cd             12514 non-null  object \n",
      " 5   airline_name           12514 non-null  object \n",
      " 6   flight_number          12514 non-null  int64  \n",
      " 7   tail_number            12510 non-null  object \n",
      " 8   origin_airport         12514 non-null  object \n",
      " 9   airport_origin         12514 non-null  object \n",
      " 10  city_origin            12514 non-null  object \n",
      " 11  state_origin           12514 non-null  object \n",
      " 12  country_origin         12514 non-null  object \n",
      " 13  latitude_origin        12514 non-null  float64\n",
      " 14  longitude_origin       12514 non-null  float64\n",
      " 15  destination_airport    12514 non-null  object \n",
      " 16  airport_destination    12514 non-null  object \n",
      " 17  city_destination       12514 non-null  object \n",
      " 18  state_destination      12514 non-null  object \n",
      " 19  country_destination    12514 non-null  object \n",
      " 20  latitude_destination   12514 non-null  float64\n",
      " 21  longitude_destination  12514 non-null  float64\n",
      " 22  scheduled_departure    12514 non-null  int64  \n",
      " 23  departure_delay        12338 non-null  float64\n",
      " 24  taxi_out               12334 non-null  float64\n",
      " 25  scheduled_time         12514 non-null  float64\n",
      " 26  wheels_on              12324 non-null  float64\n",
      " 27  taxi_in                12324 non-null  float64\n",
      " 28  scheduled_arrival      12514 non-null  int64  \n",
      " 29  diverted               12514 non-null  int64  \n",
      " 30  cancelled              12514 non-null  int64  \n",
      " 31  cancellation_reason    181 non-null    object \n",
      " 32  air_system_delay       2128 non-null   float64\n",
      " 33  security_delay         2128 non-null   float64\n",
      " 34  airline_delay          2128 non-null   float64\n",
      " 35  late_aircraft_delay    2128 non-null   float64\n",
      " 36  weather_delay          2128 non-null   float64\n",
      " 37  is_departure_delay     12514 non-null  int64  \n",
      " 38  is_delay               12514 non-null  int64  \n",
      "dtypes: float64(14), int64(11), object(14)\n",
      "memory usage: 4.1+ MB\n"
     ]
    }
   ],
   "source": [
    "df_air.info(verbose=True)"
   ]
  },
  {
   "cell_type": "code",
   "execution_count": 13,
   "id": "7abb768a-6b4a-4ded-bff0-5a28f76995e5",
   "metadata": {},
   "outputs": [],
   "source": [
    "#Departure Delay - response\n",
    "#altered from https://www.statology.org/one-hot-encoding-in-python/\n",
    "\n",
    "#creating instance of one-hot-encoder\n",
    "encoder = OneHotEncoder(handle_unknown='ignore',drop='first')\n",
    "\n",
    "#perform one-hot encoding on non-numeric column s\n",
    "encoder_df = pd.DataFrame(encoder.fit_transform(df_air[non_numeric]).toarray())\n",
    "\n",
    "#return column names from encoder\n",
    "encoder_df.columns = encoder.get_feature_names_out()\n",
    "\n",
    "#merge one-hot encoded columns back with original DataFrame\n",
    "encoded = df_air.join(encoder_df)"
   ]
  },
  {
   "cell_type": "code",
   "execution_count": 14,
   "id": "c8ea02c6-6ccd-41d9-bf50-447a1dcd81a5",
   "metadata": {},
   "outputs": [],
   "source": [
    "#drop original columns\n",
    "final_df = encoded.drop(non_numeric, axis=1)"
   ]
  },
  {
   "cell_type": "code",
   "execution_count": 15,
   "id": "e4287d50-24b4-4556-8fcb-1da1e29695e3",
   "metadata": {},
   "outputs": [
    {
     "ename": "AttributeError",
     "evalue": "'DataFrame' object has no attribute 'is_delay'",
     "output_type": "error",
     "traceback": [
      "\u001b[0;31m---------------------------------------------------------------------------\u001b[0m",
      "\u001b[0;31mAttributeError\u001b[0m                            Traceback (most recent call last)",
      "Input \u001b[0;32mIn [15]\u001b[0m, in \u001b[0;36m<cell line: 5>\u001b[0;34m()\u001b[0m\n\u001b[1;32m      3\u001b[0m feature_delay_cols \u001b[38;5;241m=\u001b[39m final_df\u001b[38;5;241m.\u001b[39mloc[:, \u001b[38;5;241m~\u001b[39mfinal_df\u001b[38;5;241m.\u001b[39mcolumns\u001b[38;5;241m.\u001b[39misin(target_delay_cols)]\u001b[38;5;241m.\u001b[39mcolumns\n\u001b[1;32m      4\u001b[0m X_delay \u001b[38;5;241m=\u001b[39m final_df[feature_delay_cols] \u001b[38;5;66;03m# Features\u001b[39;00m\n\u001b[0;32m----> 5\u001b[0m y_delay \u001b[38;5;241m=\u001b[39m \u001b[43mfinal_df\u001b[49m\u001b[38;5;241;43m.\u001b[39;49m\u001b[43mis_delay\u001b[49m\n",
      "File \u001b[0;32m~/opt/anaconda3/lib/python3.9/site-packages/pandas/core/generic.py:5575\u001b[0m, in \u001b[0;36mNDFrame.__getattr__\u001b[0;34m(self, name)\u001b[0m\n\u001b[1;32m   5568\u001b[0m \u001b[38;5;28;01mif\u001b[39;00m (\n\u001b[1;32m   5569\u001b[0m     name \u001b[38;5;129;01mnot\u001b[39;00m \u001b[38;5;129;01min\u001b[39;00m \u001b[38;5;28mself\u001b[39m\u001b[38;5;241m.\u001b[39m_internal_names_set\n\u001b[1;32m   5570\u001b[0m     \u001b[38;5;129;01mand\u001b[39;00m name \u001b[38;5;129;01mnot\u001b[39;00m \u001b[38;5;129;01min\u001b[39;00m \u001b[38;5;28mself\u001b[39m\u001b[38;5;241m.\u001b[39m_metadata\n\u001b[1;32m   5571\u001b[0m     \u001b[38;5;129;01mand\u001b[39;00m name \u001b[38;5;129;01mnot\u001b[39;00m \u001b[38;5;129;01min\u001b[39;00m \u001b[38;5;28mself\u001b[39m\u001b[38;5;241m.\u001b[39m_accessors\n\u001b[1;32m   5572\u001b[0m     \u001b[38;5;129;01mand\u001b[39;00m \u001b[38;5;28mself\u001b[39m\u001b[38;5;241m.\u001b[39m_info_axis\u001b[38;5;241m.\u001b[39m_can_hold_identifiers_and_holds_name(name)\n\u001b[1;32m   5573\u001b[0m ):\n\u001b[1;32m   5574\u001b[0m     \u001b[38;5;28;01mreturn\u001b[39;00m \u001b[38;5;28mself\u001b[39m[name]\n\u001b[0;32m-> 5575\u001b[0m \u001b[38;5;28;01mreturn\u001b[39;00m \u001b[38;5;28;43mobject\u001b[39;49m\u001b[38;5;241;43m.\u001b[39;49m\u001b[38;5;21;43m__getattribute__\u001b[39;49m\u001b[43m(\u001b[49m\u001b[38;5;28;43mself\u001b[39;49m\u001b[43m,\u001b[49m\u001b[43m \u001b[49m\u001b[43mname\u001b[49m\u001b[43m)\u001b[49m\n",
      "\u001b[0;31mAttributeError\u001b[0m: 'DataFrame' object has no attribute 'is_delay'"
     ]
    }
   ],
   "source": [
    "#remove target variable and column target was created from training data set\n",
    "target_delay_cols = ['is_delay','departure_delay']\n",
    "feature_delay_cols = final_df.loc[:, ~final_df.columns.isin(target_delay_cols)].columns\n",
    "X_delay = final_df[feature_delay_cols] # Features\n",
    "y_delay = final_df.is_delay # Target variable"
   ]
  },
  {
   "cell_type": "code",
   "execution_count": null,
   "id": "6a9ce132-0bc1-46ed-9eab-80218e695d45",
   "metadata": {},
   "outputs": [],
   "source": [
    "#remove target variable and column target was created from training data set\n",
    "target_cancel_cols = ['cancelled','cancellation_reason']\n",
    "feature_cancel_cols = final_df.loc[:, ~final_df.columns.isin(target_cancel_cols)].columns\n",
    "X_cancel = final_df[feature_cancel_cols] # Features\n",
    "y_cancel = final_df.is_delay # Target variable"
   ]
  },
  {
   "cell_type": "code",
   "execution_count": null,
   "id": "67a4b1ae-080a-4635-8ae1-4be1b9336623",
   "metadata": {},
   "outputs": [],
   "source": [
    "#split original dataset into features and target variable\n",
    "X_delay_train,X_delay_test,y_delay_train,y_delay_test=train_test_split(X_delay,y_delay,test_size=0.20,random_state=0)"
   ]
  },
  {
   "cell_type": "code",
   "execution_count": null,
   "id": "055ad388-8d5e-4ffa-b679-fddffd8ff6b2",
   "metadata": {},
   "outputs": [],
   "source": [
    "#split original dataset into features and target variable\n",
    "X_cancel_train,X_cancel_test,y_cancel_train,y_cancel_test=train_test_split(X_cancel,y_cancel,test_size=0.20,random_state=0)"
   ]
  },
  {
   "cell_type": "code",
   "execution_count": null,
   "id": "7ea01c9a-2350-4c65-a255-fb0b8663f745",
   "metadata": {},
   "outputs": [],
   "source": [
    "#imputing 0 into NaN values for logistic regression after OHE\n",
    "X_cancel_train = X_cancel_train.fillna(0)\n",
    "X_cancel_test = X_cancel_test.fillna(0)\n",
    "y_cancel_train = y_cancel_train.fillna(0)\n",
    "y_cancel_test = y_cancel_test.fillna(0)"
   ]
  },
  {
   "cell_type": "code",
   "execution_count": null,
   "id": "0585a13c-5555-4eb3-92a2-01b803bce816",
   "metadata": {},
   "outputs": [],
   "source": [
    "#imputing 0 into NaN values for logistic regression after OHE\n",
    "X_delay_train = X_delay_train.fillna(0)\n",
    "X_delay_test = X_delay_test.fillna(0)\n",
    "y_delay_train = y_delay_train.fillna(0)\n",
    "y_delay_test = y_delay_test.fillna(0)"
   ]
  },
  {
   "cell_type": "code",
   "execution_count": null,
   "id": "4b49d434-1eff-488a-a351-e802e951601e",
   "metadata": {},
   "outputs": [],
   "source": [
    "#checking shape of data\n",
    "print('X_cancel_train shape: ',X_cancel_train.shape,'\\n')\n",
    "print('X_cancel_test shape: ',X_cancel_test.shape,'\\n')\n",
    "print('y_cancel_train shape: ',y_cancel_train.shape,'\\n')\n",
    "print('y_cancel_test shape: ',y_cancel_test.shape)"
   ]
  },
  {
   "cell_type": "code",
   "execution_count": null,
   "id": "70fe89df-71f6-4820-9489-4e64b06b1754",
   "metadata": {},
   "outputs": [],
   "source": [
    "#checking shape of data\n",
    "print('X_delay_train shape: ',X_delay_train.shape,'\\n')\n",
    "print('X_delay_test shape: ',X_delay_test.shape,'\\n')\n",
    "print('y_delay_train shape: ',y_delay_train.shape,'\\n')\n",
    "print('y_delay_test shape: ',y_delay_test.shape)"
   ]
  },
  {
   "cell_type": "markdown",
   "id": "d7738f14-64a4-4f45-a923-dd57b888311c",
   "metadata": {},
   "source": [
    "***\n",
    "# Modeling and Evaluation\n",
    "***"
   ]
  },
  {
   "cell_type": "markdown",
   "id": "c4004f79-3d31-4a05-947b-e84c26c88533",
   "metadata": {},
   "source": [
    "### LGBM:\n",
    "***"
   ]
  },
  {
   "cell_type": "code",
   "execution_count": null,
   "id": "0dc99fca-ae06-44b1-891c-90ed4ce906eb",
   "metadata": {},
   "outputs": [],
   "source": [
    "#https://towardsdatascience.com/getting-the-most-out-of-scikit-learn-pipelines-c2afc4410f1a\n",
    "#https://lightgbm.readthedocs.io/en/latest/Parameters.html#objective\n",
    "\n",
    "# Define a pipeline to search for the best combination of PCA truncation\n",
    "\n",
    "pca_lgbm = PCA(n_components = .95,\n",
    "               svd_solver = 'auto')\n"
   ]
  },
  {
   "cell_type": "code",
   "execution_count": null,
   "id": "79360527-77f0-47fc-aca6-dd5e0eb084dc",
   "metadata": {},
   "outputs": [],
   "source": [
    "# Define a Standard Scaler to normalize inputs\n",
    "\n",
    "scaler_lgbm = RobustScaler()\n",
    "\n",
    "lr = 0.15\n",
    "boost = 'dart' #'gbdt' \n",
    "obj = 'binary'\n",
    "tl = 'voting' # 'data'\n",
    "numiter = 1000\n",
    "mbin = 300\n",
    "nleaves = 42\n"
   ]
  },
  {
   "cell_type": "code",
   "execution_count": null,
   "id": "15bea214-8f1d-4c6d-9b5e-334cae776c1e",
   "metadata": {},
   "outputs": [],
   "source": [
    "# Scale -> PCA -> LR \n",
    "lgbm = lgb.LGBMClassifier(learning_rate = lr,\n",
    "                          boosting = boost,\n",
    "                          objective = obj,\n",
    "                          tree_learner = tl,\n",
    "                          #num_iterations = numiter,\n",
    "                          num_leaves = nleaves,\n",
    "                          max_bin = mbin,\n",
    "                          extra_trees = True)\n"
   ]
  },
  {
   "cell_type": "code",
   "execution_count": null,
   "id": "b1a2df80-cc4b-4949-8050-13b287b16807",
   "metadata": {},
   "outputs": [],
   "source": [
    "%%time\n",
    "#start_lgbm = time.time()\n",
    "pipe_lgbm = Pipeline(steps=[(\"scaler\", scaler_lgbm),\n",
    "                       (\"pca\", pca_lgbm),\n",
    "                       (\"LightGBM\", lgbm)])\n",
    "\n",
    "pipe_lgbm.fit(X_train,y_train)\n",
    "#end_lgbm = time.time()"
   ]
  },
  {
   "cell_type": "code",
   "execution_count": null,
   "id": "3ca64761-a1eb-4972-823e-da0b0d6c1d7a",
   "metadata": {},
   "outputs": [],
   "source": [
    "#predict\n",
    "y_pred_lgbm=pipe_lgbm.predict(X_test)"
   ]
  },
  {
   "cell_type": "code",
   "execution_count": null,
   "id": "c6e12034-17e9-426e-9b4f-d131dbd24805",
   "metadata": {},
   "outputs": [],
   "source": [
    "accuracy_lgbm = metrics.accuracy_score(y_test,y_pred_lgbm)\n",
    "precision_lgbm = metrics.precision_score(y_test, y_pred_lgbm)\n",
    "recall_lgbm = metrics.recall_score(y_test, y_pred_lgbm)"
   ]
  },
  {
   "cell_type": "code",
   "execution_count": null,
   "id": "c460e17d-896b-4b0e-a244-10eed4ca4bbe",
   "metadata": {},
   "outputs": [],
   "source": [
    "#print results \n",
    "print('____________Start LightGBM Base Model Results______________:')\n",
    "print('Accuracy:\\n',accuracy_lgbm,'\\n')\n",
    "print('Precision:\\n',recall_lgbm,'\\n')\n",
    "print('Recall:\\n',recall_lgbm,'\\n')\n",
    "print('____________End LightGBM Base Model Results________________')"
   ]
  },
  {
   "cell_type": "markdown",
   "id": "fef08938-3ed9-421d-9ffb-6f1b1ef98aa3",
   "metadata": {},
   "source": [
    "***\n",
    "## Random Forest:\n",
    "***"
   ]
  },
  {
   "cell_type": "code",
   "execution_count": null,
   "id": "0a740632-9349-4653-b4c7-1eccfd5d4681",
   "metadata": {},
   "outputs": [],
   "source": [
    "#Importing required libraries.\n",
    "from sklearn.ensemble import RandomForestClassifier \n",
    "from sklearn.model_selection import StratifiedKFold\n",
    "from sklearn.preprocessing import StandardScaler\n",
    "from sklearn.model_selection import cross_val_score\n",
    "from sklearn.metrics import classification_report, confusion_matrix"
   ]
  },
  {
   "cell_type": "code",
   "execution_count": null,
   "id": "6bc68b10-5e4c-4962-a4df-0983697880ec",
   "metadata": {},
   "outputs": [],
   "source": [
    "#Specififying Stratified Kfold for cv.\n",
    "skfcv = StratifiedKFold(n_splits=10)"
   ]
  },
  {
   "cell_type": "code",
   "execution_count": null,
   "id": "e33f065e-5a13-40e0-ac54-d4985e7bfe87",
   "metadata": {},
   "outputs": [],
   "source": [
    "#Creating our random forest pipeline.\n",
    "rf = RandomForestClassifier(n_estimators=100, random_state=0)"
   ]
  },
  {
   "cell_type": "code",
   "execution_count": null,
   "id": "b189995f-71d2-42f7-bc7b-cc72d6129d7e",
   "metadata": {},
   "outputs": [],
   "source": [
    "#Fitting random forest model on training data.\n",
    "rf.fit(X_train, y_train)"
   ]
  },
  {
   "cell_type": "code",
   "execution_count": null,
   "id": "e11bea12-db95-4af2-966c-dac798809fba",
   "metadata": {},
   "outputs": [],
   "source": [
    "#Predicting on our test set.\n",
    "y_pred_rf = rf.predict(X_test)"
   ]
  },
  {
   "cell_type": "code",
   "execution_count": null,
   "id": "08f38445-75cf-4f52-b22c-20c3c86e5649",
   "metadata": {},
   "outputs": [],
   "source": [
    "#Code adapted from: https://medium.com/@hjhuney/implementing-a-random-forest-classification-model-in-python-583891c99652\n",
    "rfc_cv_score = cross_val_score(rf, X_test, y_test, cv=skfcv, scoring='accuracy')\n"
   ]
  },
  {
   "cell_type": "code",
   "execution_count": null,
   "id": "4f5a5b60-d63f-4058-83cd-bd902e8193af",
   "metadata": {},
   "outputs": [],
   "source": [
    "#Code adapted from: https://medium.com/@hjhuney/implementing-a-random-forest-classification-model-in-python-583891c99652\n",
    "print(\"=== Confusion Matrix ===\")\n",
    "print(confusion_matrix(y_test, y_pred_rf))\n",
    "print('\\n')\n",
    "print(\"=== Classification Report ===\")\n",
    "print(classification_report(y_test, y_pred_rf))\n",
    "print(\"=== All AUC Scores ===\")\n",
    "print(rfc_cv_score)\n",
    "print('\\n')\n",
    "print(\"=== Mean AUC Score ===\")\n",
    "print(\"Mean AUC Score - Random Forest: \", rfc_cv_score.mean())"
   ]
  },
  {
   "cell_type": "markdown",
   "id": "13c7faa1-0f1e-4bc5-95b1-96bebba8efcc",
   "metadata": {},
   "source": [
    "# Gridsearch"
   ]
  },
  {
   "cell_type": "markdown",
   "id": "0fc435e6-48a8-4eb6-833d-49ed4edd284e",
   "metadata": {
    "jupyter": {
     "outputs_hidden": true
    },
    "tags": []
   },
   "source": [
    "#Specifying the number of trees in random forest:\n",
    "n_estimators = [int(x) for x in np.linspace(start = 100, stop = 500, num = 10)]\n",
    "#Specifying criterion for each split:\n",
    "criterion = ['gini','entropy','log_loss']\n",
    "#Specifying the maximum number of levels in the tree:\n",
    "max_depth = [int(x) for x in np.linspace(10, 110, num = 11)]\n",
    "max_depth.append(None)\n",
    "#Specifying the number of features to consider at every split:\n",
    "max_features = ['auto','sqrt', 'log2','none']\n",
    "#Specifying the minimum number of samples required to split a node:\n",
    "min_samples_split = [2, 5, 10]\n",
    "#Specifying the minimum number of samples required at each leaf node:\n",
    "min_samples_leaf = [1, 2, 4]\n",
    "#Specifying the method of selecting samples for training each tree:\n",
    "bootstrap = [True, False]\n",
    "#Creating and printing my random grid with parameters defined above:\n",
    "\n",
    "njobs = [-1]\n",
    "verbo = [1]\n",
    "param_grid= {'n_estimators': n_estimators,\n",
    "               'criterion': criterion,\n",
    "               'verbose': verbo,\n",
    "               'max_features': max_features,\n",
    "               'max_depth': max_depth,\n",
    "               'min_samples_split': min_samples_split,\n",
    "               'min_samples_leaf': min_samples_leaf,\n",
    "               'bootstrap': bootstrap,\n",
    "               'n_jobs': njobs\n",
    "            }\n",
    "\n",
    "print(param_grid)\n",
    "\n",
    "#Base RF model used to tune:\n",
    "rf = RandomForestClassifier(random_state=0)\n",
    "rf_random = GridSearchCV(estimator = rf, param_grid = param_grid, cv = skfcv)\n",
    "#Fiting the random search model on our training data:\n",
    "rf_random.fit(X_train, y_train)\n",
    "print(rf_random.best_estimator_)"
   ]
  },
  {
   "cell_type": "code",
   "execution_count": null,
   "id": "6853581a-c257-4983-a868-6d7ee4d4194f",
   "metadata": {},
   "outputs": [],
   "source": [
    "print(rf_random.best_estimator_)"
   ]
  },
  {
   "cell_type": "markdown",
   "id": "dd90d448-5203-41ae-bec4-76704c929fb9",
   "metadata": {},
   "source": [
    "# CatBoost"
   ]
  },
  {
   "cell_type": "code",
   "execution_count": null,
   "id": "f0c33632-3847-433f-95ab-bb82b613c5df",
   "metadata": {},
   "outputs": [],
   "source": [
    "df_air_catb = df_air.copy()"
   ]
  },
  {
   "cell_type": "code",
   "execution_count": null,
   "id": "e5a7bf5b-fa03-4d29-9a8a-328c280c3cbb",
   "metadata": {},
   "outputs": [],
   "source": [
    "#convert object fields and category fields \n",
    "categories = ['year','month','day','day_of_week','airline_cd','airline_name','flight_number','origin_airport','tail_number',\n",
    "              'airport_origin','city_origin','state_origin','country_origin','destination_airport','airport_destination',\n",
    "              'city_destination','state_destination','country_destination','cancellation_reason','is_delay']\n",
    "\n",
    "df_air_catb[categories] = df_air_catb[categories].fillna('Unknown')"
   ]
  },
  {
   "cell_type": "code",
   "execution_count": null,
   "id": "6560400e-df92-442c-a622-ebe69218e6df",
   "metadata": {},
   "outputs": [],
   "source": [
    "df_air_catb[categories] = df_air_catb[categories].astype('category')"
   ]
  },
  {
   "cell_type": "code",
   "execution_count": null,
   "id": "55f47b55-1d53-495e-b8fd-62f9a3a59928",
   "metadata": {},
   "outputs": [],
   "source": [
    "df_air_catb.info(verbose = True)"
   ]
  },
  {
   "cell_type": "code",
   "execution_count": null,
   "id": "b12d2c80-b9bc-4313-822e-efcc7002a9b8",
   "metadata": {},
   "outputs": [],
   "source": [
    "df_air_catb['tail_number'] = df_air_catb['tail_number'].astype('category')\n",
    "df_air_catb['airport_origin'] = df_air_catb['airport_origin'].astype('category')"
   ]
  },
  {
   "cell_type": "code",
   "execution_count": null,
   "id": "8d9c1a51-0d9b-4d5c-8b0e-6d6d05a3bdd9",
   "metadata": {},
   "outputs": [],
   "source": [
    "#remove target variable and column target was created from training data set\n",
    "target_cat_cols = ['is_delay','departure_delay']\n",
    "feature_cat_cols = df_air.loc[:, ~df_air_catb.columns.isin(target_cat_cols)].columns\n",
    "X_cat = df_air_catb[feature_cat_cols] # Features\n",
    "y_cat = df_air_catb.is_delay # Target variable"
   ]
  },
  {
   "cell_type": "code",
   "execution_count": null,
   "id": "5e98a35b-19cf-4903-9736-40418aef77fa",
   "metadata": {},
   "outputs": [],
   "source": [
    "#split original dataset into features and target variable\n",
    "X_cat_train,X_cat_test,y_cat_train,y_cat_test=train_test_split(X_cat,y_cat,test_size=0.20,random_state=0)"
   ]
  },
  {
   "cell_type": "code",
   "execution_count": null,
   "id": "c36ffd7b-3b5f-4b38-a7f6-e3710e0844de",
   "metadata": {},
   "outputs": [],
   "source": [
    "#checking shape of data\n",
    "print('X_cat_train shape: ',X_cat_train.shape,'\\n')\n",
    "print('X_cat_test shape: ',X_cat_test.shape,'\\n')\n",
    "print('y_cat_train shape: ',y_cat_train.shape,'\\n')\n",
    "print('y_cat_test shape: ',y_cat_test.shape)"
   ]
  },
  {
   "cell_type": "code",
   "execution_count": null,
   "id": "ed20b09c-a379-4481-b5c1-3d113e012f59",
   "metadata": {},
   "outputs": [],
   "source": [
    "cat_feat = df_air_catb.select_dtypes(include=['category']).columns.tolist()"
   ]
  },
  {
   "cell_type": "code",
   "execution_count": null,
   "id": "a077cbad-71b9-4911-9899-9bde3f3db8f9",
   "metadata": {},
   "outputs": [],
   "source": [
    "%%time\n",
    "#https://www.kaggle.com/code/mitribunskiy/tutorial-catboost-overview/notebook\n",
    "\n",
    "seed = 0\n",
    "params = {'loss_function':'Logloss', # objective function\n",
    "          'eval_metric':'AUC', # metrics\n",
    "          'verbose': 200, # output to stdout info about training process every 200 iterations\n",
    "          'random_seed': seed,\n",
    "          'learning_rate': .25,\n",
    "          'cat_features': cat_feat\n",
    "         }\n",
    "\n",
    "cbc = CatBoostClassifier(**params)\n",
    "cbc.fit(Xcat_train, ycat_train, # data to train on (required parameters, unless we provide X as a pool object, will be shown below)\n",
    "          eval_set=(Xcat_test, ycat_test), # data to validate on\n",
    "          use_best_model=True, # True if we don't want to save trees created after iteration with the best validation score\n",
    "          plot=True # True for visualization of the training process (it is not shown in a published kernel - try executing this code)\n",
    "         );"
   ]
  },
  {
   "cell_type": "markdown",
   "id": "bbee1bc7-00fe-425f-a8ea-3e5befc77894",
   "metadata": {},
   "source": [
    "***\n",
    "# Deployment\n",
    "***"
   ]
  },
  {
   "cell_type": "markdown",
   "id": "06d02cf6-2215-48c7-a5a0-bac51210379f",
   "metadata": {},
   "source": [
    "***\n",
    "# Exceptional Work\n",
    "***"
   ]
  },
  {
   "cell_type": "code",
   "execution_count": null,
   "id": "d40358db-a69f-4f7f-9307-166e95787a26",
   "metadata": {},
   "outputs": [],
   "source": []
  }
 ],
 "metadata": {
  "kernelspec": {
   "display_name": "Python 3 (ipykernel)",
   "language": "python",
   "name": "python3"
  },
  "language_info": {
   "codemirror_mode": {
    "name": "ipython",
    "version": 3
   },
   "file_extension": ".py",
   "mimetype": "text/x-python",
   "name": "python",
   "nbconvert_exporter": "python",
   "pygments_lexer": "ipython3",
   "version": "3.9.7"
  },
  "toc-autonumbering": false,
  "toc-showcode": false,
  "toc-showmarkdowntxt": true,
  "toc-showtags": false
 },
 "nbformat": 4,
 "nbformat_minor": 5
}
