{
 "cells": [
  {
   "cell_type": "markdown",
   "id": "8f4822a8-1687-4931-abe7-964bcbcbe468",
   "metadata": {
    "tags": []
   },
   "source": [
    "The below cells of code are used to create a Logistic Regression model to predict if a flight out of an aiport with the US will be delayed or not. The first cell of code imports needed packages."
   ]
  },
  {
   "cell_type": "markdown",
   "id": "c5043bc1-6400-4617-be90-260e74c20186",
   "metadata": {},
   "source": [
    "# COLOR MEANINGS:\n",
    "***\n",
    "### **Black:** Section Titles <br>\n",
    "### <font color='Red'>Red:<font> Major Headings<br>\n",
    "### <font color='Blue'>Blue: Model Types<font><br>\n",
    "### <font color='Green'>Green: Original Data Set<font><br>\n",
    "### <font color='Purple'>Purple: Undersampled Data Set<font><br>\n",
    "***"
   ]
  },
  {
   "cell_type": "code",
   "execution_count": 1,
   "id": "6c8d9b3f-d1ef-4700-9839-10ede48e17b7",
   "metadata": {},
   "outputs": [],
   "source": [
    "import pandas as pd\n",
    "import matplotlib.pyplot as plt\n",
    "import numpy as np\n",
    "from numpy import mean\n",
    "from numpy import std\n",
    "import seaborn as sns\n",
    "import sklearn as skl\n",
    "from sklearn.preprocessing import OneHotEncoder\n",
    "from sklearn.model_selection import train_test_split\n",
    "from sklearn.linear_model import LogisticRegression,SGDClassifier,LogisticRegressionCV\n",
    "from sklearn.feature_selection import SelectPercentile,f_regression\n",
    "from sklearn.preprocessing import RobustScaler\n",
    "from sklearn.metrics import confusion_matrix\n",
    "from sklearn.decomposition import PCA\n",
    "from sklearn import metrics\n",
    "from sklearn.svm import SVC\n",
    "from sklearn.pipeline import Pipeline\n",
    "from sklearn.model_selection import GridSearchCV\n",
    "import time\n",
    "\n",
    "import lightgbm as lgb\n",
    "\n",
    "import warnings"
   ]
  },
  {
   "cell_type": "code",
   "execution_count": 2,
   "id": "ffcbd51d-4634-4515-93f5-8494c13368f9",
   "metadata": {},
   "outputs": [],
   "source": [
    "warnings.filterwarnings(\"ignore\")"
   ]
  },
  {
   "cell_type": "code",
   "execution_count": 3,
   "id": "41957992-6853-46ac-8d43-d305afb4cd07",
   "metadata": {},
   "outputs": [],
   "source": [
    "df = pd.read_csv(r'/Users/allen/Desktop/MSDS/ML1/archive/airline_merged.csv',low_memory=False)"
   ]
  },
  {
   "cell_type": "code",
   "execution_count": 4,
   "id": "4c54cd49-65bb-4da1-a6eb-490dba1c5201",
   "metadata": {},
   "outputs": [],
   "source": [
    "pd.set_option('display.max_columns', None)"
   ]
  },
  {
   "cell_type": "markdown",
   "id": "ae5b0924-0abe-4e64-a918-58c791aa31f1",
   "metadata": {},
   "source": [
    "After importing the merged file, airline_merged.csv, that was created in the ipynb file, airline_files_merge, we needed to remove the addditional column(Unnamed: 0) that is added in the export. "
   ]
  },
  {
   "cell_type": "code",
   "execution_count": 5,
   "id": "cc1c11cd-01fe-45ba-8c38-cc2377490bf1",
   "metadata": {},
   "outputs": [],
   "source": [
    "#removing unwanted column from previous export\n",
    "df = df.drop(columns =['Unnamed: 0'],axis =1)"
   ]
  },
  {
   "cell_type": "markdown",
   "id": "003edab6-f19a-4a28-9191-15ca78f7b4b3",
   "metadata": {},
   "source": [
    "The below cell creates a correlation matrix using all of the numerical columns and removes any column that has a correlation coeffecient that is greater than 0.90. This will eventually help decrease the amount of columns that are used in the model and help with any assumptions that need to be met."
   ]
  },
  {
   "cell_type": "code",
   "execution_count": 6,
   "id": "70c6aa9e-61b0-4d87-9822-180d5faf4178",
   "metadata": {},
   "outputs": [],
   "source": [
    "#dropping highly correlated columns\n",
    "#https://www.codegrepper.com/code-examples/python/how+to+drop+highly+correlated+features\n",
    "# Create correlation matrix\n",
    "corr_matrix = df.corr().abs()\n",
    "\n",
    "# Select upper triangle of correlation matrix\n",
    "upper = corr_matrix.where(np.triu(np.ones(corr_matrix.shape), k=1).astype(np.bool_))\n",
    "\n",
    "# Find index of feature columns with correlation greater than 0.90\n",
    "to_drop = [column for column in upper.columns if any(upper[column] > 0.90)]\n",
    "\n",
    "df = df.drop(columns = to_drop, axis=1)"
   ]
  },
  {
   "cell_type": "code",
   "execution_count": 7,
   "id": "6ca28135-23ba-49b4-a3b3-c0d0c301317a",
   "metadata": {},
   "outputs": [
    {
     "data": {
      "text/html": [
       "<div>\n",
       "<style scoped>\n",
       "    .dataframe tbody tr th:only-of-type {\n",
       "        vertical-align: middle;\n",
       "    }\n",
       "\n",
       "    .dataframe tbody tr th {\n",
       "        vertical-align: top;\n",
       "    }\n",
       "\n",
       "    .dataframe thead th {\n",
       "        text-align: right;\n",
       "    }\n",
       "</style>\n",
       "<table border=\"1\" class=\"dataframe\">\n",
       "  <thead>\n",
       "    <tr style=\"text-align: right;\">\n",
       "      <th></th>\n",
       "      <th>year</th>\n",
       "      <th>month</th>\n",
       "      <th>day</th>\n",
       "      <th>day_of_week</th>\n",
       "      <th>airline_cd</th>\n",
       "      <th>airline_name</th>\n",
       "      <th>flight_number</th>\n",
       "      <th>tail_number</th>\n",
       "      <th>origin_airport</th>\n",
       "      <th>airport_origin</th>\n",
       "      <th>city_origin</th>\n",
       "      <th>state_origin</th>\n",
       "      <th>country_origin</th>\n",
       "      <th>latitude_origin</th>\n",
       "      <th>longitude_origin</th>\n",
       "      <th>destination_airport</th>\n",
       "      <th>airport_destination</th>\n",
       "      <th>city_destination</th>\n",
       "      <th>state_destination</th>\n",
       "      <th>country_destination</th>\n",
       "      <th>latitude_destination</th>\n",
       "      <th>longitude_destination</th>\n",
       "      <th>scheduled_departure</th>\n",
       "      <th>departure_delay</th>\n",
       "      <th>taxi_out</th>\n",
       "      <th>scheduled_time</th>\n",
       "      <th>wheels_on</th>\n",
       "      <th>taxi_in</th>\n",
       "      <th>scheduled_arrival</th>\n",
       "      <th>diverted</th>\n",
       "      <th>cancelled</th>\n",
       "      <th>cancellation_reason</th>\n",
       "      <th>air_system_delay</th>\n",
       "      <th>security_delay</th>\n",
       "      <th>airline_delay</th>\n",
       "      <th>late_aircraft_delay</th>\n",
       "      <th>weather_delay</th>\n",
       "    </tr>\n",
       "  </thead>\n",
       "  <tbody>\n",
       "    <tr>\n",
       "      <th>0</th>\n",
       "      <td>2015</td>\n",
       "      <td>1</td>\n",
       "      <td>1</td>\n",
       "      <td>4</td>\n",
       "      <td>AS</td>\n",
       "      <td>Alaska Airlines Inc.</td>\n",
       "      <td>98</td>\n",
       "      <td>N407AS</td>\n",
       "      <td>ANC</td>\n",
       "      <td>Ted Stevens Anchorage International Airport</td>\n",
       "      <td>Anchorage</td>\n",
       "      <td>AK</td>\n",
       "      <td>USA</td>\n",
       "      <td>61.17432</td>\n",
       "      <td>-149.99619</td>\n",
       "      <td>SEA</td>\n",
       "      <td>Seattle-Tacoma International Airport</td>\n",
       "      <td>Seattle</td>\n",
       "      <td>WA</td>\n",
       "      <td>USA</td>\n",
       "      <td>47.44898</td>\n",
       "      <td>-122.30931</td>\n",
       "      <td>5</td>\n",
       "      <td>-11.0</td>\n",
       "      <td>21.0</td>\n",
       "      <td>205.0</td>\n",
       "      <td>404.0</td>\n",
       "      <td>4.0</td>\n",
       "      <td>430</td>\n",
       "      <td>0</td>\n",
       "      <td>0</td>\n",
       "      <td>NaN</td>\n",
       "      <td>NaN</td>\n",
       "      <td>NaN</td>\n",
       "      <td>NaN</td>\n",
       "      <td>NaN</td>\n",
       "      <td>NaN</td>\n",
       "    </tr>\n",
       "    <tr>\n",
       "      <th>1</th>\n",
       "      <td>2015</td>\n",
       "      <td>1</td>\n",
       "      <td>1</td>\n",
       "      <td>4</td>\n",
       "      <td>AA</td>\n",
       "      <td>American Airlines Inc.</td>\n",
       "      <td>2336</td>\n",
       "      <td>N3KUAA</td>\n",
       "      <td>LAX</td>\n",
       "      <td>Los Angeles International Airport</td>\n",
       "      <td>Los Angeles</td>\n",
       "      <td>CA</td>\n",
       "      <td>USA</td>\n",
       "      <td>33.94254</td>\n",
       "      <td>-118.40807</td>\n",
       "      <td>PBI</td>\n",
       "      <td>Palm Beach International Airport</td>\n",
       "      <td>West Palm Beach</td>\n",
       "      <td>FL</td>\n",
       "      <td>USA</td>\n",
       "      <td>26.68316</td>\n",
       "      <td>-80.09559</td>\n",
       "      <td>10</td>\n",
       "      <td>-8.0</td>\n",
       "      <td>12.0</td>\n",
       "      <td>280.0</td>\n",
       "      <td>737.0</td>\n",
       "      <td>4.0</td>\n",
       "      <td>750</td>\n",
       "      <td>0</td>\n",
       "      <td>0</td>\n",
       "      <td>NaN</td>\n",
       "      <td>NaN</td>\n",
       "      <td>NaN</td>\n",
       "      <td>NaN</td>\n",
       "      <td>NaN</td>\n",
       "      <td>NaN</td>\n",
       "    </tr>\n",
       "    <tr>\n",
       "      <th>2</th>\n",
       "      <td>2015</td>\n",
       "      <td>1</td>\n",
       "      <td>1</td>\n",
       "      <td>4</td>\n",
       "      <td>US</td>\n",
       "      <td>US Airways Inc.</td>\n",
       "      <td>840</td>\n",
       "      <td>N171US</td>\n",
       "      <td>SFO</td>\n",
       "      <td>San Francisco International Airport</td>\n",
       "      <td>San Francisco</td>\n",
       "      <td>CA</td>\n",
       "      <td>USA</td>\n",
       "      <td>37.61900</td>\n",
       "      <td>-122.37484</td>\n",
       "      <td>CLT</td>\n",
       "      <td>Charlotte Douglas International Airport</td>\n",
       "      <td>Charlotte</td>\n",
       "      <td>NC</td>\n",
       "      <td>USA</td>\n",
       "      <td>35.21401</td>\n",
       "      <td>-80.94313</td>\n",
       "      <td>20</td>\n",
       "      <td>-2.0</td>\n",
       "      <td>16.0</td>\n",
       "      <td>286.0</td>\n",
       "      <td>800.0</td>\n",
       "      <td>11.0</td>\n",
       "      <td>806</td>\n",
       "      <td>0</td>\n",
       "      <td>0</td>\n",
       "      <td>NaN</td>\n",
       "      <td>NaN</td>\n",
       "      <td>NaN</td>\n",
       "      <td>NaN</td>\n",
       "      <td>NaN</td>\n",
       "      <td>NaN</td>\n",
       "    </tr>\n",
       "    <tr>\n",
       "      <th>3</th>\n",
       "      <td>2015</td>\n",
       "      <td>1</td>\n",
       "      <td>1</td>\n",
       "      <td>4</td>\n",
       "      <td>AA</td>\n",
       "      <td>American Airlines Inc.</td>\n",
       "      <td>258</td>\n",
       "      <td>N3HYAA</td>\n",
       "      <td>LAX</td>\n",
       "      <td>Los Angeles International Airport</td>\n",
       "      <td>Los Angeles</td>\n",
       "      <td>CA</td>\n",
       "      <td>USA</td>\n",
       "      <td>33.94254</td>\n",
       "      <td>-118.40807</td>\n",
       "      <td>MIA</td>\n",
       "      <td>Miami International Airport</td>\n",
       "      <td>Miami</td>\n",
       "      <td>FL</td>\n",
       "      <td>USA</td>\n",
       "      <td>25.79325</td>\n",
       "      <td>-80.29056</td>\n",
       "      <td>20</td>\n",
       "      <td>-5.0</td>\n",
       "      <td>15.0</td>\n",
       "      <td>285.0</td>\n",
       "      <td>748.0</td>\n",
       "      <td>8.0</td>\n",
       "      <td>805</td>\n",
       "      <td>0</td>\n",
       "      <td>0</td>\n",
       "      <td>NaN</td>\n",
       "      <td>NaN</td>\n",
       "      <td>NaN</td>\n",
       "      <td>NaN</td>\n",
       "      <td>NaN</td>\n",
       "      <td>NaN</td>\n",
       "    </tr>\n",
       "    <tr>\n",
       "      <th>4</th>\n",
       "      <td>2015</td>\n",
       "      <td>1</td>\n",
       "      <td>1</td>\n",
       "      <td>4</td>\n",
       "      <td>AS</td>\n",
       "      <td>Alaska Airlines Inc.</td>\n",
       "      <td>135</td>\n",
       "      <td>N527AS</td>\n",
       "      <td>SEA</td>\n",
       "      <td>Seattle-Tacoma International Airport</td>\n",
       "      <td>Seattle</td>\n",
       "      <td>WA</td>\n",
       "      <td>USA</td>\n",
       "      <td>47.44898</td>\n",
       "      <td>-122.30931</td>\n",
       "      <td>ANC</td>\n",
       "      <td>Ted Stevens Anchorage International Airport</td>\n",
       "      <td>Anchorage</td>\n",
       "      <td>AK</td>\n",
       "      <td>USA</td>\n",
       "      <td>61.17432</td>\n",
       "      <td>-149.99619</td>\n",
       "      <td>25</td>\n",
       "      <td>-1.0</td>\n",
       "      <td>11.0</td>\n",
       "      <td>235.0</td>\n",
       "      <td>254.0</td>\n",
       "      <td>5.0</td>\n",
       "      <td>320</td>\n",
       "      <td>0</td>\n",
       "      <td>0</td>\n",
       "      <td>NaN</td>\n",
       "      <td>NaN</td>\n",
       "      <td>NaN</td>\n",
       "      <td>NaN</td>\n",
       "      <td>NaN</td>\n",
       "      <td>NaN</td>\n",
       "    </tr>\n",
       "  </tbody>\n",
       "</table>\n",
       "</div>"
      ],
      "text/plain": [
       "   year  month  day  day_of_week airline_cd            airline_name  \\\n",
       "0  2015      1    1            4         AS    Alaska Airlines Inc.   \n",
       "1  2015      1    1            4         AA  American Airlines Inc.   \n",
       "2  2015      1    1            4         US         US Airways Inc.   \n",
       "3  2015      1    1            4         AA  American Airlines Inc.   \n",
       "4  2015      1    1            4         AS    Alaska Airlines Inc.   \n",
       "\n",
       "   flight_number tail_number origin_airport  \\\n",
       "0             98      N407AS            ANC   \n",
       "1           2336      N3KUAA            LAX   \n",
       "2            840      N171US            SFO   \n",
       "3            258      N3HYAA            LAX   \n",
       "4            135      N527AS            SEA   \n",
       "\n",
       "                                airport_origin    city_origin state_origin  \\\n",
       "0  Ted Stevens Anchorage International Airport      Anchorage           AK   \n",
       "1            Los Angeles International Airport    Los Angeles           CA   \n",
       "2          San Francisco International Airport  San Francisco           CA   \n",
       "3            Los Angeles International Airport    Los Angeles           CA   \n",
       "4         Seattle-Tacoma International Airport        Seattle           WA   \n",
       "\n",
       "  country_origin  latitude_origin  longitude_origin destination_airport  \\\n",
       "0            USA         61.17432        -149.99619                 SEA   \n",
       "1            USA         33.94254        -118.40807                 PBI   \n",
       "2            USA         37.61900        -122.37484                 CLT   \n",
       "3            USA         33.94254        -118.40807                 MIA   \n",
       "4            USA         47.44898        -122.30931                 ANC   \n",
       "\n",
       "                           airport_destination city_destination  \\\n",
       "0         Seattle-Tacoma International Airport          Seattle   \n",
       "1             Palm Beach International Airport  West Palm Beach   \n",
       "2      Charlotte Douglas International Airport        Charlotte   \n",
       "3                  Miami International Airport            Miami   \n",
       "4  Ted Stevens Anchorage International Airport        Anchorage   \n",
       "\n",
       "  state_destination country_destination  latitude_destination  \\\n",
       "0                WA                 USA              47.44898   \n",
       "1                FL                 USA              26.68316   \n",
       "2                NC                 USA              35.21401   \n",
       "3                FL                 USA              25.79325   \n",
       "4                AK                 USA              61.17432   \n",
       "\n",
       "   longitude_destination  scheduled_departure  departure_delay  taxi_out  \\\n",
       "0             -122.30931                    5            -11.0      21.0   \n",
       "1              -80.09559                   10             -8.0      12.0   \n",
       "2              -80.94313                   20             -2.0      16.0   \n",
       "3              -80.29056                   20             -5.0      15.0   \n",
       "4             -149.99619                   25             -1.0      11.0   \n",
       "\n",
       "   scheduled_time  wheels_on  taxi_in  scheduled_arrival  diverted  cancelled  \\\n",
       "0           205.0      404.0      4.0                430         0          0   \n",
       "1           280.0      737.0      4.0                750         0          0   \n",
       "2           286.0      800.0     11.0                806         0          0   \n",
       "3           285.0      748.0      8.0                805         0          0   \n",
       "4           235.0      254.0      5.0                320         0          0   \n",
       "\n",
       "  cancellation_reason  air_system_delay  security_delay  airline_delay  \\\n",
       "0                 NaN               NaN             NaN            NaN   \n",
       "1                 NaN               NaN             NaN            NaN   \n",
       "2                 NaN               NaN             NaN            NaN   \n",
       "3                 NaN               NaN             NaN            NaN   \n",
       "4                 NaN               NaN             NaN            NaN   \n",
       "\n",
       "   late_aircraft_delay  weather_delay  \n",
       "0                  NaN            NaN  \n",
       "1                  NaN            NaN  \n",
       "2                  NaN            NaN  \n",
       "3                  NaN            NaN  \n",
       "4                  NaN            NaN  "
      ]
     },
     "execution_count": 7,
     "metadata": {},
     "output_type": "execute_result"
    }
   ],
   "source": [
    "#looking at dataframe after removing highly correlated fields.\n",
    "df.head()"
   ]
  },
  {
   "cell_type": "markdown",
   "id": "b751ac87-4f1a-4a33-a7f6-41fef05a5328",
   "metadata": {},
   "source": [
    "Since the data set is quite large and personal laptops will struggle to churn through the amount of rows and columns, we decided to filter down the data to Dallas-Fort Worth International Airport. This decreased the data frame size from almost 6 million rows to just under 240k rows and also helped with the one hot encoding below."
   ]
  },
  {
   "cell_type": "code",
   "execution_count": 8,
   "id": "ab215088-7f4a-45d0-a590-d5ac39b00478",
   "metadata": {},
   "outputs": [],
   "source": [
    "#selecting subset of data set\n",
    "airports = ['BHM']"
   ]
  },
  {
   "cell_type": "code",
   "execution_count": 9,
   "id": "6cbd612c-82e1-49b6-ac06-68850cb5bfcd",
   "metadata": {},
   "outputs": [],
   "source": [
    "df_air = df.loc[df['origin_airport'].isin(airports)]"
   ]
  },
  {
   "cell_type": "code",
   "execution_count": 10,
   "id": "f6eac4a2-5150-4694-8d3b-d421764b6df0",
   "metadata": {},
   "outputs": [
    {
     "data": {
      "text/html": [
       "<div>\n",
       "<style scoped>\n",
       "    .dataframe tbody tr th:only-of-type {\n",
       "        vertical-align: middle;\n",
       "    }\n",
       "\n",
       "    .dataframe tbody tr th {\n",
       "        vertical-align: top;\n",
       "    }\n",
       "\n",
       "    .dataframe thead th {\n",
       "        text-align: right;\n",
       "    }\n",
       "</style>\n",
       "<table border=\"1\" class=\"dataframe\">\n",
       "  <thead>\n",
       "    <tr style=\"text-align: right;\">\n",
       "      <th></th>\n",
       "      <th>year</th>\n",
       "      <th>month</th>\n",
       "      <th>day</th>\n",
       "      <th>day_of_week</th>\n",
       "      <th>flight_number</th>\n",
       "      <th>latitude_origin</th>\n",
       "      <th>longitude_origin</th>\n",
       "      <th>latitude_destination</th>\n",
       "      <th>longitude_destination</th>\n",
       "      <th>scheduled_departure</th>\n",
       "      <th>departure_delay</th>\n",
       "      <th>taxi_out</th>\n",
       "      <th>scheduled_time</th>\n",
       "      <th>wheels_on</th>\n",
       "      <th>taxi_in</th>\n",
       "      <th>scheduled_arrival</th>\n",
       "      <th>diverted</th>\n",
       "      <th>cancelled</th>\n",
       "      <th>air_system_delay</th>\n",
       "      <th>security_delay</th>\n",
       "      <th>airline_delay</th>\n",
       "      <th>late_aircraft_delay</th>\n",
       "      <th>weather_delay</th>\n",
       "    </tr>\n",
       "  </thead>\n",
       "  <tbody>\n",
       "    <tr>\n",
       "      <th>count</th>\n",
       "      <td>12514.0</td>\n",
       "      <td>12514.000000</td>\n",
       "      <td>12514.000000</td>\n",
       "      <td>12514.000000</td>\n",
       "      <td>12514.000000</td>\n",
       "      <td>1.251400e+04</td>\n",
       "      <td>1.251400e+04</td>\n",
       "      <td>12514.000000</td>\n",
       "      <td>12514.000000</td>\n",
       "      <td>12514.000000</td>\n",
       "      <td>12338.000000</td>\n",
       "      <td>12334.000000</td>\n",
       "      <td>12514.000000</td>\n",
       "      <td>12324.000000</td>\n",
       "      <td>12324.000000</td>\n",
       "      <td>12514.000000</td>\n",
       "      <td>12514.000000</td>\n",
       "      <td>12514.000000</td>\n",
       "      <td>2128.000000</td>\n",
       "      <td>2128.000000</td>\n",
       "      <td>2128.000000</td>\n",
       "      <td>2128.000000</td>\n",
       "      <td>2128.000000</td>\n",
       "    </tr>\n",
       "    <tr>\n",
       "      <th>mean</th>\n",
       "      <td>2015.0</td>\n",
       "      <td>6.150951</td>\n",
       "      <td>15.687710</td>\n",
       "      <td>3.879575</td>\n",
       "      <td>2876.476346</td>\n",
       "      <td>3.356294e+01</td>\n",
       "      <td>-8.675355e+01</td>\n",
       "      <td>34.252718</td>\n",
       "      <td>-88.175001</td>\n",
       "      <td>1192.116909</td>\n",
       "      <td>9.032906</td>\n",
       "      <td>13.783525</td>\n",
       "      <td>108.121864</td>\n",
       "      <td>1399.118306</td>\n",
       "      <td>8.632587</td>\n",
       "      <td>1416.011507</td>\n",
       "      <td>0.004075</td>\n",
       "      <td>0.014464</td>\n",
       "      <td>14.805921</td>\n",
       "      <td>0.091635</td>\n",
       "      <td>20.292293</td>\n",
       "      <td>27.732613</td>\n",
       "      <td>2.580827</td>\n",
       "    </tr>\n",
       "    <tr>\n",
       "      <th>std</th>\n",
       "      <td>0.0</td>\n",
       "      <td>3.384375</td>\n",
       "      <td>8.763785</td>\n",
       "      <td>1.992624</td>\n",
       "      <td>1951.952017</td>\n",
       "      <td>7.787860e-12</td>\n",
       "      <td>1.647104e-11</td>\n",
       "      <td>4.990106</td>\n",
       "      <td>8.325266</td>\n",
       "      <td>445.126945</td>\n",
       "      <td>43.869223</td>\n",
       "      <td>7.389709</td>\n",
       "      <td>36.974468</td>\n",
       "      <td>458.707388</td>\n",
       "      <td>5.844535</td>\n",
       "      <td>443.946518</td>\n",
       "      <td>0.063711</td>\n",
       "      <td>0.119397</td>\n",
       "      <td>32.820428</td>\n",
       "      <td>3.167858</td>\n",
       "      <td>73.036267</td>\n",
       "      <td>47.048389</td>\n",
       "      <td>16.190917</td>\n",
       "    </tr>\n",
       "    <tr>\n",
       "      <th>min</th>\n",
       "      <td>2015.0</td>\n",
       "      <td>1.000000</td>\n",
       "      <td>1.000000</td>\n",
       "      <td>1.000000</td>\n",
       "      <td>3.000000</td>\n",
       "      <td>3.356294e+01</td>\n",
       "      <td>-8.675355e+01</td>\n",
       "      <td>25.793250</td>\n",
       "      <td>-115.152330</td>\n",
       "      <td>500.000000</td>\n",
       "      <td>-20.000000</td>\n",
       "      <td>4.000000</td>\n",
       "      <td>52.000000</td>\n",
       "      <td>3.000000</td>\n",
       "      <td>1.000000</td>\n",
       "      <td>707.000000</td>\n",
       "      <td>0.000000</td>\n",
       "      <td>0.000000</td>\n",
       "      <td>0.000000</td>\n",
       "      <td>0.000000</td>\n",
       "      <td>0.000000</td>\n",
       "      <td>0.000000</td>\n",
       "      <td>0.000000</td>\n",
       "    </tr>\n",
       "    <tr>\n",
       "      <th>25%</th>\n",
       "      <td>2015.0</td>\n",
       "      <td>3.000000</td>\n",
       "      <td>8.000000</td>\n",
       "      <td>2.000000</td>\n",
       "      <td>1051.000000</td>\n",
       "      <td>3.356294e+01</td>\n",
       "      <td>-8.675355e+01</td>\n",
       "      <td>29.980470</td>\n",
       "      <td>-95.339720</td>\n",
       "      <td>745.000000</td>\n",
       "      <td>-5.000000</td>\n",
       "      <td>9.000000</td>\n",
       "      <td>76.000000</td>\n",
       "      <td>952.000000</td>\n",
       "      <td>5.000000</td>\n",
       "      <td>1009.000000</td>\n",
       "      <td>0.000000</td>\n",
       "      <td>0.000000</td>\n",
       "      <td>0.000000</td>\n",
       "      <td>0.000000</td>\n",
       "      <td>0.000000</td>\n",
       "      <td>0.000000</td>\n",
       "      <td>0.000000</td>\n",
       "    </tr>\n",
       "    <tr>\n",
       "      <th>50%</th>\n",
       "      <td>2015.0</td>\n",
       "      <td>6.000000</td>\n",
       "      <td>16.000000</td>\n",
       "      <td>4.000000</td>\n",
       "      <td>2525.000000</td>\n",
       "      <td>3.356294e+01</td>\n",
       "      <td>-8.675355e+01</td>\n",
       "      <td>33.640440</td>\n",
       "      <td>-84.426940</td>\n",
       "      <td>1200.000000</td>\n",
       "      <td>-2.000000</td>\n",
       "      <td>12.000000</td>\n",
       "      <td>113.000000</td>\n",
       "      <td>1402.000000</td>\n",
       "      <td>7.000000</td>\n",
       "      <td>1414.000000</td>\n",
       "      <td>0.000000</td>\n",
       "      <td>0.000000</td>\n",
       "      <td>3.000000</td>\n",
       "      <td>0.000000</td>\n",
       "      <td>0.000000</td>\n",
       "      <td>9.000000</td>\n",
       "      <td>0.000000</td>\n",
       "    </tr>\n",
       "    <tr>\n",
       "      <th>75%</th>\n",
       "      <td>2015.0</td>\n",
       "      <td>9.000000</td>\n",
       "      <td>23.000000</td>\n",
       "      <td>5.000000</td>\n",
       "      <td>4592.000000</td>\n",
       "      <td>3.356294e+01</td>\n",
       "      <td>-8.675355e+01</td>\n",
       "      <td>39.175400</td>\n",
       "      <td>-83.348840</td>\n",
       "      <td>1609.000000</td>\n",
       "      <td>4.000000</td>\n",
       "      <td>16.000000</td>\n",
       "      <td>123.000000</td>\n",
       "      <td>1823.000000</td>\n",
       "      <td>10.000000</td>\n",
       "      <td>1825.000000</td>\n",
       "      <td>0.000000</td>\n",
       "      <td>0.000000</td>\n",
       "      <td>18.000000</td>\n",
       "      <td>0.000000</td>\n",
       "      <td>10.000000</td>\n",
       "      <td>34.000000</td>\n",
       "      <td>0.000000</td>\n",
       "    </tr>\n",
       "    <tr>\n",
       "      <th>max</th>\n",
       "      <td>2015.0</td>\n",
       "      <td>12.000000</td>\n",
       "      <td>31.000000</td>\n",
       "      <td>7.000000</td>\n",
       "      <td>6813.000000</td>\n",
       "      <td>3.356294e+01</td>\n",
       "      <td>-8.675355e+01</td>\n",
       "      <td>42.212060</td>\n",
       "      <td>-73.872610</td>\n",
       "      <td>2055.000000</td>\n",
       "      <td>1988.000000</td>\n",
       "      <td>116.000000</td>\n",
       "      <td>260.000000</td>\n",
       "      <td>2357.000000</td>\n",
       "      <td>150.000000</td>\n",
       "      <td>2325.000000</td>\n",
       "      <td>1.000000</td>\n",
       "      <td>1.000000</td>\n",
       "      <td>493.000000</td>\n",
       "      <td>144.000000</td>\n",
       "      <td>1971.000000</td>\n",
       "      <td>420.000000</td>\n",
       "      <td>240.000000</td>\n",
       "    </tr>\n",
       "  </tbody>\n",
       "</table>\n",
       "</div>"
      ],
      "text/plain": [
       "          year         month           day   day_of_week  flight_number  \\\n",
       "count  12514.0  12514.000000  12514.000000  12514.000000   12514.000000   \n",
       "mean    2015.0      6.150951     15.687710      3.879575    2876.476346   \n",
       "std        0.0      3.384375      8.763785      1.992624    1951.952017   \n",
       "min     2015.0      1.000000      1.000000      1.000000       3.000000   \n",
       "25%     2015.0      3.000000      8.000000      2.000000    1051.000000   \n",
       "50%     2015.0      6.000000     16.000000      4.000000    2525.000000   \n",
       "75%     2015.0      9.000000     23.000000      5.000000    4592.000000   \n",
       "max     2015.0     12.000000     31.000000      7.000000    6813.000000   \n",
       "\n",
       "       latitude_origin  longitude_origin  latitude_destination  \\\n",
       "count     1.251400e+04      1.251400e+04          12514.000000   \n",
       "mean      3.356294e+01     -8.675355e+01             34.252718   \n",
       "std       7.787860e-12      1.647104e-11              4.990106   \n",
       "min       3.356294e+01     -8.675355e+01             25.793250   \n",
       "25%       3.356294e+01     -8.675355e+01             29.980470   \n",
       "50%       3.356294e+01     -8.675355e+01             33.640440   \n",
       "75%       3.356294e+01     -8.675355e+01             39.175400   \n",
       "max       3.356294e+01     -8.675355e+01             42.212060   \n",
       "\n",
       "       longitude_destination  scheduled_departure  departure_delay  \\\n",
       "count           12514.000000         12514.000000     12338.000000   \n",
       "mean              -88.175001          1192.116909         9.032906   \n",
       "std                 8.325266           445.126945        43.869223   \n",
       "min              -115.152330           500.000000       -20.000000   \n",
       "25%               -95.339720           745.000000        -5.000000   \n",
       "50%               -84.426940          1200.000000        -2.000000   \n",
       "75%               -83.348840          1609.000000         4.000000   \n",
       "max               -73.872610          2055.000000      1988.000000   \n",
       "\n",
       "           taxi_out  scheduled_time     wheels_on       taxi_in  \\\n",
       "count  12334.000000    12514.000000  12324.000000  12324.000000   \n",
       "mean      13.783525      108.121864   1399.118306      8.632587   \n",
       "std        7.389709       36.974468    458.707388      5.844535   \n",
       "min        4.000000       52.000000      3.000000      1.000000   \n",
       "25%        9.000000       76.000000    952.000000      5.000000   \n",
       "50%       12.000000      113.000000   1402.000000      7.000000   \n",
       "75%       16.000000      123.000000   1823.000000     10.000000   \n",
       "max      116.000000      260.000000   2357.000000    150.000000   \n",
       "\n",
       "       scheduled_arrival      diverted     cancelled  air_system_delay  \\\n",
       "count       12514.000000  12514.000000  12514.000000       2128.000000   \n",
       "mean         1416.011507      0.004075      0.014464         14.805921   \n",
       "std           443.946518      0.063711      0.119397         32.820428   \n",
       "min           707.000000      0.000000      0.000000          0.000000   \n",
       "25%          1009.000000      0.000000      0.000000          0.000000   \n",
       "50%          1414.000000      0.000000      0.000000          3.000000   \n",
       "75%          1825.000000      0.000000      0.000000         18.000000   \n",
       "max          2325.000000      1.000000      1.000000        493.000000   \n",
       "\n",
       "       security_delay  airline_delay  late_aircraft_delay  weather_delay  \n",
       "count     2128.000000    2128.000000          2128.000000    2128.000000  \n",
       "mean         0.091635      20.292293            27.732613       2.580827  \n",
       "std          3.167858      73.036267            47.048389      16.190917  \n",
       "min          0.000000       0.000000             0.000000       0.000000  \n",
       "25%          0.000000       0.000000             0.000000       0.000000  \n",
       "50%          0.000000       0.000000             9.000000       0.000000  \n",
       "75%          0.000000      10.000000            34.000000       0.000000  \n",
       "max        144.000000    1971.000000           420.000000     240.000000  "
      ]
     },
     "execution_count": 10,
     "metadata": {},
     "output_type": "execute_result"
    }
   ],
   "source": [
    "df_air.describe()"
   ]
  },
  {
   "cell_type": "code",
   "execution_count": 11,
   "id": "b90086c9-7e2f-4819-8217-41f4324cd1e0",
   "metadata": {},
   "outputs": [],
   "source": [
    "#selecting columns that are dtype != numeric\n",
    "non_numeric = df_air.select_dtypes(exclude = np.number).columns"
   ]
  },
  {
   "cell_type": "markdown",
   "id": "78ab5236-8d3b-4706-994a-5e29407b9dd0",
   "metadata": {},
   "source": [
    "Because we want to predict if an airplane is going to be delayed or not using logistic regression, we created a new field called \"is_delay\" from the \"departure_delay\" field. To do this, we created a function that we could pass a numeric field through and if the value for that row is greater than 0, we imputed \"1\" into the curated field to signifiy the flight was delayed. If the value was less than 0, we imputed \"0\" to signify that the flight was not delayed. "
   ]
  },
  {
   "cell_type": "code",
   "execution_count": 12,
   "id": "d7b0e4f3-6c7d-4621-bb21-1ee75156cbf6",
   "metadata": {},
   "outputs": [],
   "source": [
    "#create binary response for logistic regression\n",
    "# create a function\n",
    "def is_delayed(delay,axis=1):\n",
    "    if delay <= 0:\n",
    "        return 0\n",
    "    else:\n",
    "        return 1\n",
    "    \n",
    "# create a new column based on condition\n",
    "df_air['is_delay'] = df_air.loc[:,'departure_delay'].apply(is_delayed)"
   ]
  },
  {
   "cell_type": "markdown",
   "id": "e7ed7c27-40be-4042-a800-60a844715e64",
   "metadata": {},
   "source": [
    "After creating the \"is_delay\" field, we then began to One Hot Encode any categorial variables so that our model could interpret and use those columns. This caused a 250k by 42 data set to become 240k by 3400. "
   ]
  },
  {
   "cell_type": "code",
   "execution_count": 13,
   "id": "6b521613-8e2c-488a-8ac4-4e8a38bae1f0",
   "metadata": {},
   "outputs": [],
   "source": [
    "#Departure Delay - response\n",
    "#altered from https://www.statology.org/one-hot-encoding-in-python/\n",
    "\n",
    "#creating instance of one-hot-encoder\n",
    "encoder = OneHotEncoder(handle_unknown='ignore',drop='first')\n",
    "\n",
    "#perform one-hot encoding on non-numeric column s\n",
    "encoder_df = pd.DataFrame(encoder.fit_transform(df_air[non_numeric]).toarray())\n",
    "\n",
    "#return column names from encoder\n",
    "encoder_df.columns = encoder.get_feature_names_out()\n",
    "\n",
    "#merge one-hot encoded columns back with original DataFrame\n",
    "encoded = df_air.join(encoder_df)"
   ]
  },
  {
   "cell_type": "code",
   "execution_count": 14,
   "id": "191b5bfe-398c-4688-bdcc-f3c729ce2632",
   "metadata": {},
   "outputs": [],
   "source": [
    "#drop original columns\n",
    "final_df = encoded.drop(non_numeric, axis=1)"
   ]
  },
  {
   "cell_type": "markdown",
   "id": "c99396dc-f7e9-461a-96a2-2779dae00c05",
   "metadata": {},
   "source": [
    "***\n",
    "# <font color='Red'>Dealing With Unbalanced Response Variable:</font> "
   ]
  },
  {
   "cell_type": "code",
   "execution_count": 15,
   "id": "94485671-5ee6-4143-a700-624a535423ec",
   "metadata": {},
   "outputs": [
    {
     "name": "stdout",
     "output_type": "stream",
     "text": [
      "0    8412\n",
      "1    4102\n",
      "Name: is_delay, dtype: int64\n"
     ]
    },
    {
     "data": {
      "image/png": "[encoded data removed]",
      "text/plain": [
       "<Figure size 432x288 with 1 Axes>"
      ]
     },
     "metadata": {},
     "output_type": "display_data"
    }
   ],
   "source": [
    "#Checking distribution of our response.\n",
    "#The below code was altered from: https://wellsr.com/python/upsampling-and-downsampling-imbalanced-data-in-python/\n",
    "\n",
    "print(final_df[\"is_delay\"].value_counts())\n",
    "\n",
    "final_df.groupby('is_delay').size().plot(kind='pie',\n",
    "                                       y = \"is_delay\",\n",
    "                                       label = \"Percentage of Delays\",\n",
    "                                       autopct='%1.1f%%');"
   ]
  },
  {
   "cell_type": "code",
   "execution_count": 16,
   "id": "2f8e09ec-1ac0-4041-b932-d05f83dd3fe6",
   "metadata": {},
   "outputs": [
    {
     "name": "stdout",
     "output_type": "stream",
     "text": [
      "(8412, 1777)\n",
      "(4102, 1777)\n"
     ]
    }
   ],
   "source": [
    "#creating \n",
    "zero_delay = final_df[final_df[\"is_delay\"] == 0]\n",
    "one_delay  = final_df[final_df[\"is_delay\"] == 1]\n",
    "print(zero_delay.shape)\n",
    "print(one_delay.shape)"
   ]
  },
  {
   "cell_type": "code",
   "execution_count": 17,
   "id": "792b55df-4841-410b-b72c-20cbaa3ef908",
   "metadata": {},
   "outputs": [
    {
     "name": "stdout",
     "output_type": "stream",
     "text": [
      "(4102, 1777)\n"
     ]
    }
   ],
   "source": [
    "#Downsampling the response: \"is_delay\"\n",
    "from sklearn.utils import resample\n",
    "\n",
    "is_delay_downsample = resample(zero_delay,\n",
    "             replace=True,\n",
    "             n_samples=len(one_delay),\n",
    "             random_state=42)\n",
    "\n",
    "print(is_delay_downsample.shape)"
   ]
  },
  {
   "cell_type": "code",
   "execution_count": 18,
   "id": "4f75a428-5e43-4f21-b77d-a9ef43b5ff28",
   "metadata": {},
   "outputs": [
    {
     "name": "stdout",
     "output_type": "stream",
     "text": [
      "0    4102\n",
      "1    4102\n",
      "Name: is_delay, dtype: int64\n"
     ]
    },
    {
     "data": {
      "image/png": "[encoded data removed]",
      "text/plain": [
       "<Figure size 432x288 with 1 Axes>"
      ]
     },
     "metadata": {},
     "output_type": "display_data"
    }
   ],
   "source": [
    "#Viewing that distribution has been downsampled.                               \n",
    "data_downsampled = pd.concat([is_delay_downsample, one_delay])\n",
    "\n",
    "print(data_downsampled[\"is_delay\"].value_counts())\n",
    "\n",
    "data_downsampled.groupby('is_delay').size().plot(kind='pie',\n",
    "                                       y = \"v1\",\n",
    "                                       label = \"Type\",\n",
    "                                       autopct='%1.1f%%');"
   ]
  },
  {
   "cell_type": "markdown",
   "id": "12292d53-3bca-4002-8156-b5c0167d0325",
   "metadata": {},
   "source": [
    "***\n",
    "# <font color='Red'>Begin Modeling Data:<font>\n",
    "From sklearn, we used their train_test_split package to create a 80/20 train and test split for our model."
   ]
  },
  {
   "cell_type": "markdown",
   "id": "866bea95-8f1c-41ed-b97a-4b6ed9f0b0c8",
   "metadata": {},
   "source": [
    "***\n",
    "### <font color='Green'>Test/Train Split for Original Data Set:<font>"
   ]
  },
  {
   "cell_type": "code",
   "execution_count": 19,
   "id": "b602ca09-40a7-4cab-86db-65a0e163c6c2",
   "metadata": {},
   "outputs": [],
   "source": [
    "#remove target variable and column target was created from training data set\n",
    "target_cols = ['is_delay','departure_delay']\n",
    "feature_cols = final_df.loc[:, ~final_df.columns.isin(target_cols)].columns\n",
    "X = final_df[feature_cols] # Features\n",
    "y = final_df.is_delay # Target variable"
   ]
  },
  {
   "cell_type": "code",
   "execution_count": 20,
   "id": "173324c3-b94f-4b33-8d6a-35354e6beb18",
   "metadata": {},
   "outputs": [],
   "source": [
    "#split original dataset into features and target variable\n",
    "X_train,X_test,y_train,y_test=train_test_split(X,y,test_size=0.20,random_state=0)"
   ]
  },
  {
   "cell_type": "code",
   "execution_count": 21,
   "id": "3d54ab63-53cd-4e17-b96c-1f8dc77f8e45",
   "metadata": {},
   "outputs": [],
   "source": [
    "#Separating feature columns and target variable into X and y variables for modeling.\n",
    "Xd = data_downsampled[feature_cols] # Features\n",
    "yd = data_downsampled.is_delay # Target variable"
   ]
  },
  {
   "cell_type": "markdown",
   "id": "94cb8b48-8189-42ef-881c-b29fabf7e6a8",
   "metadata": {},
   "source": [
    "After one hot encoding, for our logistic regession model to run, we imputed the NaN values with 0."
   ]
  },
  {
   "cell_type": "code",
   "execution_count": 22,
   "id": "e86bcd21-2cdb-4569-913a-18212521de15",
   "metadata": {},
   "outputs": [],
   "source": [
    "#imputing 0 into NaN values for logistic regression after OHE\n",
    "X_train = X_train.fillna(0)\n",
    "X_test = X_test.fillna(0)\n",
    "y_train = y_train.fillna(0)\n",
    "y_test = y_test.fillna(0)"
   ]
  },
  {
   "cell_type": "code",
   "execution_count": 23,
   "id": "e4e481ec-0837-434b-aa2d-8fc0ca2f05de",
   "metadata": {},
   "outputs": [
    {
     "name": "stdout",
     "output_type": "stream",
     "text": [
      "X_train shape:  (10011, 1775) \n",
      "\n",
      "X_test shape:  (2503, 1775) \n",
      "\n",
      "y_train shape:  (10011,) \n",
      "\n",
      "y_test shape:  (2503,)\n"
     ]
    }
   ],
   "source": [
    "#checking shape of data\n",
    "print('X_train shape: ',X_train.shape,'\\n')\n",
    "print('X_test shape: ',X_test.shape,'\\n')\n",
    "print('y_train shape: ',y_train.shape,'\\n')\n",
    "print('y_test shape: ',y_test.shape)"
   ]
  },
  {
   "cell_type": "markdown",
   "id": "0a128b79-67af-4afd-8d90-b0a6e3a62221",
   "metadata": {},
   "source": [
    "***\n",
    "### <font color='Purple'>Creating Test/Train for undersampled data:<font>"
   ]
  },
  {
   "cell_type": "code",
   "execution_count": 24,
   "id": "272ac6af-817d-49c9-bf46-876a7cf04262",
   "metadata": {},
   "outputs": [],
   "source": [
    "#Separating feature columns and target variable into X and y variables for modeling.\n",
    "Xd = data_downsampled[feature_cols] # Features\n",
    "yd = data_downsampled.is_delay # Target variable"
   ]
  },
  {
   "cell_type": "code",
   "execution_count": 25,
   "id": "0070fdd4-f3a6-42b2-b920-6a550773171d",
   "metadata": {},
   "outputs": [],
   "source": [
    "#split downsampled dataset into features and target variable\n",
    "Xd_train,Xd_test,yd_train,yd_test=train_test_split(Xd,yd,test_size=0.20,random_state=0)"
   ]
  },
  {
   "cell_type": "code",
   "execution_count": 26,
   "id": "4f5d566b-3d55-4d39-8702-a75aec64570a",
   "metadata": {},
   "outputs": [],
   "source": [
    "#Imputing 0 into NaN values for logistic regression after OHE.\n",
    "Xd_train = Xd_train.fillna(0)\n",
    "Xd_test = Xd_test.fillna(0)\n",
    "yd_train = yd_train.fillna(0)\n",
    "yd_test = yd_test.fillna(0)"
   ]
  },
  {
   "cell_type": "code",
   "execution_count": 27,
   "id": "0d04982c-e935-4357-bfec-fe0cdb68c091",
   "metadata": {},
   "outputs": [
    {
     "name": "stdout",
     "output_type": "stream",
     "text": [
      "Xd_train shape:  (6563, 1775) \n",
      "\n",
      "Xd_test shape:  (1641, 1775) \n",
      "\n",
      "yd_train shape:  (6563,) \n",
      "\n",
      "yd_test shape:  (1641,)\n"
     ]
    }
   ],
   "source": [
    "#checking shape of data\n",
    "print('Xd_train shape: ',Xd_train.shape,'\\n')\n",
    "print('Xd_test shape: ',Xd_test.shape,'\\n')\n",
    "print('yd_train shape: ',yd_train.shape,'\\n')\n",
    "print('yd_test shape: ',yd_test.shape)"
   ]
  },
  {
   "cell_type": "markdown",
   "id": "08ada40f-1ec5-426a-b89c-f99ad3d5a0b0",
   "metadata": {},
   "source": [
    "***\n",
    "## <font color='Blue'>Logistic Regression Modeling:<font>\n",
    "\n",
    "### <font color='Green'>Basic Logistic Regression Model for baseline:<font> "
   ]
  },
  {
   "cell_type": "code",
   "execution_count": 28,
   "id": "09879f81-0e69-4a47-b333-a9dc77e419f0",
   "metadata": {},
   "outputs": [],
   "source": [
    "base_log_start = time.time()\n",
    "basic_log = LogisticRegression(random_state = 0)\n",
    "basic_fit = basic_log.fit(X_train,y_train)\n",
    "base_log_end = time.time()\n",
    "basic_ypred = basic_fit.predict(X_test)\n",
    "\n",
    "base_runtime_lr = base_log_end - base_log_start"
   ]
  },
  {
   "cell_type": "code",
   "execution_count": 29,
   "id": "57831b8a-5e64-464f-85f5-2d8382781374",
   "metadata": {},
   "outputs": [
    {
     "name": "stdout",
     "output_type": "stream",
     "text": [
      "Start Logistic Regression Base Model Results:\n",
      "__________________________\n",
      "\n",
      "Runtime:\n",
      " 0.6857068538665771 \n",
      "\n",
      "Accuracy:\n",
      " 0.8318018377946464 \n",
      "\n",
      "Precision:\n",
      " 0.9643765903307888 \n",
      "\n",
      "Recall:\n",
      " 0.4821882951653944 \n",
      "\n",
      "End Logistic Regression Base Model Results\n",
      "__________________________\n",
      "\n"
     ]
    }
   ],
   "source": [
    "print('Start Logistic Regression Base Model Results:\\n__________________________\\n')\n",
    "print('Runtime:\\n',base_runtime_lr,'\\n')\n",
    "print('Accuracy:\\n',metrics.accuracy_score(y_test, basic_ypred),'\\n')\n",
    "print('Precision:\\n',metrics.precision_score(y_test, basic_ypred),'\\n')\n",
    "print('Recall:\\n',metrics.recall_score(y_test, basic_ypred),'\\n')\n",
    "print('End Logistic Regression Base Model Results\\n__________________________\\n')"
   ]
  },
  {
   "cell_type": "code",
   "execution_count": 30,
   "id": "227e7300-09ad-41e1-b263-6e2a362e56b3",
   "metadata": {},
   "outputs": [
    {
     "data": {
      "image/png": "[encoded data removed]",
      "text/plain": [
       "<Figure size 432x288 with 2 Axes>"
      ]
     },
     "metadata": {
      "needs_background": "light"
     },
     "output_type": "display_data"
    }
   ],
   "source": [
    "#basic Confusion Matrix\n",
    "#correlation Matrix Heatmap\n",
    "# code from: https://medium.com/@dtuk81/confusion-matrix-visualization-fc31e3f30fea\n",
    "basic_cf_matrix = confusion_matrix(y_test, basic_ypred)\n",
    "\n",
    "basic_group_names = ['True Neg','False Pos','False Neg','True Pos']\n",
    "\n",
    "basic_group_counts = [\"{0:0.0f}\".format(value) for value in\n",
    "                basic_cf_matrix.flatten()]\n",
    "\n",
    "basic_group_percentages = [\"{0:.2%}\".format(value) for value in\n",
    "                     basic_cf_matrix.flatten()/np.sum(basic_cf_matrix)]\n",
    "\n",
    "basic_labels = [f\"{v1}\\n{v2}\\n{v3}\" for v1, v2, v3 in\n",
    "          zip(basic_group_names,basic_group_counts,basic_group_percentages)]\n",
    "\n",
    "basic_labels = np.asarray(basic_labels).reshape(2,2)\n",
    "\n",
    "sns.heatmap(basic_cf_matrix, annot=basic_labels, fmt='', cmap='Blues');"
   ]
  },
  {
   "cell_type": "code",
   "execution_count": 31,
   "id": "c2750a72-c4a3-4663-8521-0b76e4355caf",
   "metadata": {},
   "outputs": [
    {
     "data": {
      "image/png": "[encoded data removed]",
      "text/plain": [
       "<Figure size 432x288 with 1 Axes>"
      ]
     },
     "metadata": {
      "needs_background": "light"
     },
     "output_type": "display_data"
    }
   ],
   "source": [
    "#ROC Curve\n",
    "basic_ypred_proba = basic_fit.predict_proba(X_test)[::,1]\n",
    "fpr, tpr, _ = metrics.roc_curve(y_test,  basic_ypred_proba)\n",
    "basic_lr_auc = metrics.roc_auc_score(y_test, basic_ypred_proba)\n",
    "plt.plot(fpr,tpr,label=\"Base Logistic Regression, auc= \"+str(round(basic_lr_auc,5)))\n",
    "plt.legend(loc=0)\n",
    "plt.show();"
   ]
  },
  {
   "cell_type": "markdown",
   "id": "75787ae6-b298-4f70-98d9-71298deba89d",
   "metadata": {},
   "source": [
    "***\n",
    "### <font color = 'Green'>Using Robust scaler and selecting top 30% of features in Logistic Regression Model:<font>"
   ]
  },
  {
   "cell_type": "code",
   "execution_count": 32,
   "id": "5e4a60c7-dc55-4d87-9dcd-4617066d367e",
   "metadata": {},
   "outputs": [],
   "source": [
    "#https://towardsdatascience.com/getting-the-most-out-of-scikit-learn-pipelines-c2afc4410f1a\n",
    "\n",
    "# Define a Standard Scaler to normalize inputs\n",
    "scaler = RobustScaler()\n",
    "\n",
    "logistic = LogisticRegression(random_state = 0)\n",
    "\n",
    "f_select = SelectPercentile(score_func = f_regression,percentile = 30)\n",
    "\n",
    "fselect_lr_start = time.time()\n",
    "fselect_lr_pipe = Pipeline(steps=[(\"scaler\", scaler),\n",
    "                       ('f_select', f_select),\n",
    "                       (\"logistic\", logistic)]\n",
    "               )\n",
    "fselect_lr_end = time.time()\n",
    "fselect_lr_pipe.fit(X_train,y_train)\n",
    "\n",
    "fselect_lr_runtime =fselect_lr_end - fselect_lr_start"
   ]
  },
  {
   "cell_type": "markdown",
   "id": "ec85cccb-b58a-4a96-a30e-195bfdaee994",
   "metadata": {},
   "source": [
    "After fitting the model, we then ran our test data set through to create predictions."
   ]
  },
  {
   "cell_type": "code",
   "execution_count": 33,
   "id": "b3995d9f-6318-45e0-b537-70a5a6630b0e",
   "metadata": {},
   "outputs": [],
   "source": [
    "#predict\n",
    "fselect_lr_ypred=fselect_lr_pipe.predict(X_test)"
   ]
  },
  {
   "cell_type": "markdown",
   "id": "3e947cd5-89b0-490a-86f3-b0c73c6e28c4",
   "metadata": {},
   "source": [
    "After creating predictions on our test data set, we pulled metrics to determine how well our model performed. Our base model had an accuracy of 78.31% with a precision of 95.99% and a recall of 51.54%. This model output gives us a good starting point for hypertuing the model and comparison against some more powerful models such as XGBoost or LightGBM. After computing these metrics we then created a confusion matrix heatmap to better visualize how well our model was predicting and where the model could perform better with False Positives and False Negatives."
   ]
  },
  {
   "cell_type": "code",
   "execution_count": 34,
   "id": "0035cc4b-c3ac-4f0f-969f-1684f923801e",
   "metadata": {},
   "outputs": [
    {
     "name": "stdout",
     "output_type": "stream",
     "text": [
      "Start Scaled and Trimmed Logistic Regression Model Results:\n",
      "__________________________\n",
      "\n",
      "Runtime:\n",
      " 9.298324584960938e-05 \n",
      "\n",
      "Accuracy:\n",
      " 0.8361965641230523 \n",
      "\n",
      "Precision:\n",
      " 0.9895833333333334 \n",
      "\n",
      "Recall:\n",
      " 0.48346055979643765 \n",
      "\n",
      "End Scaled and Trimmed Logistic Regression Model Results\n",
      "__________________________\n",
      "\n"
     ]
    }
   ],
   "source": [
    "print('Start Scaled and Trimmed Logistic Regression Model Results:\\n__________________________\\n')\n",
    "print('Runtime:\\n',fselect_lr_runtime,'\\n')\n",
    "print('Accuracy:\\n',metrics.accuracy_score(y_test, fselect_lr_ypred),'\\n')\n",
    "print('Precision:\\n',metrics.precision_score(y_test, fselect_lr_ypred),'\\n')\n",
    "print('Recall:\\n',metrics.recall_score(y_test, fselect_lr_ypred),'\\n')\n",
    "print('End Scaled and Trimmed Logistic Regression Model Results\\n__________________________\\n')"
   ]
  },
  {
   "cell_type": "code",
   "execution_count": 35,
   "id": "13fe13d9-0b57-4c1b-bafc-901a2143b9db",
   "metadata": {},
   "outputs": [
    {
     "data": {
      "image/png": "[encoded data removed]",
      "text/plain": [
       "<Figure size 432x288 with 2 Axes>"
      ]
     },
     "metadata": {
      "needs_background": "light"
     },
     "output_type": "display_data"
    }
   ],
   "source": [
    "#correlation Matrix Heatmap\n",
    "# code from: https://medium.com/@dtuk81/confusion-matrix-visualization-fc31e3f30fea\n",
    "fselect_lr_cf_matrix = confusion_matrix(y_test, fselect_lr_ypred)\n",
    "\n",
    "fselect_lr_group_names = ['True Neg','False Pos','False Neg','True Pos']\n",
    "\n",
    "fselect_lr_group_counts = [\"{0:0.0f}\".format(value) for value in\n",
    "                fselect_lr_cf_matrix.flatten()]\n",
    "\n",
    "fselect_lr_group_percentages = [\"{0:.2%}\".format(value) for value in\n",
    "                     fselect_lr_cf_matrix.flatten()/np.sum(fselect_lr_cf_matrix)]\n",
    "\n",
    "fselect_lr_labels = [f\"{v1}\\n{v2}\\n{v3}\" for v1, v2, v3 in\n",
    "          zip(fselect_lr_group_names,\n",
    "              fselect_lr_group_counts,\n",
    "              fselect_lr_group_percentages)]\n",
    "\n",
    "fselect_lr_labels = np.asarray(fselect_lr_labels).reshape(2,2)\n",
    "\n",
    "sns.heatmap(fselect_lr_cf_matrix, annot=fselect_lr_labels, fmt='', cmap='Blues');"
   ]
  },
  {
   "cell_type": "markdown",
   "id": "83832926-42e8-4b05-b954-df47ce53ad2e",
   "metadata": {},
   "source": [
    "Finally we chose to plot a ROC curve to visualize specificity and sensitiviy of our model. "
   ]
  },
  {
   "cell_type": "code",
   "execution_count": 36,
   "id": "cd3175cb-7b67-4af3-bc88-6224a2f17de7",
   "metadata": {},
   "outputs": [
    {
     "data": {
      "image/png": "[encoded data removed]",
      "text/plain": [
       "<Figure size 432x288 with 1 Axes>"
      ]
     },
     "metadata": {
      "needs_background": "light"
     },
     "output_type": "display_data"
    }
   ],
   "source": [
    "#ROC Curve\n",
    "fselect_lr_ypred_proba = fselect_lr_pipe.predict_proba(X_test)[::,1]\n",
    "fpr, tpr, _ = metrics.roc_curve(y_test,  fselect_lr_ypred_proba)\n",
    "fselect_lr_auc = metrics.roc_auc_score(y_test, fselect_lr_ypred_proba)\n",
    "plt.plot(fpr,tpr,label=\"Top 30% Features Logistic Regression, auc= \"+str(round(fselect_lr_auc,5)))\n",
    "plt.legend(loc=0)\n",
    "plt.show();"
   ]
  },
  {
   "cell_type": "markdown",
   "id": "12a77c24-8f08-4dbb-85b7-a39d6af7e2ce",
   "metadata": {},
   "source": [
    "***\n",
    "### <font color = 'Green'>Using GridSearchCV to determine best parameters to tune the Logistic Regression model:<font>\n",
    "**Metrics:**\n",
    "1) C: **1.0**\n",
    "2) Penalty: **l2**\n",
    "3) Solver: **liblinear**"
   ]
  },
  {
   "cell_type": "code",
   "execution_count": 37,
   "id": "296a1ed5-111d-4dcd-a75c-8dd6be8ca0b5",
   "metadata": {},
   "outputs": [
    {
     "name": "stdout",
     "output_type": "stream",
     "text": [
      "GridSearchCV Metrics:\n",
      "__________________________\n",
      "\n",
      "Tuned hpyerparameters :(best parameters)  {'C': 1.0, 'penalty': 'l2', 'solver': 'liblinear'}\n",
      "Accuracy : 0.8243934708006565\n",
      "GridSearch Runtime: 6.890296936035156e-05\n",
      "\n",
      "End GridSearchCV Metrics\n",
      "__________________________\n",
      "\n"
     ]
    }
   ],
   "source": [
    "# Grid search cross validation\n",
    "\n",
    "lr_grid={\"C\":np.logspace(-3,3,7), \n",
    "      \"penalty\":[\"l1\",\"l2\"],\n",
    "      'solver': ['saga','lbfgs','sag','liblinear']}# l1 lasso l2 ridge\n",
    "start_grid_lr = time.time()\n",
    "model_lr=LogisticRegression(random_state = 0)\n",
    "logreg_cv=GridSearchCV(model_lr,\n",
    "                       lr_grid,\n",
    "                       cv=10)\n",
    "end_grid_lr = time.time()\n",
    "logreg_cv.fit(X_train,y_train)\n",
    "\n",
    "print('GridSearchCV Metrics:\\n__________________________\\n')\n",
    "print('Tuned hpyerparameters :(best parameters) ',logreg_cv.best_params_)\n",
    "print('Accuracy :',logreg_cv.best_score_)\n",
    "print('GridSearch Runtime:',end_grid_lr-start_grid_lr)\n",
    "print('\\nEnd GridSearchCV Metrics\\n__________________________\\n')"
   ]
  },
  {
   "cell_type": "markdown",
   "id": "7b6afba5-dc27-44a9-8ea6-227a8c64a394",
   "metadata": {},
   "source": [
    "***\n",
    "### <font color = 'Green'>Using Tuned Parameters in Scaled/Trimmed regression pipeline:<font>"
   ]
  },
  {
   "cell_type": "code",
   "execution_count": 38,
   "id": "4d6f83cb-c883-42df-9c79-7a5e277ffcc5",
   "metadata": {},
   "outputs": [],
   "source": [
    "#https://towardsdatascience.com/getting-the-most-out-of-scikit-learn-pipelines-c2afc4410f1a\n",
    "\n",
    "# Define a pipeline to search for the best combination of PCA truncation\n",
    "\n",
    "# Define a Standard Scaler to normalize inputs\n",
    "scaler = RobustScaler()\n",
    "tuned_c = 1.0\n",
    "tuned_penalty = 'l2'\n",
    "tuned_solver = 'liblinear'\n",
    "\n",
    "logistic = LogisticRegression(random_state = 0,\n",
    "                             C = tuned_c,\n",
    "                             penalty = tuned_penalty,\n",
    "                             solver = tuned_solver)\n",
    "\n",
    "tuned_fselect_lr_start = time.time()\n",
    "f_select = SelectPercentile(score_func = f_regression,percentile = 30)\n",
    "\n",
    "tuned_fselect_lr_pipe = Pipeline(steps=[(\"scaler\", scaler),\n",
    "                                        ('f_select', f_select),\n",
    "                                        (\"logistic\", logistic)\n",
    "                                       ]\n",
    "                                )\n",
    "tuned_fselect_lr_pipe.fit(X_train,y_train)\n",
    "tuned_fselect_lr_end = time.time()\n",
    "tuned_fselect_lr_runtime = tuned_fselect_lr_end - tuned_fselect_lr_start"
   ]
  },
  {
   "cell_type": "code",
   "execution_count": 39,
   "id": "f54bb5ac-3547-4451-b3da-627736a841a4",
   "metadata": {},
   "outputs": [],
   "source": [
    "#predict\n",
    "tuned_fselect_lr_ypred=fselect_lr_pipe.predict(X_test)"
   ]
  },
  {
   "cell_type": "code",
   "execution_count": 40,
   "id": "6e2adc88-cfbc-49e8-8d09-b269ae3efb77",
   "metadata": {},
   "outputs": [
    {
     "name": "stdout",
     "output_type": "stream",
     "text": [
      "Start Scaled and Trimmed Logistic Regression Model Results:\n",
      "__________________________\n",
      "\n",
      "Runtime:\n",
      " 0.00011301040649414062 \n",
      "\n",
      "Accuracy:\n",
      " 0.8361965641230523 \n",
      "\n",
      "Precision:\n",
      " 0.9895833333333334 \n",
      "\n",
      "Recall:\n",
      " 0.48346055979643765 \n",
      "\n",
      "End Scaled and Trimmed Logistic Regression Model Results\n",
      "__________________________\n",
      "\n"
     ]
    }
   ],
   "source": [
    "print('Start Scaled and Trimmed Logistic Regression Model Results:\\n__________________________\\n')\n",
    "print('Runtime:\\n',tuned_fselect_lr_runtime,'\\n')\n",
    "print('Accuracy:\\n',metrics.accuracy_score(y_test, tuned_fselect_lr_ypred),'\\n')\n",
    "print('Precision:\\n',metrics.precision_score(y_test, tuned_fselect_lr_ypred),'\\n')\n",
    "print('Recall:\\n',metrics.recall_score(y_test, tuned_fselect_lr_ypred),'\\n')\n",
    "print('End Scaled and Trimmed Logistic Regression Model Results\\n__________________________\\n')"
   ]
  },
  {
   "cell_type": "code",
   "execution_count": 41,
   "id": "93aa7e65-15a6-414c-8058-6ac36c513324",
   "metadata": {},
   "outputs": [
    {
     "data": {
      "image/png": "[encoded data removed]",
      "text/plain": [
       "<Figure size 432x288 with 2 Axes>"
      ]
     },
     "metadata": {
      "needs_background": "light"
     },
     "output_type": "display_data"
    }
   ],
   "source": [
    "#correlation Matrix Heatmap\n",
    "# code from: https://medium.com/@dtuk81/confusion-matrix-visualization-fc31e3f30fea\n",
    "tuned_fselect_lr_cf_matrix = confusion_matrix(y_test, tuned_fselect_lr_ypred)\n",
    "\n",
    "tuned_fselect_lr_group_names = ['True Neg','False Pos','False Neg','True Pos']\n",
    "\n",
    "tuned_fselect_lr_group_counts = [\"{0:0.0f}\".format(value) for value in\n",
    "                tuned_fselect_lr_cf_matrix.flatten()]\n",
    "\n",
    "tuned_fselect_lr_group_percentages = [\"{0:.2%}\".format(value) for value in\n",
    "                     tuned_fselect_lr_cf_matrix.flatten()/np.sum(tuned_fselect_lr_cf_matrix)]\n",
    "\n",
    "tuned_fselect_lr_labels = [f\"{v1}\\n{v2}\\n{v3}\" for v1, v2, v3 in\n",
    "          zip(tuned_fselect_lr_group_names,\n",
    "              tuned_fselect_lr_group_counts,\n",
    "              tuned_fselect_lr_group_percentages)]\n",
    "\n",
    "tuned_fselect_lr_labels = np.asarray(tuned_fselect_lr_labels).reshape(2,2)\n",
    "\n",
    "sns.heatmap(tuned_fselect_lr_cf_matrix,\n",
    "            annot=tuned_fselect_lr_labels,\n",
    "            fmt='',\n",
    "            cmap='Blues');"
   ]
  },
  {
   "cell_type": "code",
   "execution_count": 42,
   "id": "932e16a0-46c2-4da2-b6fa-29c8eac7b98d",
   "metadata": {},
   "outputs": [
    {
     "data": {
      "image/png": "[encoded data removed]",
      "text/plain": [
       "<Figure size 432x288 with 1 Axes>"
      ]
     },
     "metadata": {
      "needs_background": "light"
     },
     "output_type": "display_data"
    }
   ],
   "source": [
    "#ROC Curve\n",
    "tuned_fselect_lr_ypred_proba = tuned_fselect_lr_pipe.predict_proba(X_test)[::,1]\n",
    "fpr, tpr, _ = metrics.roc_curve(y_test,  tuned_fselect_lr_ypred_proba)\n",
    "tuned_fselect_lr_auc = metrics.roc_auc_score(y_test, tuned_fselect_lr_ypred_proba)\n",
    "plt.plot(fpr,tpr,label=\"Tuned Logistic Regression, auc= \"+str(round(tuned_fselect_lr_auc,5)))\n",
    "plt.legend(loc=0)\n",
    "plt.show();"
   ]
  },
  {
   "cell_type": "markdown",
   "id": "1a64d391-74bf-4fbe-8bb4-b58fcaeb8d93",
   "metadata": {},
   "source": [
    "***\n",
    "### <font color = 'Green'>Tuned Logistic Regression Correlation Coefficients<font>\n",
    "***"
   ]
  },
  {
   "cell_type": "code",
   "execution_count": 93,
   "id": "572dd868-3118-472f-bef1-8d424eca13aa",
   "metadata": {},
   "outputs": [],
   "source": [
    "#https://www.geeksforgeeks.org/create-pandas-dataframe-from-lists-using-zip/\n",
    "feature_names = tuned_fselect_lr_pipe[:-1].get_feature_names_out()\n",
    "coefs = tuned_fselect_lr_pipe.named_steps['logistic'].coef_"
   ]
  },
  {
   "cell_type": "code",
   "execution_count": 111,
   "id": "b121d2ad-7ee0-4836-9834-aa28e4546e95",
   "metadata": {},
   "outputs": [],
   "source": [
    "coef_list = list(zip(coefs[0],feature_names))\n",
    "df_coef_lr = pd.DataFrame(coef_list,columns = ['Coefficients','Feature']).sort_values(by='Coefficients',ascending = False)"
   ]
  },
  {
   "cell_type": "code",
   "execution_count": 116,
   "id": "c46e8dbc-26ab-4a16-b0c6-2edcaed9efa6",
   "metadata": {},
   "outputs": [
    {
     "data": {
      "text/html": [
       "<div>\n",
       "<style scoped>\n",
       "    .dataframe tbody tr th:only-of-type {\n",
       "        vertical-align: middle;\n",
       "    }\n",
       "\n",
       "    .dataframe tbody tr th {\n",
       "        vertical-align: top;\n",
       "    }\n",
       "\n",
       "    .dataframe thead th {\n",
       "        text-align: right;\n",
       "    }\n",
       "</style>\n",
       "<table border=\"1\" class=\"dataframe\">\n",
       "  <thead>\n",
       "    <tr style=\"text-align: right;\">\n",
       "      <th></th>\n",
       "      <th>Coefficients</th>\n",
       "      <th>Feature</th>\n",
       "    </tr>\n",
       "  </thead>\n",
       "  <tbody>\n",
       "    <tr>\n",
       "      <th>16</th>\n",
       "      <td>9.123196</td>\n",
       "      <td>cancelled</td>\n",
       "    </tr>\n",
       "    <tr>\n",
       "      <th>19</th>\n",
       "      <td>3.230511</td>\n",
       "      <td>airline_delay</td>\n",
       "    </tr>\n",
       "    <tr>\n",
       "      <th>12</th>\n",
       "      <td>2.287594</td>\n",
       "      <td>wheels_on</td>\n",
       "    </tr>\n",
       "    <tr>\n",
       "      <th>483</th>\n",
       "      <td>2.097742</td>\n",
       "      <td>tail_number_N603SW</td>\n",
       "    </tr>\n",
       "    <tr>\n",
       "      <th>20</th>\n",
       "      <td>2.056246</td>\n",
       "      <td>late_aircraft_delay</td>\n",
       "    </tr>\n",
       "  </tbody>\n",
       "</table>\n",
       "</div>"
      ],
      "text/plain": [
       "     Coefficients              Feature\n",
       "16       9.123196            cancelled\n",
       "19       3.230511        airline_delay\n",
       "12       2.287594            wheels_on\n",
       "483      2.097742   tail_number_N603SW\n",
       "20       2.056246  late_aircraft_delay"
      ]
     },
     "execution_count": 116,
     "metadata": {},
     "output_type": "execute_result"
    }
   ],
   "source": [
    "df_coef_lr.head()"
   ]
  },
  {
   "cell_type": "code",
   "execution_count": 122,
   "id": "05070d6f-d5d6-4a03-be86-b238456fd37a",
   "metadata": {},
   "outputs": [
    {
     "data": {
      "image/png": "[encoded data removed]",
      "text/plain": [
       "<Figure size 1440x576 with 1 Axes>"
      ]
     },
     "metadata": {},
     "output_type": "display_data"
    }
   ],
   "source": [
    "# altered from https://nbviewer.org/github/jakemdrew/EducationDataNC/blob/master/2017/Models/2017GraduationRates4yr.ipynb\n",
    "\n",
    "# Examine categorical variables of interest  \n",
    "import matplotlib.pyplot as plt\n",
    "%matplotlib inline\n",
    "\n",
    "#Plot the model's feature importances\n",
    "# REFERENCE:  Eric Larson, https://github.com/eclarson/DataMiningNotebooks\n",
    "plt.style.use('ggplot')\n",
    "\n",
    "coef_lr_plt_head = df_coef_lr.head(30)\n",
    "\n",
    "coef_lr_plt_tail = df_coef_lr.tail(30)\n",
    "\n",
    "coef_lr_plt = pd.concat([coef_lr_plt_head,coef_lr_plt_tail])\n",
    "\n",
    "coef_lr = pd.Series(coef_lr_plt['Coefficients'].values,index=coef_lr_plt['Feature'])\n",
    "ax = coef_lr.plot(kind='bar', figsize=(20,8))\n",
    "\n",
    "ax.set_title(\"Top Feature Coefficients\")\n",
    "ax.set_ylabel(\"Coefficient Magnitude\")\n",
    "ax.set_xlabel(\"Feature Names\")\n",
    "plt.show()"
   ]
  },
  {
   "cell_type": "markdown",
   "id": "c978d47c-cbd6-4f40-ba92-607060da5a52",
   "metadata": {},
   "source": [
    "***\n",
    "# <font color='Blue'>SVM Modeling:<font>\n",
    "\n",
    "### <font color='Green'>Basic SVM Model for Baseline:<font>\n",
    "\n",
    "***"
   ]
  },
  {
   "cell_type": "code",
   "execution_count": 43,
   "id": "a29aa242-855b-4d77-bd71-ef7235c5cdc1",
   "metadata": {},
   "outputs": [
    {
     "name": "stdout",
     "output_type": "stream",
     "text": [
      "Start SVM Base Model Results:\n",
      "__________________________\n",
      "\n",
      "Runtime:\n",
      " 314.7666029930115 \n",
      "\n",
      "Accuracy:\n",
      " 0.7071514182980424 \n",
      "\n",
      "Precision:\n",
      " 1.0 \n",
      "\n",
      "Recall:\n",
      " 0.06743002544529263 \n",
      "\n",
      "End SVM Base Model Results\n",
      "__________________________\n",
      "\n"
     ]
    }
   ],
   "source": [
    "#https://towardsdatascience.com/getting-the-most-out-of-scikit-learn-pipelines-c2afc4410f1a\n",
    "\n",
    "# Scale -> PCA -> LR \n",
    "base_svc = SVC(random_state = 0,\n",
    "               probability=True)\n",
    "\n",
    "\n",
    "start_base_svc = time.time()\n",
    "base_svc.fit(X_train,y_train)\n",
    "end_base_svc = time.time()\n",
    "\n",
    "#predict\n",
    "base_ypred_svc=base_svc.predict(X_test)\n",
    "\n",
    "base_runtime_svc = end_base_svc-start_base_svc\n",
    "accuracy_svc = metrics.accuracy_score(y_test,base_ypred_svc)\n",
    "precision_svc = metrics.precision_score(y_test, base_ypred_svc)\n",
    "recall_svc = metrics.recall_score(y_test, base_ypred_svc)\n",
    "\n",
    "#print results \n",
    "print('Start SVM Base Model Results:\\n__________________________\\n')\n",
    "print('Runtime:\\n',base_runtime_svc,'\\n')\n",
    "print('Accuracy:\\n',accuracy_svc,'\\n')\n",
    "print('Precision:\\n',precision_svc,'\\n')\n",
    "print('Recall:\\n',recall_svc,'\\n')\n",
    "print('End SVM Base Model Results\\n__________________________\\n')"
   ]
  },
  {
   "cell_type": "code",
   "execution_count": 44,
   "id": "c624bfcc-a76c-465f-8bf8-5f603768f107",
   "metadata": {},
   "outputs": [
    {
     "data": {
      "image/png": "[encoded data removed]",
      "text/plain": [
       "<Figure size 432x288 with 2 Axes>"
      ]
     },
     "metadata": {
      "needs_background": "light"
     },
     "output_type": "display_data"
    }
   ],
   "source": [
    "#correlation Matrix Heatmap\n",
    "# code from: https://medium.com/@dtuk81/confusion-matrix-visualization-fc31e3f30fea\n",
    "cf_matrix_base_svm = confusion_matrix(y_test, base_ypred_svc)\n",
    "\n",
    "group_names_base_svm = ['True Neg','False Pos','False Neg','True Pos']\n",
    "\n",
    "group_counts_base_svm = [\"{0:0.0f}\".format(value) for value in\n",
    "                cf_matrix_base_svm.flatten()]\n",
    "\n",
    "group_percentages_base_svm = [\"{0:.2%}\".format(value) for value in\n",
    "                     cf_matrix_base_svm.flatten()/np.sum(cf_matrix_base_svm)]\n",
    "\n",
    "labels_base_svm = [f\"{v1}\\n{v2}\\n{v3}\" for v1, v2, v3 in\n",
    "          zip(group_names_base_svm,\n",
    "              group_counts_base_svm,\n",
    "              group_percentages_base_svm)]\n",
    "\n",
    "labels_base_svm = np.asarray(labels_base_svm).reshape(2,2)\n",
    "\n",
    "sns.heatmap(cf_matrix_base_svm, annot=labels_base_svm, fmt='', cmap='Blues');"
   ]
  },
  {
   "cell_type": "code",
   "execution_count": 45,
   "id": "039eae3e-3254-40da-9e66-81901956a58e",
   "metadata": {},
   "outputs": [
    {
     "data": {
      "image/png": "[encoded data removed]",
      "text/plain": [
       "<Figure size 432x288 with 1 Axes>"
      ]
     },
     "metadata": {
      "needs_background": "light"
     },
     "output_type": "display_data"
    }
   ],
   "source": [
    "#ROC Curve\n",
    "base_svc_ypred_proba = base_svc.predict_proba(X_test)[::,1]\n",
    "fpr, tpr, _ = metrics.roc_curve(y_test,  base_svc_ypred_proba)\n",
    "base_svc_auc = metrics.roc_auc_score(y_test, base_svc_ypred_proba)\n",
    "plt.plot(fpr,tpr,label=\"Base SVC Regression, auc= \"+str(round(base_svc_auc,5)))\n",
    "plt.legend(loc=0)\n",
    "plt.show();"
   ]
  },
  {
   "cell_type": "markdown",
   "id": "a7143d7f-22de-42c8-9f86-58bc6a555b90",
   "metadata": {},
   "source": [
    "***\n",
    "### <font color = 'Green'>Using Robust scaler and selecting top 30% of features in SVM Model:<font>"
   ]
  },
  {
   "cell_type": "code",
   "execution_count": 46,
   "id": "b1107b25-89fa-4b26-abf1-bf04e3923b4c",
   "metadata": {},
   "outputs": [
    {
     "name": "stdout",
     "output_type": "stream",
     "text": [
      "Start SVM Base Model Results:\n",
      "__________________________\n",
      "\n",
      "Runtime:\n",
      " 67.2787070274353 \n",
      "\n",
      "Accuracy:\n",
      " 0.8150219736316421 \n",
      "\n",
      "Precision:\n",
      " 0.41348600508905853 \n",
      "\n",
      "Recall:\n",
      " 0.41348600508905853 \n",
      "\n",
      "End SVM Base Model Results\n",
      "__________________________\n",
      "\n"
     ]
    }
   ],
   "source": [
    "#https://towardsdatascience.com/getting-the-most-out-of-scikit-learn-pipelines-c2afc4410f1a\n",
    "\n",
    "fselect_scaler_svc = RobustScaler()\n",
    "\n",
    "fselect_svc = SVC(random_state = 0,\n",
    "                 probability=True)\n",
    "\n",
    "f_select_svc = SelectPercentile(score_func = f_regression,\n",
    "                                percentile = 30)\n",
    "\n",
    "fselect_svc_pipe = Pipeline(steps=[('scaler', fselect_scaler_svc),\n",
    "                                   ('f_select', f_select_svc),\n",
    "                                   (\"SVM\", fselect_svc)]\n",
    "               )\n",
    "\n",
    "start_fselect_svm = time.time()\n",
    "fselect_svc_pipe.fit(X_train,y_train)\n",
    "end_fselect_svm = time.time()\n",
    "\n",
    "#predict\n",
    "fselect_ypred_svm = fselect_svc_pipe.predict(X_test)\n",
    "\n",
    "#metrics\n",
    "runtime_svm_fselect = end_fselect_svm - start_fselect_svm\n",
    "accuracy_svm_fselect = metrics.accuracy_score(y_test,fselect_ypred_svm)\n",
    "precision_svm_fselect = metrics.precision_score(y_test, fselect_ypred_svm)\n",
    "recall_svm_fselect = metrics.recall_score(y_test, fselect_ypred_svm)\n",
    "\n",
    "#print results \n",
    "print('Start SVM Base Model Results:\\n__________________________\\n')\n",
    "print('Runtime:\\n',runtime_svm_fselect,'\\n')\n",
    "print('Accuracy:\\n',accuracy_svm_fselect,'\\n')\n",
    "print('Precision:\\n',recall_svm_fselect,'\\n')\n",
    "print('Recall:\\n',recall_svm_fselect,'\\n')\n",
    "print('End SVM Base Model Results\\n__________________________\\n')"
   ]
  },
  {
   "cell_type": "code",
   "execution_count": 47,
   "id": "af73fc51-8f11-4f71-9263-389e052e80ad",
   "metadata": {},
   "outputs": [
    {
     "data": {
      "image/png": "[encoded data removed]",
      "text/plain": [
       "<Figure size 432x288 with 2 Axes>"
      ]
     },
     "metadata": {
      "needs_background": "light"
     },
     "output_type": "display_data"
    }
   ],
   "source": [
    "#correlation Matrix Heatmap\n",
    "# code from: https://medium.com/@dtuk81/confusion-matrix-visualization-fc31e3f30fea\n",
    "cf_matrix_fselect_svm = confusion_matrix(y_test, fselect_ypred_svm)\n",
    "\n",
    "group_names_fselect_svm = ['True Neg','False Pos','False Neg','True Pos']\n",
    "\n",
    "group_counts_fselect_svm = [\"{0:0.0f}\".format(value) for value in\n",
    "                cf_matrix_fselect_svm.flatten()]\n",
    "\n",
    "group_percentages_fselect_svm = [\"{0:.2%}\".format(value) for value in\n",
    "                     cf_matrix_fselect_svm.flatten()/np.sum(cf_matrix_fselect_svm)]\n",
    "\n",
    "labels_fselect_svm = [f\"{v1}\\n{v2}\\n{v3}\" for v1, v2, v3 in\n",
    "          zip(group_names_fselect_svm,\n",
    "              group_counts_fselect_svm,\n",
    "              group_percentages_fselect_svm)]\n",
    "\n",
    "labels_fselect_svm = np.asarray(labels_fselect_svm).reshape(2,2)\n",
    "\n",
    "sns.heatmap(cf_matrix_fselect_svm,\n",
    "            annot=labels_fselect_svm,\n",
    "            fmt='', \n",
    "            cmap='Blues');"
   ]
  },
  {
   "cell_type": "code",
   "execution_count": 48,
   "id": "32fae312-6e3d-46c9-8740-e469ccb653e5",
   "metadata": {},
   "outputs": [
    {
     "data": {
      "image/png": "[encoded data removed]",
      "text/plain": [
       "<Figure size 432x288 with 1 Axes>"
      ]
     },
     "metadata": {
      "needs_background": "light"
     },
     "output_type": "display_data"
    }
   ],
   "source": [
    "#ROC Curve\n",
    "fselect_svc_ypred_proba = fselect_svc_pipe.predict_proba(X_test)[::,1]\n",
    "fpr, tpr, _ = metrics.roc_curve(y_test,  fselect_svc_ypred_proba)\n",
    "fselect_svc_auc = metrics.roc_auc_score(y_test, fselect_svc_ypred_proba)\n",
    "plt.plot(fpr,tpr,label=\"Top 30 Features SVC Regression, auc= \"+str(round(fselect_svc_auc,5)))\n",
    "plt.legend(loc=0)\n",
    "plt.show();"
   ]
  },
  {
   "cell_type": "markdown",
   "id": "adb9de39-67a2-4494-8bb9-25ac1d392bb3",
   "metadata": {},
   "source": [
    "***\n",
    "### <font color = 'Green'>Using GridSearchCV to determine best parameters to tune the SVC model:<font>\n",
    "**Metrics:**\n",
    "1) Kernel: **NA**\n",
    "2) Decision Function Shape: **ovo**\n",
    "3) Gamma: **auto**\n",
    "4) Class Weight:**balanced**"
   ]
  },
  {
   "cell_type": "code",
   "execution_count": 49,
   "id": "755ceed0-5bf4-43d1-9da1-02cd7ece1f8a",
   "metadata": {},
   "outputs": [
    {
     "name": "stdout",
     "output_type": "stream",
     "text": [
      "GridSearchCV Results:\n",
      "__________________________\n",
      "\n",
      "GridSearchCV took 5181.49 seconds for 8 candidate parameter settings.\n",
      "\n",
      "GSCV Best Estimator:\n",
      " SVC(class_weight='balanced', decision_function_shape='ovo', gamma='auto',\n",
      "    random_state=0) \n",
      "\n",
      "GSCV Best Score:\n",
      " 0.802517851594237 \n",
      "\n",
      "\n",
      "End GridSearchCV Results__________________________\n",
      "\n"
     ]
    }
   ],
   "source": [
    "svc_tune_parameters = {\n",
    "                        'kernel':['linear', 'rbf'],\n",
    "                        'decision_function_shape':['ovo', 'ovr'],\n",
    "                        'gamma': ['scale','auto'],\n",
    "                        'class_weight': ['balanced']\n",
    "                    }\n",
    "\n",
    "svc_model = SVC(random_state = 0)\n",
    "\n",
    "grid_search_svc_tune = GridSearchCV(estimator=svc_model,\n",
    "                                      param_grid=svc_tune_parameters,\n",
    "                                      scoring = 'accuracy')\n",
    "\n",
    "start_svc_tune = time.time()\n",
    "grid_search_svc_tune.fit(X_train, y_train)\n",
    "end_svc_tune = time.time()\n",
    "\n",
    "print('GridSearchCV Results:\\n__________________________\\n')\n",
    "print(\n",
    "    \"GridSearchCV took %.2f seconds for %d candidate parameter settings.\\n\"\n",
    "    % (end_svc_tune - start_svc_tune, len(grid_search_svc_tune.cv_results_[\"params\"]))\n",
    ")\n",
    "print('GSCV Best Estimator:\\n',grid_search_svc_tune.best_estimator_,'\\n')\n",
    "print('GSCV Best Score:\\n',grid_search_svc_tune.best_score_,'\\n')\n",
    "print('\\nEnd GridSearchCV Results\\n__________________________\\n')"
   ]
  },
  {
   "cell_type": "markdown",
   "id": "c0264ff5-da78-441f-acbd-f2b28ddb35ce",
   "metadata": {},
   "source": [
    "***\n",
    "### <font color = 'Green'>SVC Model using Tuned Parameters:<font>"
   ]
  },
  {
   "cell_type": "code",
   "execution_count": 50,
   "id": "7adbf163-7e66-4f85-b977-5f77c3ba21dd",
   "metadata": {},
   "outputs": [
    {
     "name": "stdout",
     "output_type": "stream",
     "text": [
      "Start SVM Base Model Results:\n",
      "__________________________\n",
      "\n",
      "Runtime:\n",
      " 72.48540186882019 \n",
      "\n",
      "Accuracy:\n",
      " 0.8150219736316421 \n",
      "\n",
      "Precision:\n",
      " 0.9938837920489296 \n",
      "\n",
      "Recall:\n",
      " 0.41348600508905853 \n",
      "\n",
      "\n",
      "End SVM Base Model Results__________________________\n",
      "\n"
     ]
    }
   ],
   "source": [
    "#https://towardsdatascience.com/getting-the-most-out-of-scikit-learn-pipelines-c2afc4410f1a\n",
    "\n",
    "svc_scaler = RobustScaler()\n",
    "\n",
    "dfs_svc_tuned = 'ovo'\n",
    "gamma_tuned = 'auto'\n",
    "class_weight_tuned = 'balanced'\n",
    "\n",
    "tuned_fselect_svc = SVC(random_state = 0,\n",
    "                        probability=True,\n",
    "                        decision_function_shape = dfs_svc_tuned,\n",
    "                        gamma = gamma_tuned,\n",
    "                        class_weight = class_weight_tuned\n",
    "                        )\n",
    "\n",
    "tuned_f_select_svc = SelectPercentile(score_func = f_regression,\n",
    "                                        percentile = 30)\n",
    "\n",
    "tuned_fselect_svc_pipe = Pipeline(steps=[('scaler', svc_scaler),\n",
    "                                         ('f_select', f_select_svc),\n",
    "                                         (\"SVM\", fselect_svc)]\n",
    "                                )\n",
    "\n",
    "tuned_start_fselect_svm = time.time()\n",
    "tuned_fselect_svc_pipe.fit(X_train,y_train)\n",
    "tuned_end_fselect_svm = time.time()\n",
    "\n",
    "#predict\n",
    "tuned_fselect_ypred_svm=tuned_fselect_svc_pipe.predict(X_test)\n",
    "\n",
    "tuned_runtime_svm_fselect = tuned_end_fselect_svm - tuned_start_fselect_svm\n",
    "tuned_accuracy_svm_fselect = metrics.accuracy_score(y_test,tuned_fselect_ypred_svm)\n",
    "tuned_precision_svm_fselect = metrics.precision_score(y_test, tuned_fselect_ypred_svm)\n",
    "tuned_recall_svm_fselect = metrics.recall_score(y_test, tuned_fselect_ypred_svm)\n",
    "\n",
    "#print results \n",
    "print('Start SVM Base Model Results:\\n__________________________\\n')\n",
    "print('Runtime:\\n',tuned_runtime_svm_fselect,'\\n')\n",
    "print('Accuracy:\\n',tuned_accuracy_svm_fselect,'\\n')\n",
    "print('Precision:\\n',tuned_precision_svm_fselect,'\\n')\n",
    "print('Recall:\\n',tuned_recall_svm_fselect,'\\n')\n",
    "print('\\nEnd SVM Base Model Results\\n__________________________\\n')"
   ]
  },
  {
   "cell_type": "code",
   "execution_count": 51,
   "id": "6866ee74-252c-4b6d-a971-5192415b49b2",
   "metadata": {},
   "outputs": [
    {
     "data": {
      "image/png": "[encoded data removed]",
      "text/plain": [
       "<Figure size 432x288 with 2 Axes>"
      ]
     },
     "metadata": {
      "needs_background": "light"
     },
     "output_type": "display_data"
    }
   ],
   "source": [
    "#correlation Matrix Heatmap\n",
    "# code from: https://medium.com/@dtuk81/confusion-matrix-visualization-fc31e3f30fea\n",
    "cf_matrix_fselect_svm_tuned = confusion_matrix(y_test, tuned_fselect_ypred_svm)\n",
    "\n",
    "group_names_fselect_svm_tuned = ['True Neg','False Pos','False Neg','True Pos']\n",
    "\n",
    "group_counts_fselect_svm_tuned = [\"{0:0.0f}\".format(value) for value in\n",
    "                cf_matrix_fselect_svm_tuned.flatten()]\n",
    "\n",
    "group_percentages_fselect_svm_tuned = [\"{0:.2%}\".format(value) for value in\n",
    "                     cf_matrix_fselect_svm_tuned.flatten()/np.sum(cf_matrix_fselect_svm_tuned)]\n",
    "\n",
    "labels_fselect_svm_tuned = [f\"{v1}\\n{v2}\\n{v3}\" for v1, v2, v3 in\n",
    "          zip(group_names_fselect_svm_tuned,\n",
    "              group_counts_fselect_svm_tuned,\n",
    "              group_percentages_fselect_svm_tuned)]\n",
    "\n",
    "labels_fselect_svm_tuned = np.asarray(labels_fselect_svm_tuned).reshape(2,2)\n",
    "\n",
    "sns.heatmap(cf_matrix_fselect_svm_tuned,\n",
    "            annot=labels_fselect_svm_tuned,\n",
    "            fmt='', \n",
    "            cmap='Blues');"
   ]
  },
  {
   "cell_type": "code",
   "execution_count": 52,
   "id": "5749fe68-44df-4e28-9440-a8d39cbaee94",
   "metadata": {},
   "outputs": [
    {
     "data": {
      "image/png": "[encoded data removed]",
      "text/plain": [
       "<Figure size 432x288 with 1 Axes>"
      ]
     },
     "metadata": {
      "needs_background": "light"
     },
     "output_type": "display_data"
    }
   ],
   "source": [
    "#ROC Curve\n",
    "tuned_fselect_svc_ypred_proba = tuned_fselect_svc_pipe.predict_proba(X_test)[::,1]\n",
    "fpr, tpr, _ = metrics.roc_curve(y_test,  tuned_fselect_svc_ypred_proba)\n",
    "tuned_fselect_svc_auc = metrics.roc_auc_score(y_test, tuned_fselect_svc_ypred_proba)\n",
    "plt.plot(fpr,tpr,label=\"Top 30 Features SVC Regression, auc= \"+str(round(tuned_fselect_svc_auc,5)))\n",
    "plt.legend(loc=0)\n",
    "plt.show();"
   ]
  },
  {
   "cell_type": "markdown",
   "id": "192755f8-4792-4a5a-a657-21e06a37d355",
   "metadata": {},
   "source": [
    "***\n",
    "## <font color = 'Red'>Undersampled Models:<font><br>"
   ]
  },
  {
   "cell_type": "markdown",
   "id": "8c02679e-6efa-4db8-9c33-39c5a0a2e449",
   "metadata": {},
   "source": [
    "### <font color = 'Purple'>Undersampled Logistic Regression Model:<font>"
   ]
  },
  {
   "cell_type": "code",
   "execution_count": 54,
   "id": "e9880f60-8406-40d0-9b1c-5dcfb1d1b093",
   "metadata": {},
   "outputs": [
    {
     "data": {
      "text/plain": [
       "Pipeline(steps=[('scaler', RobustScaler()),\n",
       "                ('f_select',\n",
       "                 SelectPercentile(percentile=30,\n",
       "                                  score_func=<function f_regression at 0x7fb950d51430>)),\n",
       "                ('logistic', LogisticRegression(random_state=0))])"
      ]
     },
     "execution_count": 54,
     "metadata": {},
     "output_type": "execute_result"
    }
   ],
   "source": [
    "#https://towardsdatascience.com/getting-the-most-out-of-scikit-learn-pipelines-c2afc4410f1a\n",
    "\n",
    "# Define a Standard Scaler to normalize inputs\n",
    "scaler_und = RobustScaler()\n",
    "\n",
    "logistic_und = LogisticRegression(random_state = 0)\n",
    "\n",
    "f_und = SelectPercentile(score_func = f_regression,\n",
    "                                percentile = 30)\n",
    "\n",
    "lr_und_start = time.time()\n",
    "lr_und = Pipeline(steps=[(\"scaler\", scaler_und),\n",
    "                       ('f_select', f_und),\n",
    "                       (\"logistic\", logistic_und)]\n",
    "               )\n",
    "lr_und_end = time.time()\n",
    "lr_und_runtime = lr_und_end - lr_und_start\n",
    "lr_und.fit(Xd_train,yd_train)"
   ]
  },
  {
   "cell_type": "code",
   "execution_count": 55,
   "id": "34da3db9-8f15-4bd0-bc39-6f51857090a4",
   "metadata": {},
   "outputs": [],
   "source": [
    "#predict\n",
    "lr_und_ypred=lr_und.predict(Xd_test)"
   ]
  },
  {
   "cell_type": "code",
   "execution_count": 56,
   "id": "ce2d4784-cab7-4a2c-b3d4-046032c488db",
   "metadata": {},
   "outputs": [
    {
     "name": "stdout",
     "output_type": "stream",
     "text": [
      "Start SVM Base Model Results:\n",
      "__________________________\n",
      "\n",
      "Runtime:\n",
      " 0.000125885009765625 \n",
      "\n",
      "Accuracy:\n",
      " 0.7599024984765387 \n",
      "\n",
      "Precision:\n",
      " 0.90715667311412 \n",
      "\n",
      "Recall:\n",
      " 0.5754601226993865 \n",
      "\n",
      "End SVM Base Model Results\n",
      "__________________________\n",
      "\n"
     ]
    }
   ],
   "source": [
    "#print results \n",
    "print('Start SVM Base Model Results:\\n__________________________\\n')\n",
    "print('Runtime:\\n',lr_und_runtime,'\\n')\n",
    "print('Accuracy:\\n',metrics.accuracy_score(yd_test, lr_und_ypred),'\\n')\n",
    "print('Precision:\\n',metrics.precision_score(yd_test, lr_und_ypred),'\\n')\n",
    "print('Recall:\\n',metrics.recall_score(yd_test, lr_und_ypred),'\\n')\n",
    "print('End SVM Base Model Results\\n__________________________\\n')"
   ]
  },
  {
   "cell_type": "code",
   "execution_count": 57,
   "id": "a41081a4-49d2-4045-b741-b9a2bad11b17",
   "metadata": {},
   "outputs": [
    {
     "data": {
      "image/png": "[encoded data removed]",
      "text/plain": [
       "<Figure size 432x288 with 2 Axes>"
      ]
     },
     "metadata": {
      "needs_background": "light"
     },
     "output_type": "display_data"
    }
   ],
   "source": [
    "#correlation Matrix Heatmap\n",
    "# code from: https://medium.com/@dtuk81/confusion-matrix-visualization-fc31e3f30fea\n",
    "lr_und__cf_matrix = confusion_matrix(yd_test, lr_und_ypred)\n",
    "\n",
    "lr_und_group_names = ['True Neg','False Pos','False Neg','True Pos']\n",
    "\n",
    "lr_und_group_counts = [\"{0:0.0f}\".format(value) for value in\n",
    "                lr_und__cf_matrix.flatten()]\n",
    "\n",
    "lr_und_group_percentages = [\"{0:.2%}\".format(value) for value in\n",
    "                     lr_und__cf_matrix.flatten()/np.sum(lr_und__cf_matrix)]\n",
    "\n",
    "lr_und_labels = [f\"{v1}\\n{v2}\\n{v3}\" for v1, v2, v3 in\n",
    "          zip(lr_und_group_names,\n",
    "              lr_und_group_counts,\n",
    "              lr_und_group_percentages)]\n",
    "\n",
    "lr_und_labels = np.asarray(lr_und_labels).reshape(2,2)\n",
    "\n",
    "sns.heatmap(lr_und__cf_matrix,\n",
    "            annot=lr_und_labels,\n",
    "            fmt='',\n",
    "            cmap='Blues');"
   ]
  },
  {
   "cell_type": "code",
   "execution_count": 58,
   "id": "0d20ed66-fd8f-4788-8463-c4f47edf945c",
   "metadata": {},
   "outputs": [
    {
     "data": {
      "image/png": "[encoded data removed]",
      "text/plain": [
       "<Figure size 432x288 with 1 Axes>"
      ]
     },
     "metadata": {
      "needs_background": "light"
     },
     "output_type": "display_data"
    }
   ],
   "source": [
    "#ROC Curve\n",
    "lr_und_ypred_proba = lr_und.predict_proba(Xd_test)[::,1]\n",
    "fpr, tpr, _ = metrics.roc_curve(yd_test,  lr_und_ypred_proba)\n",
    "lr_und_svc_auc = metrics.roc_auc_score(yd_test, lr_und_ypred_proba)\n",
    "plt.plot(fpr,tpr,label=\"Top 30 Features SVC Regression, auc= \"+str(round(lr_und_svc_auc,5)))\n",
    "plt.legend(loc=0)\n",
    "plt.show();"
   ]
  },
  {
   "cell_type": "markdown",
   "id": "db2fe07c-c4ac-4db9-b4c8-af923607e91d",
   "metadata": {},
   "source": [
    "***\n",
    "### <font color = 'Purple'>Undersampled SVM model<font>\n",
    "***"
   ]
  },
  {
   "cell_type": "code",
   "execution_count": 59,
   "id": "abb04519-0403-4957-b765-c477af818972",
   "metadata": {},
   "outputs": [
    {
     "name": "stdout",
     "output_type": "stream",
     "text": [
      "Start SVM Base Model Results:\n",
      "__________________________\n",
      "\n",
      "Runtime:\n",
      " 67.2787070274353 \n",
      "\n",
      "Accuracy:\n",
      " 0.7196831200487508 \n",
      "\n",
      "Precision:\n",
      " 0.942643391521197 \n",
      "\n",
      "Recall:\n",
      " 0.4638036809815951 \n",
      "\n",
      "\n",
      "End SVM Base Model Results__________________________\n",
      "\n"
     ]
    }
   ],
   "source": [
    "#https://towardsdatascience.com/getting-the-most-out-of-scikit-learn-pipelines-c2afc4410f1a\n",
    "\n",
    "svm_und_scaler = RobustScaler()\n",
    "\n",
    "fselect_svc_und = SVC(random_state = 0,\n",
    "                 probability=True)\n",
    "\n",
    "f_select_svc_und = SelectPercentile(score_func = f_regression,\n",
    "                                percentile = 30)\n",
    "\n",
    "fselect_svc_und_pipe = Pipeline(steps=[('scaler',svm_und_scaler),\n",
    "                       ('f_select', f_select_svc_und),\n",
    "                       (\"SVM\", fselect_svc_und)]\n",
    "               )\n",
    "\n",
    "start_fselect_svm_und = time.time()\n",
    "fselect_svc_und_pipe.fit(Xd_train,yd_train)\n",
    "end_fselect_svm_und = time.time()\n",
    "\n",
    "#predict\n",
    "fselect_ypred_svm_und = fselect_svc_und_pipe.predict(Xd_test)\n",
    "\n",
    "runtime_svm_und_fselect = end_fselect_svm - start_fselect_svm\n",
    "accuracy_svm_und_fselect = metrics.accuracy_score(yd_test,fselect_ypred_svm_und)\n",
    "precision_svm_und_fselect = metrics.precision_score(yd_test, fselect_ypred_svm_und)\n",
    "recall_svm_und_fselect = metrics.recall_score(yd_test, fselect_ypred_svm_und)\n",
    "\n",
    "#print results \n",
    "print('Start SVM Base Model Results:\\n__________________________\\n')\n",
    "print('Runtime:\\n',runtime_svm_und_fselect,'\\n')\n",
    "print('Accuracy:\\n',accuracy_svm_und_fselect,'\\n')\n",
    "print('Precision:\\n',precision_svm_und_fselect,'\\n')\n",
    "print('Recall:\\n',recall_svm_und_fselect,'\\n')\n",
    "print('\\nEnd SVM Base Model Results\\n__________________________\\n')"
   ]
  },
  {
   "cell_type": "code",
   "execution_count": 60,
   "id": "48c12436-dff7-4864-914c-856351c58e8f",
   "metadata": {},
   "outputs": [
    {
     "data": {
      "image/png": "[encoded data removed]",
      "text/plain": [
       "<Figure size 432x288 with 2 Axes>"
      ]
     },
     "metadata": {
      "needs_background": "light"
     },
     "output_type": "display_data"
    }
   ],
   "source": [
    "#correlation Matrix Heatmap\n",
    "# code from: https://medium.com/@dtuk81/confusion-matrix-visualization-fc31e3f30fea\n",
    "cf_matrix_svm_und = confusion_matrix(yd_test, fselect_ypred_svm_und)\n",
    "\n",
    "group_names_svm_und = ['True Neg','False Pos','False Neg','True Pos']\n",
    "\n",
    "group_counts_svm_und = [\"{0:0.0f}\".format(value) for value in\n",
    "                cf_matrix_svm_und.flatten()]\n",
    "\n",
    "group_percentages_svm_und = [\"{0:.2%}\".format(value) for value in\n",
    "                     cf_matrix_svm_und.flatten()/np.sum(cf_matrix_svm_und)]\n",
    "\n",
    "labels_svm_und = [f\"{v1}\\n{v2}\\n{v3}\" for v1, v2, v3 in\n",
    "          zip(group_names_svm_und,\n",
    "              group_counts_svm_und,\n",
    "              group_percentages_svm_und)]\n",
    "\n",
    "labels_svm_und = np.asarray(labels_svm_und).reshape(2,2)\n",
    "\n",
    "sns.heatmap(cf_matrix_svm_und, annot=labels_svm_und, fmt='', cmap='Blues');"
   ]
  },
  {
   "cell_type": "code",
   "execution_count": 61,
   "id": "e38139af-dcc6-456d-aac8-4d207b973fb0",
   "metadata": {},
   "outputs": [
    {
     "data": {
      "image/png": "[encoded data removed]",
      "text/plain": [
       "<Figure size 432x288 with 1 Axes>"
      ]
     },
     "metadata": {
      "needs_background": "light"
     },
     "output_type": "display_data"
    }
   ],
   "source": [
    "#ROC Curve\n",
    "tuned_fselect_svc_und_ypred_proba = fselect_svc_und_pipe.predict_proba(Xd_test)[::,1]\n",
    "fpr, tpr, _ = metrics.roc_curve(yd_test,  tuned_fselect_svc_und_ypred_proba)\n",
    "tuned_fselect_svc_und_auc = metrics.roc_auc_score(yd_test, tuned_fselect_svc_und_ypred_proba)\n",
    "plt.plot(fpr,tpr,label=\"Top 30 Features SVC Regression, auc= \"+str(round(tuned_fselect_svc_und_auc,5)))\n",
    "plt.legend(loc=0)\n",
    "plt.show();"
   ]
  }
 ],
 "metadata": {
  "kernelspec": {
   "display_name": "Python 3 (ipykernel)",
   "language": "python",
   "name": "python3"
  },
  "language_info": {
   "codemirror_mode": {
    "name": "ipython",
    "version": 3
   },
   "file_extension": ".py",
   "mimetype": "text/x-python",
   "name": "python",
   "nbconvert_exporter": "python",
   "pygments_lexer": "ipython3",
   "version": "3.9.7"
  }
 },
 "nbformat": 4,
 "nbformat_minor": 5
}
