{
 "cells": [
  {
   "cell_type": "markdown",
   "id": "79267500-c29c-4111-b452-893b9d96bfb2",
   "metadata": {},
   "source": [
    "***\n",
    "# Lab 2 ML7331\n",
    "> ### By Allen Hoskins, Brittany Lewandowski, Alexy Morris, Fidel Tamares\n",
    "\n",
    "\n",
    "***"
   ]
  },
  {
   "cell_type": "markdown",
   "id": "16502904-0f4c-4326-bf7b-37d7089139ca",
   "metadata": {},
   "source": [
    "# Data Preparation\n",
    "***"
   ]
  },
  {
   "cell_type": "markdown",
   "id": "d7738f14-64a4-4f45-a923-dd57b888311c",
   "metadata": {},
   "source": [
    "***\n",
    "# Modeling and Evaluation\n",
    "***"
   ]
  },
  {
   "cell_type": "code",
   "execution_count": null,
   "id": "0dc99fca-ae06-44b1-891c-90ed4ce906eb",
   "metadata": {},
   "outputs": [],
   "source": [
    "#https://towardsdatascience.com/getting-the-most-out-of-scikit-learn-pipelines-c2afc4410f1a\n",
    "#https://lightgbm.readthedocs.io/en/latest/Parameters.html#objective\n",
    "\n",
    "# Define a pipeline to search for the best combination of PCA truncation\n",
    "\n",
    "pca_lgbm = PCA(n_components = .95,\n",
    "               svd_solver = 'auto')\n"
   ]
  },
  {
   "cell_type": "code",
   "execution_count": null,
   "id": "79360527-77f0-47fc-aca6-dd5e0eb084dc",
   "metadata": {},
   "outputs": [],
   "source": [
    "\n",
    "# Define a Standard Scaler to normalize inputs\n",
    "\n",
    "scaler_lgbm = RobustScaler()\n",
    "\n",
    "lr = 0.15\n",
    "boost = 'dart' #'gbdt' \n",
    "obj = 'binary'\n",
    "tl = 'voting' # 'data'\n",
    "numiter = 1000\n",
    "mbin = 300\n",
    "nleaves = 42\n"
   ]
  },
  {
   "cell_type": "code",
   "execution_count": null,
   "id": "15bea214-8f1d-4c6d-9b5e-334cae776c1e",
   "metadata": {},
   "outputs": [],
   "source": [
    "\n",
    "\n",
    "# Scale -> PCA -> LR \n",
    "lgbm = lgb.LGBMClassifier(learning_rate = lr,\n",
    "                          boosting = boost,\n",
    "                          objective = obj,\n",
    "                          tree_learner = tl,\n",
    "                          #num_iterations = numiter,\n",
    "                          num_leaves = nleaves,\n",
    "                          max_bin = mbin,\n",
    "                          extra_trees = True)\n"
   ]
  },
  {
   "cell_type": "code",
   "execution_count": null,
   "id": "b1a2df80-cc4b-4949-8050-13b287b16807",
   "metadata": {},
   "outputs": [],
   "source": [
    "%%time\n",
    "#start_lgbm = time.time()\n",
    "pipe_lgbm = Pipeline(steps=[(\"scaler\", scaler_lgbm),\n",
    "                       (\"pca\", pca_lgbm),\n",
    "                       (\"LightGBM\", lgbm)])\n",
    "\n",
    "pipe_lgbm.fit(X_train,y_train)\n",
    "#end_lgbm = time.time()"
   ]
  },
  {
   "cell_type": "code",
   "execution_count": null,
   "id": "3ca64761-a1eb-4972-823e-da0b0d6c1d7a",
   "metadata": {},
   "outputs": [],
   "source": [
    "#predict\n",
    "y_pred_lgbm=pipe_lgbm.predict(X_test)\n",
    "\n",
    "runtime_lgbm = end_lgbm-start_lgbm\n",
    "accuracy_lgbm = metrics.accuracy_score(y_test,y_pred_lgbm)\n",
    "precision_lgbm = metrics.precision_score(y_test, y_pred_lgbm)\n",
    "recall_lgbm = metrics.recall_score(y_test, y_pred_lgbm)\n",
    "\n",
    "#print results \n",
    "print('____________Start LightGBM Base Model Results______________:')\n",
    "print('Runtime:\\n',runtime_lgbm,'\\n')\n",
    "print('Accuracy:\\n',accuracy_lgbm,'\\n')\n",
    "print('Precision:\\n',recall_lgbm,'\\n')\n",
    "print('Recall:\\n',recall_lgbm,'\\n')\n",
    "print('____________End LightGBM Base Model Results________________')"
   ]
  },
  {
   "cell_type": "markdown",
   "id": "bbee1bc7-00fe-425f-a8ea-3e5befc77894",
   "metadata": {},
   "source": [
    "***\n",
    "# Deployment\n",
    "***"
   ]
  },
  {
   "cell_type": "markdown",
   "id": "06d02cf6-2215-48c7-a5a0-bac51210379f",
   "metadata": {},
   "source": [
    "***\n",
    "# Exceptional Work\n",
    "***"
   ]
  },
  {
   "cell_type": "code",
   "execution_count": null,
   "id": "d40358db-a69f-4f7f-9307-166e95787a26",
   "metadata": {},
   "outputs": [],
   "source": []
  }
 ],
 "metadata": {
  "kernelspec": {
   "display_name": "Python 3 (ipykernel)",
   "language": "python",
   "name": "python3"
  },
  "language_info": {
   "codemirror_mode": {
    "name": "ipython",
    "version": 3
   },
   "file_extension": ".py",
   "mimetype": "text/x-python",
   "name": "python",
   "nbconvert_exporter": "python",
   "pygments_lexer": "ipython3",
   "version": "3.9.7"
  }
 },
 "nbformat": 4,
 "nbformat_minor": 5
}
