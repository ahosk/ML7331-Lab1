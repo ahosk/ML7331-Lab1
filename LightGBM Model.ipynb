{
 "cells": [
  {
   "cell_type": "markdown",
   "id": "ff7fb452-1129-40fc-a914-952d2a94212e",
   "metadata": {},
   "source": [
    "***\n",
    "# <font color='Orange'>Testing LightGBM:<font>\n",
    "#### Running Data through LightGBM to determine if Logistic Regression or SVM performs better"
   ]
  },
  {
   "cell_type": "code",
   "execution_count": null,
   "id": "91f0c424-e5e7-492a-84e9-93deec374b7c",
   "metadata": {},
   "outputs": [],
   "source": [
    "#https://towardsdatascience.com/getting-the-most-out-of-scikit-learn-pipelines-c2afc4410f1a\n",
    "#https://lightgbm.readthedocs.io/en/latest/Parameters.html#objective\n",
    "\n",
    "# Define a pipeline to search for the best combination of PCA truncation\n",
    "\n",
    "pca_lgbm = PCA(n_components = .95,\n",
    "               svd_solver = 'auto')\n",
    "\n",
    "# Define a Standard Scaler to normalize inputs\n",
    "\n",
    "scaler_lgbm = RobustScaler()\n",
    "\n",
    "lr = 0.15\n",
    "boost = 'dart' #'gbdt' \n",
    "obj = 'binary'\n",
    "tl = 'voting' # 'data'\n",
    "numiter = 1000\n",
    "mbin = 300\n",
    "nleaves = 42\n",
    "\n",
    "\n",
    "# Scale -> PCA -> LR \n",
    "lgbm = lgb.LGBMClassifier(learning_rate = lr,\n",
    "                          boosting = boost,\n",
    "                          objective = obj,\n",
    "                          tree_learner = tl,\n",
    "                          #num_iterations = numiter,\n",
    "                          num_leaves = nleaves,\n",
    "                          max_bin = mbin,\n",
    "                          extra_trees = True)\n",
    "\n",
    "start_lgbm = time.time()\n",
    "pipe_lgbm = Pipeline(steps=[(\"scaler\", scaler_lgbm),\n",
    "                       (\"pca\", pca_lgbm),\n",
    "                       (\"LightGBM\", lgbm)])\n",
    "\n",
    "pipe_lgbm.fit(X_train,y_train)\n",
    "end_lgbm = time.time()\n",
    "\n",
    "#predict\n",
    "y_pred_lgbm=pipe_lgbm.predict(X_test)\n",
    "\n",
    "runtime_lgbm = end_lgbm-start_lgbm\n",
    "accuracy_lgbm = metrics.accuracy_score(y_test,y_pred_lgbm)\n",
    "precision_lgbm = metrics.precision_score(y_test, y_pred_lgbm)\n",
    "recall_lgbm = metrics.recall_score(y_test, y_pred_lgbm)\n",
    "\n",
    "#print results \n",
    "print('____________Start LightGBM Base Model Results______________:')\n",
    "print('Runtime:\\n',runtime_lgbm,'\\n')\n",
    "print('Accuracy:\\n',accuracy_lgbm,'\\n')\n",
    "print('Precision:\\n',recall_lgbm,'\\n')\n",
    "print('Recall:\\n',recall_lgbm,'\\n')\n",
    "print('____________End LightGBM Base Model Results________________')"
   ]
  }
 ],
 "metadata": {
  "kernelspec": {
   "display_name": "Python 3 (ipykernel)",
   "language": "python",
   "name": "python3"
  },
  "language_info": {
   "codemirror_mode": {
    "name": "ipython",
    "version": 3
   },
   "file_extension": ".py",
   "mimetype": "text/x-python",
   "name": "python",
   "nbconvert_exporter": "python",
   "pygments_lexer": "ipython3",
   "version": "3.9.7"
  }
 },
 "nbformat": 4,
 "nbformat_minor": 5
}
